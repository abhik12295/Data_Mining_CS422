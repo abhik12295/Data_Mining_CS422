{
 "cells": [
  {
   "cell_type": "markdown",
   "metadata": {},
   "source": [
    "# Conclusion \n",
    "#### New methods for determining the most interesting characteristics in data will be developed as a result of data mining research. Models can be used as a tool in further research as they are created and implemented. Although cross validation has demonstrated that my model does not overfit the data, I believe that further testing is needed to decide which function subset is truly the best.To improve the model's accuracy, further research is needed. I was able to reach the accuracy of ~49.99% which is low but would require more time and research in order to improve my model. \n",
    "#### Hence, I learned a lot from this project and was able to understand the core logic and methods of data mining to create a model which has to be trained. Though, I want to further study this dataset and enhance the accuracy and train my model to the best result in future."
   ]
  },
  {
   "cell_type": "markdown",
   "metadata": {},
   "source": [
    "# Bibliography\n",
    "1. Jason Brownlee, Multinomial Logostic Regression : https://machinelearningmastery.com/multinomial-logistic-regression-with-python/ 2021\n",
    "2. Will Koehrsen, Feature Selector: https://github.com/WillKoehrsen/feature-selector 2019\n",
    "3. X. Wu, V. Kumar and J. R. Quinlan, “Top 10 algorithms in data mining”, Knowledge and Information Systems, vol. 14, no. 1, (2008),\n",
    "4. M. Kantardzie,  “Data   mining:   concepts,   models,   methods,   and   algorithms”, JournalComputerInformationScienceEngineering, vol. 5, no. 4,(2005),\n",
    "5. Phillip Wirth, ONNX model, https://towardsdatascience.com/onnx-easily-exchange-deep-learning-models-f3c42100fd77"
   ]
  },
  {
   "cell_type": "code",
   "execution_count": null,
   "metadata": {},
   "outputs": [],
   "source": []
  }
 ],
 "metadata": {
  "kernelspec": {
   "display_name": "Python 3",
   "language": "python",
   "name": "python3"
  },
  "language_info": {
   "codemirror_mode": {
    "name": "ipython",
    "version": 3
   },
   "file_extension": ".py",
   "mimetype": "text/x-python",
   "name": "python",
   "nbconvert_exporter": "python",
   "pygments_lexer": "ipython3",
   "version": "3.8.5"
  }
 },
 "nbformat": 4,
 "nbformat_minor": 4
}
