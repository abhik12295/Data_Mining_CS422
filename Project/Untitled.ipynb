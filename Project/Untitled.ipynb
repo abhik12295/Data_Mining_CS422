{
 "cells": [
  {
   "cell_type": "code",
   "execution_count": 1,
   "id": "protective-ground",
   "metadata": {},
   "outputs": [],
   "source": [
    "import os\n",
    "import numpy as np\n",
    "import pandas as pd\n",
    "import matplotlib.pyplot as plt\n",
    "%matplotlib inline\n",
    "\n",
    "from sklearn import tree\n",
    "\n",
    "\n",
    "from sklearn_pandas import DataFrameMapper\n",
    "from sklearn import decomposition\n",
    "from sklearn.impute import SimpleImputer\n",
    "from sklearn.preprocessing import StandardScaler\n",
    "from sklearn.feature_selection import SelectKBest\n",
    "from sklearn.model_selection import train_test_split\n",
    "from sklearn.decomposition import PCA\n",
    "from sklearn.tree import DecisionTreeClassifier\n",
    "\n",
    "from sklearn.pipeline import Pipeline\n",
    "\n",
    "from sklearn2pmml import sklearn2pmml\n",
    "from sklearn2pmml.decoration import ContinuousDomain\n",
    "from sklearn2pmml.pipeline import PMMLPipeline\n",
    "\n",
    "\n",
    "from six import StringIO\n",
    "\n",
    "from IPython.display import Image\n",
    "\n",
    "from sklearn import tree\n",
    "import sklearn.datasets as datasets\n",
    "from sklearn.tree import export_graphviz\n",
    "import pydotplus\n",
    "import graphviz\n",
    "import math"
   ]
  },
  {
   "cell_type": "code",
   "execution_count": 2,
   "id": "starting-garden",
   "metadata": {},
   "outputs": [],
   "source": [
    "\n",
    "from sklearn.impute import SimpleImputer\n",
    "from sklearn.preprocessing import StandardScaler\n",
    "from sklearn.model_selection import train_test_split\n",
    "from sklearn.tree import DecisionTreeClassifier\n",
    "from sklearn.compose import ColumnTransformer\n",
    "from sklearn.pipeline import Pipeline\n",
    "#from skl2onnx.common.data_types import FloatTensorType\n",
    "#from skl2onnx import convert_sklearn"
   ]
  },
  {
   "cell_type": "code",
   "execution_count": 3,
   "id": "pending-sapphire",
   "metadata": {},
   "outputs": [
    {
     "name": "stdout",
     "output_type": "stream",
     "text": [
      "Collecting onnx==1.7.0\n",
      "  Using cached onnx-1.7.0.tar.gz (5.5 MB)\n",
      "  Installing build dependencies: started\n",
      "  Installing build dependencies: finished with status 'done'\n",
      "  Getting requirements to build wheel: started\n",
      "  Getting requirements to build wheel: finished with status 'error'\n",
      "Note: you may need to restart the kernel to use updated packages.\n"
     ]
    },
    {
     "name": "stderr",
     "output_type": "stream",
     "text": [
      "  ERROR: Command errored out with exit status 1:\n",
      "   command: 'c:\\users\\stuar\\appdata\\local\\programs\\python\\python39\\python.exe' 'c:\\users\\stuar\\appdata\\local\\programs\\python\\python39\\lib\\site-packages\\pip\\_vendor\\pep517\\_in_process.py' get_requires_for_build_wheel 'C:\\Users\\stuar\\AppData\\Local\\Temp\\tmpa7iq7c30'\n",
      "       cwd: C:\\Users\\stuar\\AppData\\Local\\Temp\\pip-install-ezs08w14\\onnx_b0cd1c34f65245acbe28c74621c070b9\n",
      "  Complete output (18 lines):\n",
      "  Traceback (most recent call last):\n",
      "    File \"c:\\users\\stuar\\appdata\\local\\programs\\python\\python39\\lib\\site-packages\\pip\\_vendor\\pep517\\_in_process.py\", line 280, in <module>\n",
      "      main()\n",
      "    File \"c:\\users\\stuar\\appdata\\local\\programs\\python\\python39\\lib\\site-packages\\pip\\_vendor\\pep517\\_in_process.py\", line 263, in main\n",
      "      json_out['return_val'] = hook(**hook_input['kwargs'])\n",
      "    File \"c:\\users\\stuar\\appdata\\local\\programs\\python\\python39\\lib\\site-packages\\pip\\_vendor\\pep517\\_in_process.py\", line 114, in get_requires_for_build_wheel\n",
      "      return hook(config_settings)\n",
      "    File \"C:\\Users\\stuar\\AppData\\Local\\Temp\\pip-build-env-lfz5drry\\overlay\\Lib\\site-packages\\setuptools\\build_meta.py\", line 154, in get_requires_for_build_wheel\n",
      "      return self._get_build_requires(\n",
      "    File \"C:\\Users\\stuar\\AppData\\Local\\Temp\\pip-build-env-lfz5drry\\overlay\\Lib\\site-packages\\setuptools\\build_meta.py\", line 135, in _get_build_requires\n",
      "      self.run_setup()\n",
      "    File \"C:\\Users\\stuar\\AppData\\Local\\Temp\\pip-build-env-lfz5drry\\overlay\\Lib\\site-packages\\setuptools\\build_meta.py\", line 258, in run_setup\n",
      "      super(_BuildMetaLegacyBackend,\n",
      "    File \"C:\\Users\\stuar\\AppData\\Local\\Temp\\pip-build-env-lfz5drry\\overlay\\Lib\\site-packages\\setuptools\\build_meta.py\", line 150, in run_setup\n",
      "      exec(compile(code, __file__, 'exec'), locals())\n",
      "    File \"setup.py\", line 75, in <module>\n",
      "      assert CMAKE, 'Could not find \"cmake\" executable!'\n",
      "  AssertionError: Could not find \"cmake\" executable!\n",
      "  ----------------------------------------\n",
      "WARNING: Discarding https://files.pythonhosted.org/packages/ad/09/113e46f2fe1a4c65dacb76645d8a5cc2064a8fce520c40611e9441c693f9/onnx-1.7.0.tar.gz#sha256=5e7abaaf71c9403354c406cf20975c1499399247e1f98b5a446a700d977bd948 (from https://pypi.org/simple/onnx/). Command errored out with exit status 1: 'c:\\users\\stuar\\appdata\\local\\programs\\python\\python39\\python.exe' 'c:\\users\\stuar\\appdata\\local\\programs\\python\\python39\\lib\\site-packages\\pip\\_vendor\\pep517\\_in_process.py' get_requires_for_build_wheel 'C:\\Users\\stuar\\AppData\\Local\\Temp\\tmpa7iq7c30' Check the logs for full command output.\n",
      "ERROR: Could not find a version that satisfies the requirement onnx==1.7.0\n",
      "ERROR: No matching distribution found for onnx==1.7.0\n"
     ]
    }
   ],
   "source": [
    "pip install onnx==1.7.0"
   ]
  },
  {
   "cell_type": "code",
   "execution_count": null,
   "id": "active-mongolia",
   "metadata": {},
   "outputs": [],
   "source": [
    "\n"
   ]
  },
  {
   "cell_type": "code",
   "execution_count": null,
   "id": "virtual-drink",
   "metadata": {},
   "outputs": [],
   "source": []
  },
  {
   "cell_type": "code",
   "execution_count": null,
   "id": "ranging-archives",
   "metadata": {},
   "outputs": [],
   "source": []
  }
 ],
 "metadata": {
  "kernelspec": {
   "display_name": "Python 3",
   "language": "python",
   "name": "python3"
  },
  "language_info": {
   "codemirror_mode": {
    "name": "ipython",
    "version": 3
   },
   "file_extension": ".py",
   "mimetype": "text/x-python",
   "name": "python",
   "nbconvert_exporter": "python",
   "pygments_lexer": "ipython3",
   "version": "3.9.1"
  }
 },
 "nbformat": 4,
 "nbformat_minor": 5
}
