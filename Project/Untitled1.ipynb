{
 "cells": [
  {
   "cell_type": "markdown",
   "metadata": {},
   "source": [
    "### Abhishek Kumar\n",
    "### CS-422 Data Mining Project\n",
    "### A20467982"
   ]
  },
  {
   "cell_type": "markdown",
   "metadata": {},
   "source": [
    "### Abstract\n",
    "#### Data mining projects can be difficult to complete and developing new model are quite resilient. A life cycle is critical to the overall performance of such projects in terms of project management and success rates. I learned about collecting data to be mined, cleaning it, and transforming its attributes to provide inputs for data mining models are all part of deploying a data mining solution. These models must also be developed, used, and incorporated with various applications. I learned to research, read, and understand the documentation of Python tools/packages, along with installing packages. Data cleaning has been identified as an important problem. However, little progress has been made thus far. It helps in understanding the process, methods, and do research in exploring the efficient model to apply on the given dataset. Indeed, it does not feed the system with every known data point in any related field. We want to feed the system with carefully curated data, hoping it can learn, and perhaps extend, at the margins, knowledge that people already have."
   ]
  },
  {
   "cell_type": "markdown",
   "metadata": {},
   "source": [
    "### Overview \n",
    "#### Problem statement: The aim of this project is to develop a model that generalizes far beyond the sample size.\n",
    "#### The project consists of three phases:\n",
    "#### (1) identify and categorize the possible error and accuracy in data from multiple sources,\n",
    "#### (2) survey the available and potentially usable techniques to address the problem  ; \n",
    "#### (3) and develop a method that can identify and resolve some of the errors and efficiently increase the accuracy of the given dataset"
   ]
  },
  {
   "cell_type": "markdown",
   "metadata": {},
   "source": [
    "### Python libraries and packages"
   ]
  },
  {
   "cell_type": "code",
   "execution_count": 47,
   "metadata": {},
   "outputs": [],
   "source": [
    "import os\n",
    "\n",
    "import numpy as np\n",
    "import pandas as pd\n",
    "import seaborn as sns\n",
    "\n",
    "import matplotlib.pyplot as plt\n",
    "%matplotlib inline\n",
    "\n",
    "from sklearn import metrics\n",
    "from sklearn import decomposition\n",
    "from sklearn.decomposition import PCA\n",
    "from sklearn_pandas import DataFrameMapper\n",
    "\n",
    "\n",
    "\n",
    "from sklearn.impute import SimpleImputer\n",
    "\n",
    "from sklearn.compose import ColumnTransformer\n",
    "\n",
    "from sklearn.pipeline import Pipeline\n",
    "\n",
    "from sklearn2pmml import sklearn2pmml\n",
    "from sklearn2pmml.pipeline import PMMLPipeline \n",
    "\n",
    "from sklearn.model_selection import GridSearchCV\n",
    "from sklearn.model_selection import KFold\n",
    "from sklearn.model_selection import cross_validate\n",
    "from sklearn.model_selection import train_test_split\n",
    "\n",
    "from feature_selector import FeatureSelector\n",
    "from mlxtend.feature_selection import ColumnSelector\n",
    "\n",
    "from sklearn.datasets import make_classification\n",
    "\n",
    "from sklearn.metrics import roc_curve,auc\n",
    "from sklearn.metrics import classification_report\n",
    "from sklearn.model_selection import cross_val_score\n",
    "\n",
    "from sklearn.impute import SimpleImputer\n",
    "\n",
    "from sklearn.preprocessing import StandardScaler\n",
    "from sklearn.preprocessing import MinMaxScaler, OneHotEncoder\n",
    "from sklearn.preprocessing import QuantileTransformer\n",
    "\n",
    "from sklearn.neighbors import KNeighborsClassifier\n",
    "from sklearn.tree import DecisionTreeClassifier, DecisionTreeRegressor\n",
    "from sklearn.ensemble import RandomForestClassifier\n",
    "from sklearn.linear_model import LogisticRegression\n",
    "\n",
    "from skl2onnx.common.data_types import FloatTensorType\n",
    "from skl2onnx import convert_sklearn\n",
    "from sklearn.feature_selection import SelectFromModel\n",
    "from sklearn.svm import LinearSVC\n",
    "\n",
    "import onnxruntime as rt \n",
    "from onnx.tools.net_drawer import GetPydotGraph,GetOpNodeProducer \n",
    "from onnxmltools.convert.common.shape_calculator import calculate_linear_classifier_output_shapes"
   ]
  },
  {
   "cell_type": "code",
   "execution_count": 48,
   "metadata": {},
   "outputs": [
    {
     "data": {
      "text/html": [
       "<div>\n",
       "<style scoped>\n",
       "    .dataframe tbody tr th:only-of-type {\n",
       "        vertical-align: middle;\n",
       "    }\n",
       "\n",
       "    .dataframe tbody tr th {\n",
       "        vertical-align: top;\n",
       "    }\n",
       "\n",
       "    .dataframe thead th {\n",
       "        text-align: right;\n",
       "    }\n",
       "</style>\n",
       "<table border=\"1\" class=\"dataframe\">\n",
       "  <thead>\n",
       "    <tr style=\"text-align: right;\">\n",
       "      <th></th>\n",
       "      <th>A</th>\n",
       "      <th>B</th>\n",
       "      <th>C</th>\n",
       "      <th>D</th>\n",
       "      <th>E</th>\n",
       "      <th>F</th>\n",
       "      <th>G</th>\n",
       "      <th>H</th>\n",
       "      <th>I</th>\n",
       "      <th>J</th>\n",
       "      <th>K</th>\n",
       "      <th>L</th>\n",
       "      <th>M</th>\n",
       "      <th>N</th>\n",
       "      <th>O</th>\n",
       "      <th>Class</th>\n",
       "    </tr>\n",
       "  </thead>\n",
       "  <tbody>\n",
       "    <tr>\n",
       "      <th>0</th>\n",
       "      <td>231.420023</td>\n",
       "      <td>-12.210984</td>\n",
       "      <td>217.624839</td>\n",
       "      <td>-15.611916</td>\n",
       "      <td>140.047185</td>\n",
       "      <td>76.904999</td>\n",
       "      <td>131.591871</td>\n",
       "      <td>198.160805</td>\n",
       "      <td>82.873279</td>\n",
       "      <td>127.350084</td>\n",
       "      <td>224.592926</td>\n",
       "      <td>-5.992983</td>\n",
       "      <td>-14.689648</td>\n",
       "      <td>143.072058</td>\n",
       "      <td>153.439659</td>\n",
       "      <td>2</td>\n",
       "    </tr>\n",
       "    <tr>\n",
       "      <th>1</th>\n",
       "      <td>-38.019270</td>\n",
       "      <td>-14.195695</td>\n",
       "      <td>9.583547</td>\n",
       "      <td>22.293822</td>\n",
       "      <td>-25.578283</td>\n",
       "      <td>-18.373955</td>\n",
       "      <td>-0.094457</td>\n",
       "      <td>-33.711852</td>\n",
       "      <td>-8.356041</td>\n",
       "      <td>23.792402</td>\n",
       "      <td>4.199023</td>\n",
       "      <td>2.809159</td>\n",
       "      <td>-59.330681</td>\n",
       "      <td>-11.685950</td>\n",
       "      <td>1.317104</td>\n",
       "      <td>3</td>\n",
       "    </tr>\n",
       "    <tr>\n",
       "      <th>2</th>\n",
       "      <td>-39.197085</td>\n",
       "      <td>-20.418850</td>\n",
       "      <td>21.023083</td>\n",
       "      <td>19.790280</td>\n",
       "      <td>-25.902587</td>\n",
       "      <td>-19.189004</td>\n",
       "      <td>-2.953836</td>\n",
       "      <td>-25.299219</td>\n",
       "      <td>-6.612401</td>\n",
       "      <td>26.285392</td>\n",
       "      <td>5.911292</td>\n",
       "      <td>6.191587</td>\n",
       "      <td>-56.924996</td>\n",
       "      <td>-4.675187</td>\n",
       "      <td>-1.027830</td>\n",
       "      <td>2</td>\n",
       "    </tr>\n",
       "    <tr>\n",
       "      <th>3</th>\n",
       "      <td>221.630408</td>\n",
       "      <td>-5.785352</td>\n",
       "      <td>216.725322</td>\n",
       "      <td>-9.900781</td>\n",
       "      <td>126.795177</td>\n",
       "      <td>85.122288</td>\n",
       "      <td>108.857593</td>\n",
       "      <td>197.640135</td>\n",
       "      <td>82.560019</td>\n",
       "      <td>157.105143</td>\n",
       "      <td>212.989231</td>\n",
       "      <td>-3.621070</td>\n",
       "      <td>-15.469156</td>\n",
       "      <td>135.265859</td>\n",
       "      <td>149.212489</td>\n",
       "      <td>2</td>\n",
       "    </tr>\n",
       "    <tr>\n",
       "      <th>4</th>\n",
       "      <td>228.558412</td>\n",
       "      <td>-12.447710</td>\n",
       "      <td>204.637218</td>\n",
       "      <td>-13.277704</td>\n",
       "      <td>138.930529</td>\n",
       "      <td>91.101870</td>\n",
       "      <td>115.598954</td>\n",
       "      <td>209.300011</td>\n",
       "      <td>89.961688</td>\n",
       "      <td>130.299732</td>\n",
       "      <td>201.795100</td>\n",
       "      <td>-1.573922</td>\n",
       "      <td>-15.128603</td>\n",
       "      <td>148.368622</td>\n",
       "      <td>147.492663</td>\n",
       "      <td>3</td>\n",
       "    </tr>\n",
       "  </tbody>\n",
       "</table>\n",
       "</div>"
      ],
      "text/plain": [
       "            A          B           C          D           E          F  \\\n",
       "0  231.420023 -12.210984  217.624839 -15.611916  140.047185  76.904999   \n",
       "1  -38.019270 -14.195695    9.583547  22.293822  -25.578283 -18.373955   \n",
       "2  -39.197085 -20.418850   21.023083  19.790280  -25.902587 -19.189004   \n",
       "3  221.630408  -5.785352  216.725322  -9.900781  126.795177  85.122288   \n",
       "4  228.558412 -12.447710  204.637218 -13.277704  138.930529  91.101870   \n",
       "\n",
       "            G           H          I           J           K         L  \\\n",
       "0  131.591871  198.160805  82.873279  127.350084  224.592926 -5.992983   \n",
       "1   -0.094457  -33.711852  -8.356041   23.792402    4.199023  2.809159   \n",
       "2   -2.953836  -25.299219  -6.612401   26.285392    5.911292  6.191587   \n",
       "3  108.857593  197.640135  82.560019  157.105143  212.989231 -3.621070   \n",
       "4  115.598954  209.300011  89.961688  130.299732  201.795100 -1.573922   \n",
       "\n",
       "           M           N           O  Class  \n",
       "0 -14.689648  143.072058  153.439659      2  \n",
       "1 -59.330681  -11.685950    1.317104      3  \n",
       "2 -56.924996   -4.675187   -1.027830      2  \n",
       "3 -15.469156  135.265859  149.212489      2  \n",
       "4 -15.128603  148.368622  147.492663      3  "
      ]
     },
     "execution_count": 48,
     "metadata": {},
     "output_type": "execute_result"
    }
   ],
   "source": [
    "df=pd.read_csv('data_public.csv.gz',compression='gzip',header=0,sep=',',quotechar='\"')\n",
    "df.head()"
   ]
  },
  {
   "cell_type": "code",
   "execution_count": 49,
   "metadata": {},
   "outputs": [
    {
     "data": {
      "text/plain": [
       "A        0\n",
       "B        0\n",
       "C        0\n",
       "D        0\n",
       "E        0\n",
       "F        0\n",
       "G        0\n",
       "H        0\n",
       "I        0\n",
       "J        0\n",
       "K        0\n",
       "L        0\n",
       "M        0\n",
       "N        0\n",
       "O        0\n",
       "Class    0\n",
       "dtype: int64"
      ]
     },
     "execution_count": 49,
     "metadata": {},
     "output_type": "execute_result"
    }
   ],
   "source": [
    "num_vars = df.columns[df.dtypes!='object']\n",
    "cat_vars = df.columns[df.dtypes=='object']\n",
    "df[num_vars].isnull().sum()"
   ]
  },
  {
   "cell_type": "markdown",
   "metadata": {},
   "source": [
    "### Data Processing"
   ]
  },
  {
   "cell_type": "markdown",
   "metadata": {},
   "source": [
    "#### ‘train_test_split()’ method function split arrays or matrices into random train and test subsets \n",
    "#### First, separate the features(X) from the labels(Y).\n",
    "\n",
    "- X: All the features minus the value we want to predict.\n",
    "\n",
    "- Y: Class Label - Value we want to predict.\n",
    "\n",
    "#### Second, use Scikit-learn to randomly shuffle this data into four variables. In this case, I'm training 70% of the data, then testing against the other 30%."
   ]
  },
  {
   "cell_type": "code",
   "execution_count": 50,
   "metadata": {},
   "outputs": [
    {
     "name": "stdout",
     "output_type": "stream",
     "text": [
      "\n",
      "******************** Training data ********************\n"
     ]
    },
    {
     "data": {
      "text/html": [
       "<div>\n",
       "<style scoped>\n",
       "    .dataframe tbody tr th:only-of-type {\n",
       "        vertical-align: middle;\n",
       "    }\n",
       "\n",
       "    .dataframe tbody tr th {\n",
       "        vertical-align: top;\n",
       "    }\n",
       "\n",
       "    .dataframe thead th {\n",
       "        text-align: right;\n",
       "    }\n",
       "</style>\n",
       "<table border=\"1\" class=\"dataframe\">\n",
       "  <thead>\n",
       "    <tr style=\"text-align: right;\">\n",
       "      <th></th>\n",
       "      <th>A</th>\n",
       "      <th>B</th>\n",
       "      <th>C</th>\n",
       "      <th>D</th>\n",
       "      <th>E</th>\n",
       "      <th>F</th>\n",
       "      <th>G</th>\n",
       "      <th>H</th>\n",
       "      <th>I</th>\n",
       "      <th>J</th>\n",
       "      <th>K</th>\n",
       "      <th>L</th>\n",
       "      <th>M</th>\n",
       "      <th>N</th>\n",
       "      <th>O</th>\n",
       "      <th>Class</th>\n",
       "    </tr>\n",
       "  </thead>\n",
       "  <tbody>\n",
       "    <tr>\n",
       "      <th>1001103</th>\n",
       "      <td>-35.110439</td>\n",
       "      <td>-12.347259</td>\n",
       "      <td>9.942710</td>\n",
       "      <td>13.397650</td>\n",
       "      <td>-21.936382</td>\n",
       "      <td>-27.895079</td>\n",
       "      <td>1.946777</td>\n",
       "      <td>-24.535140</td>\n",
       "      <td>-4.698546</td>\n",
       "      <td>24.945670</td>\n",
       "      <td>3.256112</td>\n",
       "      <td>3.984136</td>\n",
       "      <td>-54.073989</td>\n",
       "      <td>-2.645166</td>\n",
       "      <td>5.303716</td>\n",
       "      <td>1</td>\n",
       "    </tr>\n",
       "    <tr>\n",
       "      <th>457980</th>\n",
       "      <td>230.452730</td>\n",
       "      <td>-10.397837</td>\n",
       "      <td>219.932637</td>\n",
       "      <td>-9.942152</td>\n",
       "      <td>121.950581</td>\n",
       "      <td>68.262415</td>\n",
       "      <td>112.376267</td>\n",
       "      <td>211.182477</td>\n",
       "      <td>88.217924</td>\n",
       "      <td>139.980997</td>\n",
       "      <td>203.459954</td>\n",
       "      <td>0.080898</td>\n",
       "      <td>-12.582176</td>\n",
       "      <td>152.267695</td>\n",
       "      <td>155.197791</td>\n",
       "      <td>2</td>\n",
       "    </tr>\n",
       "    <tr>\n",
       "      <th>579314</th>\n",
       "      <td>-39.728447</td>\n",
       "      <td>-13.368732</td>\n",
       "      <td>1.821195</td>\n",
       "      <td>21.233740</td>\n",
       "      <td>-26.279616</td>\n",
       "      <td>-29.433928</td>\n",
       "      <td>-2.562266</td>\n",
       "      <td>-27.892616</td>\n",
       "      <td>-7.239721</td>\n",
       "      <td>21.470408</td>\n",
       "      <td>0.381308</td>\n",
       "      <td>5.411868</td>\n",
       "      <td>-53.458654</td>\n",
       "      <td>-5.463586</td>\n",
       "      <td>-2.430118</td>\n",
       "      <td>2</td>\n",
       "    </tr>\n",
       "    <tr>\n",
       "      <th>765943</th>\n",
       "      <td>244.137967</td>\n",
       "      <td>-10.264700</td>\n",
       "      <td>226.682031</td>\n",
       "      <td>-12.687747</td>\n",
       "      <td>130.290220</td>\n",
       "      <td>88.758232</td>\n",
       "      <td>121.712836</td>\n",
       "      <td>201.091447</td>\n",
       "      <td>80.602231</td>\n",
       "      <td>121.957299</td>\n",
       "      <td>206.552450</td>\n",
       "      <td>-9.360301</td>\n",
       "      <td>-22.157111</td>\n",
       "      <td>144.866029</td>\n",
       "      <td>153.030429</td>\n",
       "      <td>2</td>\n",
       "    </tr>\n",
       "    <tr>\n",
       "      <th>79427</th>\n",
       "      <td>-42.311717</td>\n",
       "      <td>-22.291997</td>\n",
       "      <td>9.249230</td>\n",
       "      <td>24.679396</td>\n",
       "      <td>-21.990499</td>\n",
       "      <td>-18.249143</td>\n",
       "      <td>-5.901953</td>\n",
       "      <td>-27.673327</td>\n",
       "      <td>-14.712656</td>\n",
       "      <td>21.660847</td>\n",
       "      <td>4.260098</td>\n",
       "      <td>5.047994</td>\n",
       "      <td>-53.872241</td>\n",
       "      <td>-6.162497</td>\n",
       "      <td>2.682549</td>\n",
       "      <td>1</td>\n",
       "    </tr>\n",
       "  </tbody>\n",
       "</table>\n",
       "</div>"
      ],
      "text/plain": [
       "                  A          B           C          D           E          F  \\\n",
       "1001103  -35.110439 -12.347259    9.942710  13.397650  -21.936382 -27.895079   \n",
       "457980   230.452730 -10.397837  219.932637  -9.942152  121.950581  68.262415   \n",
       "579314   -39.728447 -13.368732    1.821195  21.233740  -26.279616 -29.433928   \n",
       "765943   244.137967 -10.264700  226.682031 -12.687747  130.290220  88.758232   \n",
       "79427    -42.311717 -22.291997    9.249230  24.679396  -21.990499 -18.249143   \n",
       "\n",
       "                  G           H          I           J           K         L  \\\n",
       "1001103    1.946777  -24.535140  -4.698546   24.945670    3.256112  3.984136   \n",
       "457980   112.376267  211.182477  88.217924  139.980997  203.459954  0.080898   \n",
       "579314    -2.562266  -27.892616  -7.239721   21.470408    0.381308  5.411868   \n",
       "765943   121.712836  201.091447  80.602231  121.957299  206.552450 -9.360301   \n",
       "79427     -5.901953  -27.673327 -14.712656   21.660847    4.260098  5.047994   \n",
       "\n",
       "                 M           N           O  Class  \n",
       "1001103 -54.073989   -2.645166    5.303716      1  \n",
       "457980  -12.582176  152.267695  155.197791      2  \n",
       "579314  -53.458654   -5.463586   -2.430118      2  \n",
       "765943  -22.157111  144.866029  153.030429      2  \n",
       "79427   -53.872241   -6.162497    2.682549      1  "
      ]
     },
     "execution_count": 50,
     "metadata": {},
     "output_type": "execute_result"
    }
   ],
   "source": [
    "labels = ['A','B','C','D','E','F','G','H','I','J','K','L','M','N','O']\n",
    "X = pd.DataFrame(data=df.drop('Class',axis=1),columns=labels)\n",
    "Y = pd.DataFrame(data=df['Class'],columns=['Class'])\n",
    "X_train,X_test,Y_train,Y_test = train_test_split(X,Y,test_size=0.3)\n",
    "training_data = pd.concat([X_train,Y_train],axis=1)\n",
    "\n",
    "print(\"\\n******************** Training data ********************\")\n",
    "training_data.head()\n"
   ]
  },
  {
   "cell_type": "code",
   "execution_count": 51,
   "metadata": {},
   "outputs": [
    {
     "name": "stdout",
     "output_type": "stream",
     "text": [
      "\n",
      "******************** Test data ********************\n"
     ]
    },
    {
     "data": {
      "text/html": [
       "<div>\n",
       "<style scoped>\n",
       "    .dataframe tbody tr th:only-of-type {\n",
       "        vertical-align: middle;\n",
       "    }\n",
       "\n",
       "    .dataframe tbody tr th {\n",
       "        vertical-align: top;\n",
       "    }\n",
       "\n",
       "    .dataframe thead th {\n",
       "        text-align: right;\n",
       "    }\n",
       "</style>\n",
       "<table border=\"1\" class=\"dataframe\">\n",
       "  <thead>\n",
       "    <tr style=\"text-align: right;\">\n",
       "      <th></th>\n",
       "      <th>A</th>\n",
       "      <th>B</th>\n",
       "      <th>C</th>\n",
       "      <th>D</th>\n",
       "      <th>E</th>\n",
       "      <th>F</th>\n",
       "      <th>G</th>\n",
       "      <th>H</th>\n",
       "      <th>I</th>\n",
       "      <th>J</th>\n",
       "      <th>K</th>\n",
       "      <th>L</th>\n",
       "      <th>M</th>\n",
       "      <th>N</th>\n",
       "      <th>O</th>\n",
       "    </tr>\n",
       "  </thead>\n",
       "  <tbody>\n",
       "    <tr>\n",
       "      <th>982870</th>\n",
       "      <td>-32.806445</td>\n",
       "      <td>-7.612771</td>\n",
       "      <td>14.928463</td>\n",
       "      <td>21.704369</td>\n",
       "      <td>-19.002601</td>\n",
       "      <td>-34.673451</td>\n",
       "      <td>1.051975</td>\n",
       "      <td>-24.100352</td>\n",
       "      <td>-8.300025</td>\n",
       "      <td>23.181405</td>\n",
       "      <td>1.818101</td>\n",
       "      <td>4.219895</td>\n",
       "      <td>-54.675986</td>\n",
       "      <td>-11.951310</td>\n",
       "      <td>-0.023011</td>\n",
       "    </tr>\n",
       "    <tr>\n",
       "      <th>917024</th>\n",
       "      <td>235.871126</td>\n",
       "      <td>-11.236162</td>\n",
       "      <td>218.204149</td>\n",
       "      <td>-13.061673</td>\n",
       "      <td>129.584280</td>\n",
       "      <td>85.167901</td>\n",
       "      <td>134.472116</td>\n",
       "      <td>202.458240</td>\n",
       "      <td>66.867769</td>\n",
       "      <td>134.987630</td>\n",
       "      <td>228.611966</td>\n",
       "      <td>-6.492893</td>\n",
       "      <td>-28.111128</td>\n",
       "      <td>150.258530</td>\n",
       "      <td>154.732373</td>\n",
       "    </tr>\n",
       "    <tr>\n",
       "      <th>854672</th>\n",
       "      <td>-59.158743</td>\n",
       "      <td>-57.549283</td>\n",
       "      <td>-37.413488</td>\n",
       "      <td>-113.194496</td>\n",
       "      <td>-18.962228</td>\n",
       "      <td>-131.693436</td>\n",
       "      <td>-56.982405</td>\n",
       "      <td>-9.522220</td>\n",
       "      <td>53.282912</td>\n",
       "      <td>-90.381530</td>\n",
       "      <td>46.683870</td>\n",
       "      <td>-32.762417</td>\n",
       "      <td>-35.587918</td>\n",
       "      <td>37.687957</td>\n",
       "      <td>61.703494</td>\n",
       "    </tr>\n",
       "    <tr>\n",
       "      <th>284286</th>\n",
       "      <td>-35.336289</td>\n",
       "      <td>-16.227000</td>\n",
       "      <td>11.173417</td>\n",
       "      <td>19.718846</td>\n",
       "      <td>-24.106394</td>\n",
       "      <td>-22.477240</td>\n",
       "      <td>-0.389432</td>\n",
       "      <td>-25.910978</td>\n",
       "      <td>-10.370952</td>\n",
       "      <td>24.663597</td>\n",
       "      <td>2.848733</td>\n",
       "      <td>-0.839201</td>\n",
       "      <td>-55.281918</td>\n",
       "      <td>-2.525145</td>\n",
       "      <td>2.307983</td>\n",
       "    </tr>\n",
       "    <tr>\n",
       "      <th>801432</th>\n",
       "      <td>237.278878</td>\n",
       "      <td>-5.346782</td>\n",
       "      <td>220.753410</td>\n",
       "      <td>-14.458745</td>\n",
       "      <td>134.614570</td>\n",
       "      <td>89.606306</td>\n",
       "      <td>123.457527</td>\n",
       "      <td>201.520356</td>\n",
       "      <td>86.756915</td>\n",
       "      <td>117.948109</td>\n",
       "      <td>222.493395</td>\n",
       "      <td>-0.784379</td>\n",
       "      <td>-14.259451</td>\n",
       "      <td>141.230845</td>\n",
       "      <td>156.862962</td>\n",
       "    </tr>\n",
       "    <tr>\n",
       "      <th>...</th>\n",
       "      <td>...</td>\n",
       "      <td>...</td>\n",
       "      <td>...</td>\n",
       "      <td>...</td>\n",
       "      <td>...</td>\n",
       "      <td>...</td>\n",
       "      <td>...</td>\n",
       "      <td>...</td>\n",
       "      <td>...</td>\n",
       "      <td>...</td>\n",
       "      <td>...</td>\n",
       "      <td>...</td>\n",
       "      <td>...</td>\n",
       "      <td>...</td>\n",
       "      <td>...</td>\n",
       "    </tr>\n",
       "    <tr>\n",
       "      <th>905633</th>\n",
       "      <td>-39.410332</td>\n",
       "      <td>-18.753808</td>\n",
       "      <td>6.000460</td>\n",
       "      <td>18.635392</td>\n",
       "      <td>-29.358904</td>\n",
       "      <td>-30.205367</td>\n",
       "      <td>3.777898</td>\n",
       "      <td>-30.108391</td>\n",
       "      <td>-5.598258</td>\n",
       "      <td>35.765597</td>\n",
       "      <td>-3.081205</td>\n",
       "      <td>7.905560</td>\n",
       "      <td>-52.078873</td>\n",
       "      <td>-5.951235</td>\n",
       "      <td>-0.216368</td>\n",
       "    </tr>\n",
       "    <tr>\n",
       "      <th>617592</th>\n",
       "      <td>-58.520455</td>\n",
       "      <td>-46.217688</td>\n",
       "      <td>-40.757228</td>\n",
       "      <td>-115.941650</td>\n",
       "      <td>-19.855153</td>\n",
       "      <td>-131.226244</td>\n",
       "      <td>-51.305881</td>\n",
       "      <td>-13.336107</td>\n",
       "      <td>52.947037</td>\n",
       "      <td>-90.683331</td>\n",
       "      <td>31.376229</td>\n",
       "      <td>-35.749333</td>\n",
       "      <td>-52.000327</td>\n",
       "      <td>27.783829</td>\n",
       "      <td>61.528746</td>\n",
       "    </tr>\n",
       "    <tr>\n",
       "      <th>791891</th>\n",
       "      <td>230.407794</td>\n",
       "      <td>-8.061797</td>\n",
       "      <td>216.146844</td>\n",
       "      <td>-14.924281</td>\n",
       "      <td>133.495863</td>\n",
       "      <td>59.724164</td>\n",
       "      <td>116.959392</td>\n",
       "      <td>196.793912</td>\n",
       "      <td>86.744760</td>\n",
       "      <td>125.307073</td>\n",
       "      <td>217.916330</td>\n",
       "      <td>-1.467580</td>\n",
       "      <td>-16.971563</td>\n",
       "      <td>154.441186</td>\n",
       "      <td>149.818143</td>\n",
       "    </tr>\n",
       "    <tr>\n",
       "      <th>212229</th>\n",
       "      <td>-32.859503</td>\n",
       "      <td>-10.252158</td>\n",
       "      <td>4.571131</td>\n",
       "      <td>27.353440</td>\n",
       "      <td>-24.347174</td>\n",
       "      <td>-34.598631</td>\n",
       "      <td>-10.995891</td>\n",
       "      <td>-25.121329</td>\n",
       "      <td>-4.870423</td>\n",
       "      <td>26.492555</td>\n",
       "      <td>0.945532</td>\n",
       "      <td>9.443123</td>\n",
       "      <td>-55.206194</td>\n",
       "      <td>-9.258924</td>\n",
       "      <td>3.149833</td>\n",
       "    </tr>\n",
       "    <tr>\n",
       "      <th>391578</th>\n",
       "      <td>221.379453</td>\n",
       "      <td>-10.617080</td>\n",
       "      <td>209.005993</td>\n",
       "      <td>-14.937145</td>\n",
       "      <td>122.419834</td>\n",
       "      <td>82.060899</td>\n",
       "      <td>121.486871</td>\n",
       "      <td>203.201425</td>\n",
       "      <td>84.472423</td>\n",
       "      <td>127.516313</td>\n",
       "      <td>192.614902</td>\n",
       "      <td>-3.824649</td>\n",
       "      <td>-17.238147</td>\n",
       "      <td>125.215834</td>\n",
       "      <td>154.993503</td>\n",
       "    </tr>\n",
       "  </tbody>\n",
       "</table>\n",
       "<p>360000 rows × 15 columns</p>\n",
       "</div>"
      ],
      "text/plain": [
       "                 A          B           C           D           E           F  \\\n",
       "982870  -32.806445  -7.612771   14.928463   21.704369  -19.002601  -34.673451   \n",
       "917024  235.871126 -11.236162  218.204149  -13.061673  129.584280   85.167901   \n",
       "854672  -59.158743 -57.549283  -37.413488 -113.194496  -18.962228 -131.693436   \n",
       "284286  -35.336289 -16.227000   11.173417   19.718846  -24.106394  -22.477240   \n",
       "801432  237.278878  -5.346782  220.753410  -14.458745  134.614570   89.606306   \n",
       "...            ...        ...         ...         ...         ...         ...   \n",
       "905633  -39.410332 -18.753808    6.000460   18.635392  -29.358904  -30.205367   \n",
       "617592  -58.520455 -46.217688  -40.757228 -115.941650  -19.855153 -131.226244   \n",
       "791891  230.407794  -8.061797  216.146844  -14.924281  133.495863   59.724164   \n",
       "212229  -32.859503 -10.252158    4.571131   27.353440  -24.347174  -34.598631   \n",
       "391578  221.379453 -10.617080  209.005993  -14.937145  122.419834   82.060899   \n",
       "\n",
       "                 G           H          I           J           K          L  \\\n",
       "982870    1.051975  -24.100352  -8.300025   23.181405    1.818101   4.219895   \n",
       "917024  134.472116  202.458240  66.867769  134.987630  228.611966  -6.492893   \n",
       "854672  -56.982405   -9.522220  53.282912  -90.381530   46.683870 -32.762417   \n",
       "284286   -0.389432  -25.910978 -10.370952   24.663597    2.848733  -0.839201   \n",
       "801432  123.457527  201.520356  86.756915  117.948109  222.493395  -0.784379   \n",
       "...            ...         ...        ...         ...         ...        ...   \n",
       "905633    3.777898  -30.108391  -5.598258   35.765597   -3.081205   7.905560   \n",
       "617592  -51.305881  -13.336107  52.947037  -90.683331   31.376229 -35.749333   \n",
       "791891  116.959392  196.793912  86.744760  125.307073  217.916330  -1.467580   \n",
       "212229  -10.995891  -25.121329  -4.870423   26.492555    0.945532   9.443123   \n",
       "391578  121.486871  203.201425  84.472423  127.516313  192.614902  -3.824649   \n",
       "\n",
       "                M           N           O  \n",
       "982870 -54.675986  -11.951310   -0.023011  \n",
       "917024 -28.111128  150.258530  154.732373  \n",
       "854672 -35.587918   37.687957   61.703494  \n",
       "284286 -55.281918   -2.525145    2.307983  \n",
       "801432 -14.259451  141.230845  156.862962  \n",
       "...           ...         ...         ...  \n",
       "905633 -52.078873   -5.951235   -0.216368  \n",
       "617592 -52.000327   27.783829   61.528746  \n",
       "791891 -16.971563  154.441186  149.818143  \n",
       "212229 -55.206194   -9.258924    3.149833  \n",
       "391578 -17.238147  125.215834  154.993503  \n",
       "\n",
       "[360000 rows x 15 columns]"
      ]
     },
     "metadata": {},
     "output_type": "display_data"
    }
   ],
   "source": [
    "print(\"\\n******************** Test data ********************\")\n",
    "display(X_test)"
   ]
  },
  {
   "cell_type": "markdown",
   "metadata": {},
   "source": [
    "#### Finding any missing value using FeatureSelector property. "
   ]
  },
  {
   "cell_type": "code",
   "execution_count": 52,
   "metadata": {},
   "outputs": [
    {
     "name": "stdout",
     "output_type": "stream",
     "text": [
      "No labels provided. Feature importance based methods are not available.\n",
      "0 features with greater than 0.00 missing values.\n",
      "\n"
     ]
    }
   ],
   "source": [
    "fs_missing_test=FeatureSelector(data=training_data)#This tests all features and the class labels\n",
    "fs_missing_test.identify_missing(missing_threshold=0)"
   ]
  },
  {
   "cell_type": "markdown",
   "metadata": {},
   "source": [
    "#### Applying PCA , for reducing the dimensionality of such datasets, increasing interpretability but at the same time minimizing information loss. It does so by creating new uncorrelated variables that successively maximize variance. And also check, need of pca components for data analysis"
   ]
  },
  {
   "cell_type": "code",
   "execution_count": 53,
   "metadata": {},
   "outputs": [
    {
     "data": {
      "image/png": "[encoded data removed]",
      "text/plain": [
       "<Figure size 640x480 with 1 Axes>"
      ]
     },
     "metadata": {},
     "output_type": "display_data"
    }
   ],
   "source": [
    "sc = QuantileTransformer()\n",
    "df_scaled = sc.fit_transform(df.drop('Class',axis=1))\n",
    "df_scaled = pd.DataFrame(df_scaled,columns=labels)\n",
    "df_scaled = pd.concat([df_scaled,df['Class']],axis=1)\n",
    "\n",
    "pca_test = decomposition.PCA(n_components=15)\n",
    "\n",
    "pca_test.fit(df_scaled.drop('Class',axis=1))\n",
    "\n",
    "plt.plot(np.cumsum(pca_test.explained_variance_ratio_))\n",
    "\n",
    "plt.xlabel('number of components')\n",
    "plt.ylabel('explained variance')\n",
    "plt.show()\n"
   ]
  },
  {
   "cell_type": "markdown",
   "metadata": {},
   "source": [
    "#### So,  from the above graph, it shows that bent of elbow at 1, that is number of component is 1, so used this in all pipeline."
   ]
  },
  {
   "cell_type": "code",
   "execution_count": 54,
   "metadata": {},
   "outputs": [
    {
     "data": {
      "text/plain": [
       "array([0.58426791, 0.23312231, 0.03029826, 0.02077847, 0.0197978 ,\n",
       "       0.01194113, 0.0111523 , 0.0111429 , 0.01111829, 0.01111348,\n",
       "       0.01108424, 0.01107475, 0.01106041, 0.01103111, 0.01101665])"
      ]
     },
     "execution_count": 54,
     "metadata": {},
     "output_type": "execute_result"
    }
   ],
   "source": [
    "pca_test.explained_variance_ratio_"
   ]
  },
  {
   "cell_type": "markdown",
   "metadata": {},
   "source": [
    "### Feature selection techniques that are easy to use and also gives good results.\n",
    "#### Using ExtraClassClassifier class which implements a meta estimator that fits a number of randomized decision trees (a.k.a. extra-trees) on various sub-samples of the dataset and uses averaging to improve the predictive accuracy and control over-fitting"
   ]
  },
  {
   "cell_type": "code",
   "execution_count": 55,
   "metadata": {},
   "outputs": [
    {
     "name": "stderr",
     "output_type": "stream",
     "text": [
      "<ipython-input-55-f4cf1722d5d5>:4: DataConversionWarning: A column-vector y was passed when a 1d array was expected. Please change the shape of y to (n_samples,), for example using ravel().\n",
      "  model.fit(X,Y)\n"
     ]
    },
    {
     "name": "stdout",
     "output_type": "stream",
     "text": [
      "[0.06664519 0.06667884 0.06661918 0.0667196  0.06664757 0.06669851\n",
      " 0.0666527  0.06666342 0.06663205 0.06664711 0.06665607 0.06670036\n",
      " 0.06667379 0.06668981 0.06667581]\n"
     ]
    },
    {
     "data": {
      "image/png": "[encoded data removed]",
      "text/plain": [
       "<Figure size 640x480 with 1 Axes>"
      ]
     },
     "metadata": {},
     "output_type": "display_data"
    }
   ],
   "source": [
    "from sklearn.ensemble import ExtraTreesClassifier\n",
    "import matplotlib.pyplot as plt\n",
    "model = ExtraTreesClassifier()\n",
    "model.fit(X,Y)\n",
    "print(model.feature_importances_) \n",
    "#use inbuilt class feature_importances of tree based classifiers\n",
    "#plot graph of feature importances for better visualization\n",
    "feat_importances = pd.Series(model.feature_importances_, index=X.columns)\n",
    "feat_importances.nlargest(10).plot(kind='barh')\n",
    "plt.show()"
   ]
  },
  {
   "cell_type": "markdown",
   "metadata": {},
   "source": [
    "#### Feature importance gives you a score for each feature of your data, the higher the score more important or relevant is the feature towards your output variable. Feature importance is an inbuilt class that comes with Tree Based Classifiers, we will be using Extra Tree Classifier for extracting the top 10 features for the dataset. Here, top 10 features are: I, H, J, G, N, O, B, L, E, K, D"
   ]
  },
  {
   "cell_type": "markdown",
   "metadata": {},
   "source": [
    "### Data analysis\n",
    "#### The data classification can be performed using more than  one  technique  i.e.  logistic  regression  and RandomForest Classifier.  These  approached  can  be used  to  train  and  classify  our  data  and  to  make predictions.  We  can  later  compare  our  results obtained  from  each  approach  and  find  out  which approach works best with the project. I have worked on  RandomForest Classifier and Logistic regression method and obtain result from them. Moreover, for the  data  exploration "
   ]
  },
  {
   "cell_type": "markdown",
   "metadata": {},
   "source": [
    "### Hypothesis \n",
    "#### That a drop in accuracy means the removed function is one of the problematic ones that causes the model to be overfit. The initial pipeline and parameters were a slightly changed version of the one shown in the example notebook. We're using all of the features and attempting to determine the overall accuracy of the dataset by removing each column one at a time. Here, we used DataFrameMapper(), a class for mapping pandas data frame columns to different sklearn transformations. Further, transformed features as QuantileTransformer(). As a classifier, used Decision Tree Classifier, to create a model that predicts the value of a target variable by learning simple decision rules inferred from the data features."
   ]
  },
  {
   "cell_type": "code",
   "execution_count": 56,
   "metadata": {},
   "outputs": [
    {
     "name": "stdout",
     "output_type": "stream",
     "text": [
      "Dropped feature: A , Accuracy: 0.4988694444444444\n",
      "Dropped feature: B , Accuracy: 0.4988666666666667\n",
      "Dropped feature: C , Accuracy: 0.4988666666666667\n",
      "Dropped feature: D , Accuracy: 0.49882777777777776\n",
      "Dropped feature: E , Accuracy: 0.4988444444444444\n",
      "Dropped feature: F , Accuracy: 0.4988611111111111\n",
      "Dropped feature: G , Accuracy: 0.4988638888888889\n",
      "Dropped feature: H , Accuracy: 0.4988722222222222\n",
      "Dropped feature: I , Accuracy: 0.49883333333333335\n",
      "Dropped feature: J , Accuracy: 0.4987666666666667\n",
      "Dropped feature: K , Accuracy: 0.49885277777777776\n",
      "Dropped feature: L , Accuracy: 0.49885833333333335\n",
      "Dropped feature: M , Accuracy: 0.49887777777777775\n",
      "Dropped feature: N , Accuracy: 0.49885833333333335\n",
      "Dropped feature: O , Accuracy: 0.49885555555555555\n"
     ]
    }
   ],
   "source": [
    "features='ABCDEFGHIJKLMNO'\n",
    "for i in range(0,len(features)):\n",
    "    pipeline=Pipeline([('mapper',DataFrameMapper([(X_train.columns.drop([features[i:i+1]]).values,\n",
    "                                                       [QuantileTransformer()])])),\n",
    "                           ('pca',PCA(n_components=1)),\n",
    "                           ('classifier',DecisionTreeClassifier(max_depth=3))])\n",
    "    pipeline.fit(training_data.drop([features[i:i+1]],axis=1),training_data['Class'])\n",
    "    results = pipeline.predict(X_test)\n",
    "    actual = np.concatenate(Y_test.values)\n",
    "    print(\"Dropped feature:\",features[i:i+1],\", Accuracy:\",metrics.accuracy_score(actual,results))"
   ]
  },
  {
   "cell_type": "markdown",
   "metadata": {},
   "source": [
    "#### Here, we can observe that some of the features after being dropped, results in minor change in accuracy. So, we chose the by selecting multiple features from top 10- feature selection method in order to check the accuracy of dataset to be modelled. Additionally, at this point in the project I switched to using Logistic Regression in my pipeline, however, at this stage they are untuned."
   ]
  },
  {
   "cell_type": "code",
   "execution_count": 57,
   "metadata": {},
   "outputs": [
    {
     "name": "stdout",
     "output_type": "stream",
     "text": [
      " Accuracy: 0.4988694444444444\n"
     ]
    }
   ],
   "source": [
    "to_drop = ['B', 'G', 'O']\n",
    "transform_1 = Pipeline(steps=[('imputer', SimpleImputer(strategy='median')), \n",
    "                              ('scaler', MinMaxScaler())])\n",
    "preprocessor = ColumnTransformer(transformers=[('num',transform_1, to_drop)])\n",
    "pipeline = Pipeline(steps=[('preprocessor', preprocessor),\n",
    "                      ('classifier', LogisticRegression())])\n",
    "pipeline.fit(X_train,Y_train.values.ravel())\n",
    "results = pipeline.predict(X_test)\n",
    "actual = np.concatenate(Y_test.values)\n",
    "print(\" Accuracy:\",metrics.accuracy_score(actual,results))"
   ]
  },
  {
   "cell_type": "code",
   "execution_count": 58,
   "metadata": {},
   "outputs": [
    {
     "data": {
      "text/html": [
       "<div>\n",
       "<style scoped>\n",
       "    .dataframe tbody tr th:only-of-type {\n",
       "        vertical-align: middle;\n",
       "    }\n",
       "\n",
       "    .dataframe tbody tr th {\n",
       "        vertical-align: top;\n",
       "    }\n",
       "\n",
       "    .dataframe thead th {\n",
       "        text-align: right;\n",
       "    }\n",
       "</style>\n",
       "<table border=\"1\" class=\"dataframe\">\n",
       "  <thead>\n",
       "    <tr style=\"text-align: right;\">\n",
       "      <th></th>\n",
       "      <th>A</th>\n",
       "      <th>B</th>\n",
       "      <th>C</th>\n",
       "      <th>D</th>\n",
       "      <th>E</th>\n",
       "      <th>F</th>\n",
       "      <th>G</th>\n",
       "      <th>H</th>\n",
       "      <th>I</th>\n",
       "      <th>J</th>\n",
       "      <th>K</th>\n",
       "      <th>L</th>\n",
       "      <th>M</th>\n",
       "      <th>N</th>\n",
       "      <th>O</th>\n",
       "      <th>Class</th>\n",
       "    </tr>\n",
       "  </thead>\n",
       "  <tbody>\n",
       "    <tr>\n",
       "      <th>A</th>\n",
       "      <td>1.000000</td>\n",
       "      <td>0.455949</td>\n",
       "      <td>0.991999</td>\n",
       "      <td>0.071330</td>\n",
       "      <td>0.990703</td>\n",
       "      <td>0.905353</td>\n",
       "      <td>0.972223</td>\n",
       "      <td>0.988807</td>\n",
       "      <td>0.818399</td>\n",
       "      <td>0.870016</td>\n",
       "      <td>0.968827</td>\n",
       "      <td>0.139619</td>\n",
       "      <td>0.958931</td>\n",
       "      <td>0.953081</td>\n",
       "      <td>0.920322</td>\n",
       "      <td>-0.000620</td>\n",
       "    </tr>\n",
       "    <tr>\n",
       "      <th>B</th>\n",
       "      <td>0.455949</td>\n",
       "      <td>1.000000</td>\n",
       "      <td>0.541742</td>\n",
       "      <td>0.865856</td>\n",
       "      <td>0.352946</td>\n",
       "      <td>0.760708</td>\n",
       "      <td>0.620607</td>\n",
       "      <td>0.339549</td>\n",
       "      <td>-0.098558</td>\n",
       "      <td>0.803246</td>\n",
       "      <td>0.246429</td>\n",
       "      <td>0.854635</td>\n",
       "      <td>0.345030</td>\n",
       "      <td>0.194578</td>\n",
       "      <td>0.098805</td>\n",
       "      <td>0.000138</td>\n",
       "    </tr>\n",
       "    <tr>\n",
       "      <th>C</th>\n",
       "      <td>0.991999</td>\n",
       "      <td>0.541742</td>\n",
       "      <td>1.000000</td>\n",
       "      <td>0.176224</td>\n",
       "      <td>0.971805</td>\n",
       "      <td>0.943482</td>\n",
       "      <td>0.988351</td>\n",
       "      <td>0.968342</td>\n",
       "      <td>0.753474</td>\n",
       "      <td>0.915784</td>\n",
       "      <td>0.937868</td>\n",
       "      <td>0.238723</td>\n",
       "      <td>0.941040</td>\n",
       "      <td>0.916578</td>\n",
       "      <td>0.873800</td>\n",
       "      <td>-0.000686</td>\n",
       "    </tr>\n",
       "    <tr>\n",
       "      <th>D</th>\n",
       "      <td>0.071330</td>\n",
       "      <td>0.865856</td>\n",
       "      <td>0.176224</td>\n",
       "      <td>1.000000</td>\n",
       "      <td>-0.047459</td>\n",
       "      <td>0.477183</td>\n",
       "      <td>0.279248</td>\n",
       "      <td>-0.062451</td>\n",
       "      <td>-0.502643</td>\n",
       "      <td>0.544357</td>\n",
       "      <td>-0.163679</td>\n",
       "      <td>0.949485</td>\n",
       "      <td>-0.042057</td>\n",
       "      <td>-0.217856</td>\n",
       "      <td>-0.316241</td>\n",
       "      <td>0.000150</td>\n",
       "    </tr>\n",
       "    <tr>\n",
       "      <th>E</th>\n",
       "      <td>0.990703</td>\n",
       "      <td>0.352946</td>\n",
       "      <td>0.971805</td>\n",
       "      <td>-0.047459</td>\n",
       "      <td>1.000000</td>\n",
       "      <td>0.849129</td>\n",
       "      <td>0.939705</td>\n",
       "      <td>0.997116</td>\n",
       "      <td>0.879142</td>\n",
       "      <td>0.805749</td>\n",
       "      <td>0.989217</td>\n",
       "      <td>0.026319</td>\n",
       "      <td>0.964769</td>\n",
       "      <td>0.979925</td>\n",
       "      <td>0.958885</td>\n",
       "      <td>-0.000649</td>\n",
       "    </tr>\n",
       "    <tr>\n",
       "      <th>F</th>\n",
       "      <td>0.905353</td>\n",
       "      <td>0.760708</td>\n",
       "      <td>0.943482</td>\n",
       "      <td>0.477183</td>\n",
       "      <td>0.849129</td>\n",
       "      <td>1.000000</td>\n",
       "      <td>0.969055</td>\n",
       "      <td>0.841227</td>\n",
       "      <td>0.508345</td>\n",
       "      <td>0.989868</td>\n",
       "      <td>0.781534</td>\n",
       "      <td>0.518117</td>\n",
       "      <td>0.823551</td>\n",
       "      <td>0.745156</td>\n",
       "      <td>0.675416</td>\n",
       "      <td>-0.000540</td>\n",
       "    </tr>\n",
       "    <tr>\n",
       "      <th>G</th>\n",
       "      <td>0.972223</td>\n",
       "      <td>0.620607</td>\n",
       "      <td>0.988351</td>\n",
       "      <td>0.279248</td>\n",
       "      <td>0.939705</td>\n",
       "      <td>0.969055</td>\n",
       "      <td>1.000000</td>\n",
       "      <td>0.934714</td>\n",
       "      <td>0.678043</td>\n",
       "      <td>0.949429</td>\n",
       "      <td>0.894114</td>\n",
       "      <td>0.335039</td>\n",
       "      <td>0.910385</td>\n",
       "      <td>0.867546</td>\n",
       "      <td>0.815281</td>\n",
       "      <td>-0.000472</td>\n",
       "    </tr>\n",
       "    <tr>\n",
       "      <th>H</th>\n",
       "      <td>0.988807</td>\n",
       "      <td>0.339549</td>\n",
       "      <td>0.968342</td>\n",
       "      <td>-0.062451</td>\n",
       "      <td>0.997116</td>\n",
       "      <td>0.841227</td>\n",
       "      <td>0.934714</td>\n",
       "      <td>1.000000</td>\n",
       "      <td>0.886017</td>\n",
       "      <td>0.796856</td>\n",
       "      <td>0.990875</td>\n",
       "      <td>0.012005</td>\n",
       "      <td>0.964627</td>\n",
       "      <td>0.982403</td>\n",
       "      <td>0.962873</td>\n",
       "      <td>-0.000670</td>\n",
       "    </tr>\n",
       "    <tr>\n",
       "      <th>I</th>\n",
       "      <td>0.818399</td>\n",
       "      <td>-0.098558</td>\n",
       "      <td>0.753474</td>\n",
       "      <td>-0.502643</td>\n",
       "      <td>0.879142</td>\n",
       "      <td>0.508345</td>\n",
       "      <td>0.678043</td>\n",
       "      <td>0.886017</td>\n",
       "      <td>1.000000</td>\n",
       "      <td>0.439881</td>\n",
       "      <td>0.926217</td>\n",
       "      <td>-0.418110</td>\n",
       "      <td>0.848801</td>\n",
       "      <td>0.943365</td>\n",
       "      <td>0.970965</td>\n",
       "      <td>-0.000766</td>\n",
       "    </tr>\n",
       "    <tr>\n",
       "      <th>J</th>\n",
       "      <td>0.870016</td>\n",
       "      <td>0.803246</td>\n",
       "      <td>0.915784</td>\n",
       "      <td>0.544357</td>\n",
       "      <td>0.805749</td>\n",
       "      <td>0.989868</td>\n",
       "      <td>0.949429</td>\n",
       "      <td>0.796856</td>\n",
       "      <td>0.439881</td>\n",
       "      <td>1.000000</td>\n",
       "      <td>0.730841</td>\n",
       "      <td>0.579309</td>\n",
       "      <td>0.781815</td>\n",
       "      <td>0.691273</td>\n",
       "      <td>0.615931</td>\n",
       "      <td>-0.000333</td>\n",
       "    </tr>\n",
       "    <tr>\n",
       "      <th>K</th>\n",
       "      <td>0.968827</td>\n",
       "      <td>0.246429</td>\n",
       "      <td>0.937868</td>\n",
       "      <td>-0.163679</td>\n",
       "      <td>0.989217</td>\n",
       "      <td>0.781534</td>\n",
       "      <td>0.894114</td>\n",
       "      <td>0.990875</td>\n",
       "      <td>0.926217</td>\n",
       "      <td>0.730841</td>\n",
       "      <td>1.000000</td>\n",
       "      <td>-0.085543</td>\n",
       "      <td>0.956598</td>\n",
       "      <td>0.992158</td>\n",
       "      <td>0.982980</td>\n",
       "      <td>-0.000693</td>\n",
       "    </tr>\n",
       "    <tr>\n",
       "      <th>L</th>\n",
       "      <td>0.139619</td>\n",
       "      <td>0.854635</td>\n",
       "      <td>0.238723</td>\n",
       "      <td>0.949485</td>\n",
       "      <td>0.026319</td>\n",
       "      <td>0.518117</td>\n",
       "      <td>0.335039</td>\n",
       "      <td>0.012005</td>\n",
       "      <td>-0.418110</td>\n",
       "      <td>0.579309</td>\n",
       "      <td>-0.085543</td>\n",
       "      <td>1.000000</td>\n",
       "      <td>0.029013</td>\n",
       "      <td>-0.138097</td>\n",
       "      <td>-0.233820</td>\n",
       "      <td>0.000094</td>\n",
       "    </tr>\n",
       "    <tr>\n",
       "      <th>M</th>\n",
       "      <td>0.958931</td>\n",
       "      <td>0.345030</td>\n",
       "      <td>0.941040</td>\n",
       "      <td>-0.042057</td>\n",
       "      <td>0.964769</td>\n",
       "      <td>0.823551</td>\n",
       "      <td>0.910385</td>\n",
       "      <td>0.964627</td>\n",
       "      <td>0.848801</td>\n",
       "      <td>0.781815</td>\n",
       "      <td>0.956598</td>\n",
       "      <td>0.029013</td>\n",
       "      <td>1.000000</td>\n",
       "      <td>0.947381</td>\n",
       "      <td>0.926620</td>\n",
       "      <td>-0.000662</td>\n",
       "    </tr>\n",
       "    <tr>\n",
       "      <th>N</th>\n",
       "      <td>0.953081</td>\n",
       "      <td>0.194578</td>\n",
       "      <td>0.916578</td>\n",
       "      <td>-0.217856</td>\n",
       "      <td>0.979925</td>\n",
       "      <td>0.745156</td>\n",
       "      <td>0.867546</td>\n",
       "      <td>0.982403</td>\n",
       "      <td>0.943365</td>\n",
       "      <td>0.691273</td>\n",
       "      <td>0.992158</td>\n",
       "      <td>-0.138097</td>\n",
       "      <td>0.947381</td>\n",
       "      <td>1.000000</td>\n",
       "      <td>0.988920</td>\n",
       "      <td>-0.000722</td>\n",
       "    </tr>\n",
       "    <tr>\n",
       "      <th>O</th>\n",
       "      <td>0.920322</td>\n",
       "      <td>0.098805</td>\n",
       "      <td>0.873800</td>\n",
       "      <td>-0.316241</td>\n",
       "      <td>0.958885</td>\n",
       "      <td>0.675416</td>\n",
       "      <td>0.815281</td>\n",
       "      <td>0.962873</td>\n",
       "      <td>0.970965</td>\n",
       "      <td>0.615931</td>\n",
       "      <td>0.982980</td>\n",
       "      <td>-0.233820</td>\n",
       "      <td>0.926620</td>\n",
       "      <td>0.988920</td>\n",
       "      <td>1.000000</td>\n",
       "      <td>-0.000700</td>\n",
       "    </tr>\n",
       "    <tr>\n",
       "      <th>Class</th>\n",
       "      <td>-0.000620</td>\n",
       "      <td>0.000138</td>\n",
       "      <td>-0.000686</td>\n",
       "      <td>0.000150</td>\n",
       "      <td>-0.000649</td>\n",
       "      <td>-0.000540</td>\n",
       "      <td>-0.000472</td>\n",
       "      <td>-0.000670</td>\n",
       "      <td>-0.000766</td>\n",
       "      <td>-0.000333</td>\n",
       "      <td>-0.000693</td>\n",
       "      <td>0.000094</td>\n",
       "      <td>-0.000662</td>\n",
       "      <td>-0.000722</td>\n",
       "      <td>-0.000700</td>\n",
       "      <td>1.000000</td>\n",
       "    </tr>\n",
       "  </tbody>\n",
       "</table>\n",
       "</div>"
      ],
      "text/plain": [
       "              A         B         C         D         E         F         G  \\\n",
       "A      1.000000  0.455949  0.991999  0.071330  0.990703  0.905353  0.972223   \n",
       "B      0.455949  1.000000  0.541742  0.865856  0.352946  0.760708  0.620607   \n",
       "C      0.991999  0.541742  1.000000  0.176224  0.971805  0.943482  0.988351   \n",
       "D      0.071330  0.865856  0.176224  1.000000 -0.047459  0.477183  0.279248   \n",
       "E      0.990703  0.352946  0.971805 -0.047459  1.000000  0.849129  0.939705   \n",
       "F      0.905353  0.760708  0.943482  0.477183  0.849129  1.000000  0.969055   \n",
       "G      0.972223  0.620607  0.988351  0.279248  0.939705  0.969055  1.000000   \n",
       "H      0.988807  0.339549  0.968342 -0.062451  0.997116  0.841227  0.934714   \n",
       "I      0.818399 -0.098558  0.753474 -0.502643  0.879142  0.508345  0.678043   \n",
       "J      0.870016  0.803246  0.915784  0.544357  0.805749  0.989868  0.949429   \n",
       "K      0.968827  0.246429  0.937868 -0.163679  0.989217  0.781534  0.894114   \n",
       "L      0.139619  0.854635  0.238723  0.949485  0.026319  0.518117  0.335039   \n",
       "M      0.958931  0.345030  0.941040 -0.042057  0.964769  0.823551  0.910385   \n",
       "N      0.953081  0.194578  0.916578 -0.217856  0.979925  0.745156  0.867546   \n",
       "O      0.920322  0.098805  0.873800 -0.316241  0.958885  0.675416  0.815281   \n",
       "Class -0.000620  0.000138 -0.000686  0.000150 -0.000649 -0.000540 -0.000472   \n",
       "\n",
       "              H         I         J         K         L         M         N  \\\n",
       "A      0.988807  0.818399  0.870016  0.968827  0.139619  0.958931  0.953081   \n",
       "B      0.339549 -0.098558  0.803246  0.246429  0.854635  0.345030  0.194578   \n",
       "C      0.968342  0.753474  0.915784  0.937868  0.238723  0.941040  0.916578   \n",
       "D     -0.062451 -0.502643  0.544357 -0.163679  0.949485 -0.042057 -0.217856   \n",
       "E      0.997116  0.879142  0.805749  0.989217  0.026319  0.964769  0.979925   \n",
       "F      0.841227  0.508345  0.989868  0.781534  0.518117  0.823551  0.745156   \n",
       "G      0.934714  0.678043  0.949429  0.894114  0.335039  0.910385  0.867546   \n",
       "H      1.000000  0.886017  0.796856  0.990875  0.012005  0.964627  0.982403   \n",
       "I      0.886017  1.000000  0.439881  0.926217 -0.418110  0.848801  0.943365   \n",
       "J      0.796856  0.439881  1.000000  0.730841  0.579309  0.781815  0.691273   \n",
       "K      0.990875  0.926217  0.730841  1.000000 -0.085543  0.956598  0.992158   \n",
       "L      0.012005 -0.418110  0.579309 -0.085543  1.000000  0.029013 -0.138097   \n",
       "M      0.964627  0.848801  0.781815  0.956598  0.029013  1.000000  0.947381   \n",
       "N      0.982403  0.943365  0.691273  0.992158 -0.138097  0.947381  1.000000   \n",
       "O      0.962873  0.970965  0.615931  0.982980 -0.233820  0.926620  0.988920   \n",
       "Class -0.000670 -0.000766 -0.000333 -0.000693  0.000094 -0.000662 -0.000722   \n",
       "\n",
       "              O     Class  \n",
       "A      0.920322 -0.000620  \n",
       "B      0.098805  0.000138  \n",
       "C      0.873800 -0.000686  \n",
       "D     -0.316241  0.000150  \n",
       "E      0.958885 -0.000649  \n",
       "F      0.675416 -0.000540  \n",
       "G      0.815281 -0.000472  \n",
       "H      0.962873 -0.000670  \n",
       "I      0.970965 -0.000766  \n",
       "J      0.615931 -0.000333  \n",
       "K      0.982980 -0.000693  \n",
       "L     -0.233820  0.000094  \n",
       "M      0.926620 -0.000662  \n",
       "N      0.988920 -0.000722  \n",
       "O      1.000000 -0.000700  \n",
       "Class -0.000700  1.000000  "
      ]
     },
     "execution_count": 58,
     "metadata": {},
     "output_type": "execute_result"
    }
   ],
   "source": [
    "df.corr('pearson')"
   ]
  },
  {
   "cell_type": "code",
   "execution_count": 59,
   "metadata": {},
   "outputs": [
    {
     "data": {
      "image/png": "[encoded data removed]",
      "text/plain": [
       "<Figure size 900x900 with 16 Axes>"
      ]
     },
     "metadata": {},
     "output_type": "display_data"
    }
   ],
   "source": [
    "fig1=plt.figure()\n",
    "for i in range(1,16):\n",
    "    fig1.add_subplot(4,4,i)\n",
    "    plt.hist(df[features[i-1:i]],bins=20)\n",
    "    plt.title(features[i-1:i])\n",
    "fig1.add_subplot(4,4,16)\n",
    "plt.hist(df['Class'],bins=20)\n",
    "plt.title('Class')\n",
    "fig1.subplots_adjust(hspace=1,wspace=1)\n",
    "fig1.set_figheight(9)\n",
    "fig1.set_figwidth(9)"
   ]
  },
  {
   "cell_type": "markdown",
   "metadata": {},
   "source": [
    "#### K-fold Accuracy method for estimating the performance of a learning algorithm or configuration on a dataset."
   ]
  },
  {
   "cell_type": "code",
   "execution_count": 60,
   "metadata": {},
   "outputs": [],
   "source": [
    "def plotAccuracyKFold(scores, model):\n",
    "    plt.figure()\n",
    "    sns.set_style('dark')\n",
    "    plt.plot(range(1,len(scores)+1), scores, 'b')\n",
    "    plt.title(\"10 fold Accuracy of \"+model)\n",
    "    plt.xlabel(\"k\")\n",
    "    plt.ylabel(\"Accuracy\")\n",
    "    plt.show()"
   ]
  },
  {
   "cell_type": "markdown",
   "metadata": {},
   "source": [
    "#### Heatmap makes it easy to identify which features are most related to the target variable. Thus, we will plot heatmap of correlated features using the seaborn library.  Adding redundant variables reduces the model's generalization potential while also lowering the overall accuracy of a classifier. Adding more variables to a model often increases the overall complexity.\n",
    "#### There are five methods used to identify features to remove:\n",
    "\n",
    "    Missing Values\n",
    "    Single Unique Values\n",
    "    Collinear Features\n",
    "    Zero Importance Features\n",
    "    Low Importance Features\n",
    "\n",
    "#### The FeatureSelector also includes a number of visualization methods to inspect characteristics of a dataset\n",
    "#### Heatmap makes it easy to identify which features are most related to the target variable, we will plot heatmap of correlated features. A neat visualization we can make with correlations is a heatmap. This shows all the features that have at least one correlation above the threshold:\n"
   ]
  },
  {
   "cell_type": "code",
   "execution_count": 61,
   "metadata": {},
   "outputs": [
    {
     "name": "stdout",
     "output_type": "stream",
     "text": [
      "8 features with a correlation magnitude greater than 0.98.\n",
      "\n"
     ]
    }
   ],
   "source": [
    "fs=FeatureSelector(data=training_data.drop('Class',axis=1),labels=training_data['Class'])\n",
    "fs.identify_collinear(correlation_threshold=0.98)"
   ]
  },
  {
   "cell_type": "code",
   "execution_count": 62,
   "metadata": {},
   "outputs": [
    {
     "data": {
      "image/png": "[encoded data removed]",
      "text/plain": [
       "<Figure size 1000x800 with 2 Axes>"
      ]
     },
     "metadata": {},
     "output_type": "display_data"
    }
   ],
   "source": [
    "fs.plot_collinear(plot_all=True)"
   ]
  },
  {
   "cell_type": "code",
   "execution_count": 63,
   "metadata": {},
   "outputs": [
    {
     "data": {
      "text/html": [
       "<div>\n",
       "<style scoped>\n",
       "    .dataframe tbody tr th:only-of-type {\n",
       "        vertical-align: middle;\n",
       "    }\n",
       "\n",
       "    .dataframe tbody tr th {\n",
       "        vertical-align: top;\n",
       "    }\n",
       "\n",
       "    .dataframe thead th {\n",
       "        text-align: right;\n",
       "    }\n",
       "</style>\n",
       "<table border=\"1\" class=\"dataframe\">\n",
       "  <thead>\n",
       "    <tr style=\"text-align: right;\">\n",
       "      <th></th>\n",
       "      <th>drop_feature</th>\n",
       "      <th>corr_feature</th>\n",
       "      <th>corr_value</th>\n",
       "    </tr>\n",
       "  </thead>\n",
       "  <tbody>\n",
       "    <tr>\n",
       "      <th>0</th>\n",
       "      <td>C</td>\n",
       "      <td>A</td>\n",
       "      <td>0.992005</td>\n",
       "    </tr>\n",
       "    <tr>\n",
       "      <th>1</th>\n",
       "      <td>E</td>\n",
       "      <td>A</td>\n",
       "      <td>0.990706</td>\n",
       "    </tr>\n",
       "    <tr>\n",
       "      <th>2</th>\n",
       "      <td>G</td>\n",
       "      <td>C</td>\n",
       "      <td>0.988354</td>\n",
       "    </tr>\n",
       "    <tr>\n",
       "      <th>3</th>\n",
       "      <td>H</td>\n",
       "      <td>A</td>\n",
       "      <td>0.988817</td>\n",
       "    </tr>\n",
       "    <tr>\n",
       "      <th>4</th>\n",
       "      <td>H</td>\n",
       "      <td>E</td>\n",
       "      <td>0.997113</td>\n",
       "    </tr>\n",
       "    <tr>\n",
       "      <th>5</th>\n",
       "      <td>J</td>\n",
       "      <td>F</td>\n",
       "      <td>0.989866</td>\n",
       "    </tr>\n",
       "    <tr>\n",
       "      <th>6</th>\n",
       "      <td>K</td>\n",
       "      <td>E</td>\n",
       "      <td>0.989222</td>\n",
       "    </tr>\n",
       "    <tr>\n",
       "      <th>7</th>\n",
       "      <td>K</td>\n",
       "      <td>H</td>\n",
       "      <td>0.990878</td>\n",
       "    </tr>\n",
       "    <tr>\n",
       "      <th>8</th>\n",
       "      <td>N</td>\n",
       "      <td>H</td>\n",
       "      <td>0.982397</td>\n",
       "    </tr>\n",
       "    <tr>\n",
       "      <th>9</th>\n",
       "      <td>N</td>\n",
       "      <td>K</td>\n",
       "      <td>0.992151</td>\n",
       "    </tr>\n",
       "    <tr>\n",
       "      <th>10</th>\n",
       "      <td>O</td>\n",
       "      <td>K</td>\n",
       "      <td>0.982981</td>\n",
       "    </tr>\n",
       "    <tr>\n",
       "      <th>11</th>\n",
       "      <td>O</td>\n",
       "      <td>N</td>\n",
       "      <td>0.988920</td>\n",
       "    </tr>\n",
       "  </tbody>\n",
       "</table>\n",
       "</div>"
      ],
      "text/plain": [
       "   drop_feature corr_feature  corr_value\n",
       "0             C            A    0.992005\n",
       "1             E            A    0.990706\n",
       "2             G            C    0.988354\n",
       "3             H            A    0.988817\n",
       "4             H            E    0.997113\n",
       "5             J            F    0.989866\n",
       "6             K            E    0.989222\n",
       "7             K            H    0.990878\n",
       "8             N            H    0.982397\n",
       "9             N            K    0.992151\n",
       "10            O            K    0.982981\n",
       "11            O            N    0.988920"
      ]
     },
     "execution_count": 63,
     "metadata": {},
     "output_type": "execute_result"
    }
   ],
   "source": [
    "collinear_features=fs.ops['collinear']\n",
    "fs.record_collinear"
   ]
  },
  {
   "cell_type": "markdown",
   "metadata": {},
   "source": [
    "#### Zero importance feature to eliminate the unwanted features"
   ]
  },
  {
   "cell_type": "code",
   "execution_count": 64,
   "metadata": {},
   "outputs": [
    {
     "name": "stdout",
     "output_type": "stream",
     "text": [
      "Training Gradient Boosting Model\n",
      "\n",
      "Training until validation scores don't improve for 100 rounds\n",
      "Early stopping, best iteration is:\n",
      "[1]\tvalid_0's multi_error: 0.500437\tvalid_0's multi_logloss: 1.01138\n",
      "Training until validation scores don't improve for 100 rounds\n",
      "Early stopping, best iteration is:\n",
      "[1]\tvalid_0's multi_error: 0.500437\tvalid_0's multi_logloss: 1.01138\n",
      "Training until validation scores don't improve for 100 rounds\n",
      "Early stopping, best iteration is:\n",
      "[1]\tvalid_0's multi_error: 0.500437\tvalid_0's multi_logloss: 1.01139\n",
      "Training until validation scores don't improve for 100 rounds\n",
      "Early stopping, best iteration is:\n",
      "[1]\tvalid_0's multi_error: 0.500437\tvalid_0's multi_logloss: 1.01139\n",
      "Training until validation scores don't improve for 100 rounds\n",
      "Early stopping, best iteration is:\n",
      "[3]\tvalid_0's multi_error: 0.500437\tvalid_0's multi_logloss: 1.01138\n",
      "Training until validation scores don't improve for 100 rounds\n",
      "Early stopping, best iteration is:\n",
      "[2]\tvalid_0's multi_error: 0.500437\tvalid_0's multi_logloss: 1.01138\n",
      "Training until validation scores don't improve for 100 rounds\n",
      "Early stopping, best iteration is:\n",
      "[3]\tvalid_0's multi_error: 0.500437\tvalid_0's multi_logloss: 1.01139\n",
      "Training until validation scores don't improve for 100 rounds\n",
      "Early stopping, best iteration is:\n",
      "[1]\tvalid_0's multi_error: 0.500437\tvalid_0's multi_logloss: 1.01139\n",
      "Training until validation scores don't improve for 100 rounds\n",
      "Early stopping, best iteration is:\n",
      "[1]\tvalid_0's multi_error: 0.500437\tvalid_0's multi_logloss: 1.01138\n",
      "Training until validation scores don't improve for 100 rounds\n",
      "Early stopping, best iteration is:\n",
      "[1]\tvalid_0's multi_error: 0.500437\tvalid_0's multi_logloss: 1.01138\n",
      "\n",
      "0 features with zero importance after one-hot encoding.\n",
      "\n"
     ]
    }
   ],
   "source": [
    "fs.identify_zero_importance(task='classification',eval_metric='multi_error',n_iterations=10,early_stopping=True)"
   ]
  },
  {
   "cell_type": "markdown",
   "metadata": {},
   "source": [
    "#### Here, it shows, none of the features are less important during one-hot encoding. Though we used by plotting graph of it find any conclusive result.  "
   ]
  },
  {
   "cell_type": "code",
   "execution_count": 65,
   "metadata": {},
   "outputs": [
    {
     "data": {
      "image/png": "[encoded data removed]",
      "text/plain": [
       "<Figure size 1000x600 with 1 Axes>"
      ]
     },
     "metadata": {},
     "output_type": "display_data"
    },
    {
     "data": {
      "image/png": "[encoded data removed]",
      "text/plain": [
       "<Figure size 600x400 with 1 Axes>"
      ]
     },
     "metadata": {},
     "output_type": "display_data"
    },
    {
     "name": "stdout",
     "output_type": "stream",
     "text": [
      "12 features required for 0.80 of cumulative importance\n"
     ]
    }
   ],
   "source": [
    "zero_importance_features=fs.ops['zero_importance']\n",
    "fs.plot_feature_importances(threshold=0.80,plot_n=15)"
   ]
  },
  {
   "cell_type": "code",
   "execution_count": 66,
   "metadata": {},
   "outputs": [
    {
     "name": "stdout",
     "output_type": "stream",
     "text": [
      " Accuracy: 0.4988722222222222\n"
     ]
    }
   ],
   "source": [
    "to_keep1 = ['M','B','N','I','O','J','D','A','K','G']\n",
    "transform_2 = Pipeline(steps=[('imputer', SimpleImputer(strategy='mean')), \n",
    "                              ('scaler', StandardScaler())])\n",
    "preprocessor1 = ColumnTransformer(transformers=[('num',transform_2, to_keep1)])\n",
    "pipeline1 = Pipeline(steps=[('preprocessor', preprocessor1),\n",
    "                      ('classifier', DecisionTreeClassifier(max_depth=3))])\n",
    "pipeline1.fit(X_train,Y_train.values.ravel())\n",
    "results = pipeline1.predict(X_test)\n",
    "actual = np.concatenate(Y_test.values)\n",
    "print(\" Accuracy:\",metrics.accuracy_score(actual,results))"
   ]
  },
  {
   "cell_type": "markdown",
   "metadata": {},
   "source": [
    "#### After selecting the features, I was able to maximize the accuracy of model, but that's not much significant result. Here, I used Decision Tree Classifier and Standard Scaler as classifer and scaler respectively. \n",
    "#### Decision Tree Classfier: This is a class capable of performing multi-class classification on a dataset. It is also  capable of both binary (where the labels are [-1, 1]) classification and multiclass (where the labels are [0, …, K-1]) classification"
   ]
  },
  {
   "cell_type": "code",
   "execution_count": 67,
   "metadata": {},
   "outputs": [
    {
     "data": {
      "image/png": "[encoded data removed]",
      "text/plain": [
       "<Figure size 640x480 with 1 Axes>"
      ]
     },
     "metadata": {},
     "output_type": "display_data"
    }
   ],
   "source": [
    "scores = cross_val_score(DecisionTreeClassifier(max_depth=3), X_train, Y_train.values.ravel(), cv=10)\n",
    "plotAccuracyKFold(scores,'DecisionTree Classifier')"
   ]
  },
  {
   "cell_type": "markdown",
   "metadata": {},
   "source": [
    "#### After selecting the features, I was able to increase the accuracy of model, but that's not much significant result. Here, I used RandomForest Tree Classifier and Standard Scaler as classifer and scaler respectively. \n",
    "#### Random Forest Tree Classfier: It is a meta estimator that fits a number of decision tree classifiers on various sub-samples of the dataset and uses averaging to improve the predictive accuracy and control over-fitting."
   ]
  },
  {
   "cell_type": "code",
   "execution_count": 68,
   "metadata": {},
   "outputs": [
    {
     "name": "stdout",
     "output_type": "stream",
     "text": [
      " Accuracy: 0.4988694444444444\n"
     ]
    }
   ],
   "source": [
    "to_keep2 = ['A','B','D','I','G','O']\n",
    "transform_3 = Pipeline(steps=[('imputer', SimpleImputer(strategy='mean')),('pca',PCA(n_components=1)), \n",
    "                              ('scaler', QuantileTransformer())])\n",
    "preprocessor2 = ColumnTransformer(transformers=[('num',transform_3, to_keep2)])\n",
    "pipeline2 = Pipeline(steps=[('preprocessor', preprocessor1),\n",
    "                      ('classifier', RandomForestClassifier(max_depth=2,n_estimators=10))])\n",
    "pipeline2.fit(X_train,Y_train.values.ravel())\n",
    "results = pipeline2.predict(X_test)\n",
    "actual = np.concatenate(Y_test.values)\n",
    "print(\" Accuracy:\",metrics.accuracy_score(actual,results))"
   ]
  },
  {
   "cell_type": "markdown",
   "metadata": {},
   "source": [
    "#### Here, it shows slight change and decrement in accuracy as we reduced the feature and even when applied different model, so we chose Decision Tree to be more efficient over Random Tree Classifier. But, can apply with different feature as Brute Force method to check for any improvement of the model.\n"
   ]
  },
  {
   "cell_type": "markdown",
   "metadata": {},
   "source": [
    "### Cross Validation using K-fold\n",
    "#### It is a resampling procedure used to evaluate machine learning models on a limited data sample. The procedure has a single parameter called k that refers to the number of groups that a given data sample is to be split into.  "
   ]
  },
  {
   "cell_type": "code",
   "execution_count": 69,
   "metadata": {},
   "outputs": [
    {
     "data": {
      "image/png": "[encoded data removed]",
      "text/plain": [
       "<Figure size 640x480 with 1 Axes>"
      ]
     },
     "metadata": {},
     "output_type": "display_data"
    }
   ],
   "source": [
    "scoresRF = cross_val_score(RandomForestClassifier(max_depth=2,n_estimators=10), X_train, Y_train.values.ravel(), cv=10)\n",
    "plotAccuracyKFold(scoresRF,'RandomForest Classifier')"
   ]
  },
  {
   "cell_type": "markdown",
   "metadata": {},
   "source": [
    "### Model Training"
   ]
  },
  {
   "cell_type": "code",
   "execution_count": 70,
   "metadata": {},
   "outputs": [
    {
     "name": "stdout",
     "output_type": "stream",
     "text": [
      "Feature(s) tested: ['B'] Accuracy: 0.4988694444444444\n",
      "Feature(s) tested: ['G'] Accuracy: 0.4988694444444444\n",
      "Feature(s) tested: ['O'] Accuracy: 0.4988694444444444\n",
      "Feature(s) tested: ['B', 'G'] Accuracy: 0.4988666666666667\n",
      "Feature(s) tested: ['B', 'G'] Accuracy: 0.4988694444444444\n",
      "Feature(s) tested: ['G', 'O'] Accuracy: 0.4988638888888889\n",
      "Feature(s) tested: ['B', 'G', 'O'] Accuracy: 0.4988694444444444\n"
     ]
    }
   ],
   "source": [
    "to_test = [['B'],['G'],['O'],['B','G'],['B','G'],['G','O'],['B','G','O']]\n",
    "for to_keep3 in to_test:\n",
    "    transform_4 = Pipeline(steps=[('imputer', SimpleImputer(strategy='mean')),('pca',PCA(n_components=1)), \n",
    "                                  ('scaler', QuantileTransformer())])\n",
    "    preprocessor3 = ColumnTransformer(transformers=[('num',transform_4, to_keep3)])\n",
    "    pipeline3 = Pipeline(steps=[('preprocessor', preprocessor3),\n",
    "                          ('classifier', RandomForestClassifier(max_depth=3,n_estimators=10))])\n",
    "    pipeline3.fit(X_train,Y_train.values.ravel())\n",
    "    results = pipeline3.predict(X_test)\n",
    "    actual = np.concatenate(Y_test.values)\n",
    "    print('Feature(s) tested:',to_keep3,'Accuracy:',metrics.accuracy_score(actual,results))"
   ]
  },
  {
   "cell_type": "code",
   "execution_count": 71,
   "metadata": {},
   "outputs": [
    {
     "name": "stdout",
     "output_type": "stream",
     "text": [
      "              precision    recall  f1-score   support\n",
      "\n",
      "           1       1.00      0.00      0.00     60234\n",
      "           2       0.50      1.00      0.67    179593\n",
      "           3       1.00      0.00      0.00    120173\n",
      "\n",
      "    accuracy                           0.50    360000\n",
      "   macro avg       0.83      0.33      0.22    360000\n",
      "weighted avg       0.75      0.50      0.33    360000\n",
      "\n",
      " Accuracy: 0.4988694444444444\n"
     ]
    }
   ],
   "source": [
    "col_select = ['B']\n",
    "transform_5 = Pipeline(steps=[('imputer', SimpleImputer(strategy='mean')),('pca',PCA(n_components=1)), \n",
    "                              ('scaler', QuantileTransformer())])\n",
    "preprocessor4 = ColumnTransformer(transformers=[('num',transform_5, col_select)])\n",
    "cv_pipeline1 = Pipeline(steps=[('preprocessor', preprocessor4),\n",
    "                      ('classifier', RandomForestClassifier(max_depth=3,n_estimators=10))])\n",
    "cv_pipeline1.fit(X_train,Y_train.values.ravel())\n",
    "results = cv_pipeline1.predict(X_test)\n",
    "actual = np.concatenate(Y_test.values)\n",
    "print(metrics.classification_report(actual,results,zero_division=1))\n",
    "print(\" Accuracy:\",metrics.accuracy_score(actual,results))"
   ]
  },
  {
   "cell_type": "markdown",
   "metadata": {},
   "source": [
    "### Cross Validation using K-fold\n",
    "#### It is a resampling procedure used to evaluate machine learning models on a limited data sample. The procedure has a single parameter called k that refers to the number of groups that a given data sample is to be split into. "
   ]
  },
  {
   "cell_type": "code",
   "execution_count": 72,
   "metadata": {},
   "outputs": [
    {
     "data": {
      "image/png": "[encoded data removed]",
      "text/plain": [
       "<Figure size 640x480 with 1 Axes>"
      ]
     },
     "metadata": {},
     "output_type": "display_data"
    }
   ],
   "source": [
    "scoresRF = cross_val_score(RandomForestClassifier(max_depth=3,n_estimators=10), X_train, Y_train.values.ravel(), cv=10)\n",
    "plotAccuracyKFold(scoresRF,'RandomForest Classifier')"
   ]
  },
  {
   "cell_type": "markdown",
   "metadata": {},
   "source": [
    "#### Trying using different columns as mentioned earlier  "
   ]
  },
  {
   "cell_type": "code",
   "execution_count": 73,
   "metadata": {},
   "outputs": [
    {
     "name": "stdout",
     "output_type": "stream",
     "text": [
      "              precision    recall  f1-score   support\n",
      "\n",
      "           1       0.50      0.00      0.00     60234\n",
      "           2       0.50      1.00      0.67    179593\n",
      "           3       0.25      0.00      0.00    120173\n",
      "\n",
      "    accuracy                           0.50    360000\n",
      "   macro avg       0.42      0.33      0.22    360000\n",
      "weighted avg       0.42      0.50      0.33    360000\n",
      "\n",
      " Accuracy: 0.498875\n"
     ]
    }
   ],
   "source": [
    "col_select = ['B','G']\n",
    "transform_6 = Pipeline(steps=[('imputer', SimpleImputer(strategy='mean')),('pca',PCA(n_components=1)), \n",
    "                              ('scaler', QuantileTransformer())])\n",
    "preprocessor5 = ColumnTransformer(transformers=[('num',transform_6, col_select)])\n",
    "cv_pipeline2 = Pipeline(steps=[('preprocessor', preprocessor5),\n",
    "                      ('classifier', RandomForestClassifier(max_depth=3,n_estimators=10))])\n",
    "cv_pipeline2.fit(X_train,Y_train.values.ravel())\n",
    "results = cv_pipeline2.predict(X_test)\n",
    "actual = np.concatenate(Y_test.values)\n",
    "print(metrics.classification_report(actual,results,zero_division=1))\n",
    "print(\" Accuracy:\",metrics.accuracy_score(actual,results))"
   ]
  },
  {
   "cell_type": "code",
   "execution_count": 74,
   "metadata": {},
   "outputs": [
    {
     "name": "stdout",
     "output_type": "stream",
     "text": [
      "              precision    recall  f1-score   support\n",
      "\n",
      "           1       1.00      0.00      0.00     60234\n",
      "           2       0.50      1.00      0.67    179593\n",
      "           3       1.00      0.00      0.00    120173\n",
      "\n",
      "    accuracy                           0.50    360000\n",
      "   macro avg       0.83      0.33      0.22    360000\n",
      "weighted avg       0.75      0.50      0.33    360000\n",
      "\n",
      " Accuracy: 0.4988694444444444\n"
     ]
    }
   ],
   "source": [
    "col_select = ['B','G','O']\n",
    "transform_6 = Pipeline(steps=[('imputer', SimpleImputer(strategy='mean')),('pca',PCA(n_components=1)), \n",
    "                              ('scaler', QuantileTransformer())])\n",
    "preprocessor5 = ColumnTransformer(transformers=[('num',transform_6, col_select)])\n",
    "cv_pipeline3 = Pipeline(steps=[('preprocessor', preprocessor5),\n",
    "                      ('classifier', RandomForestClassifier(max_depth=3,n_estimators=10))])\n",
    "cv_pipeline3.fit(X_train,Y_train.values.ravel())\n",
    "results = cv_pipeline3.predict(X_test)\n",
    "actual = np.concatenate(Y_test.values)\n",
    "print(metrics.classification_report(actual,results,zero_division=1))\n",
    "print(\" Accuracy:\",metrics.accuracy_score(actual,results))"
   ]
  },
  {
   "cell_type": "markdown",
   "metadata": {},
   "source": [
    "####  Chosen linerSVC model which was implemented in terms of liblinear rather than libsvm, so it has more flexibility in the choice of penalties and loss functions and should scale better to large numbers of samples.\n",
    "\n",
    "This class supports both dense and sparse input and the multiclass support is handled according to a one-vs-the-rest scheme "
   ]
  },
  {
   "cell_type": "code",
   "execution_count": 75,
   "metadata": {},
   "outputs": [
    {
     "name": "stdout",
     "output_type": "stream",
     "text": [
      "              precision    recall  f1-score   support\n",
      "\n",
      "           1       1.00      0.00      0.00     60234\n",
      "           2       0.50      1.00      0.67    179593\n",
      "           3       1.00      0.00      0.00    120173\n",
      "\n",
      "    accuracy                           0.50    360000\n",
      "   macro avg       0.83      0.33      0.22    360000\n",
      "weighted avg       0.75      0.50      0.33    360000\n",
      "\n",
      " \n",
      "Accuracy: 0.4988694444444444\n"
     ]
    }
   ],
   "source": [
    "final_pipeline = Pipeline(steps=[('feature_selection', SelectFromModel(LinearSVC(penalty=\"l1\",loss='squared_hinge',\n",
    "                                                                                 dual=False,\n",
    "                                                                       max_iter=10000))),\n",
    "                       ('scaler', QuantileTransformer()),\n",
    "                      ('classifier', RandomForestClassifier(max_depth=2,n_estimators=100))])\n",
    "final_pipeline.fit(X_train,Y_train.values.ravel())\n",
    "\n",
    "# Model prediction on test data\n",
    "results = final_pipeline.predict(X_test)\n",
    "actual = np.concatenate(Y_test.values)\n",
    "print(metrics.classification_report(actual, results, zero_division=1))\n",
    "print(\" \\nAccuracy:\",metrics.accuracy_score(actual,results))"
   ]
  },
  {
   "cell_type": "markdown",
   "metadata": {},
   "source": [
    "#### Here, to accuracy remained same and choosing different models doesn't given much of the significant improvement. So,I applied different approach where we can work on class labels and then experiment and run different models . "
   ]
  },
  {
   "cell_type": "markdown",
   "metadata": {},
   "source": [
    "### Model Validation "
   ]
  },
  {
   "cell_type": "markdown",
   "metadata": {},
   "source": [
    "#### As we can see from above that accuracy doesn't change much after selecting different columns and applying models. Selected the most significant features and tried to increase the accuracy by training the model. But after maximum iteration and applying RandomForest Classifier and using Feature Selection, we are only able to increase accuracy very slightly to approx 0.4988. "
   ]
  },
  {
   "cell_type": "markdown",
   "metadata": {},
   "source": [
    "#### Now, after doing feature selection individually and with different grouping of features, I am applying model and creating pipeline by diving dataframe class wise. Here, we are dividing and merging as class level 1,2 and 3.  Here, we tried to find maximum accuracy using that specific class. Like, using Dataframe of class 1 and 2, 2 and 3 and so on. "
   ]
  },
  {
   "cell_type": "code",
   "execution_count": 77,
   "metadata": {},
   "outputs": [],
   "source": [
    "df1 =df[df['Class']==1]\n",
    "df2 =df[df['Class']==2]\n",
    "df3 =df[df['Class']==3]\n",
    "df_12=pd.concat([df1,df2])\n",
    "df_13=pd.concat([df1,df3])\n",
    "df_23=pd.concat([df2,df3])\n",
    "df_123=pd.concat([df1,df2,df3])"
   ]
  },
  {
   "cell_type": "code",
   "execution_count": 78,
   "metadata": {},
   "outputs": [],
   "source": [
    "X_df12 = pd.DataFrame(data=df_12.drop('Class',axis=1))\n",
    "Y_df12 = pd.DataFrame(data=df_12['Class'],columns=['Class'])\n",
    "X_train_12,X_test_12,Y_train_12,Y_test_12 = train_test_split(X_df12,Y_df12,test_size=0.3)\n",
    "training_data_12 = pd.concat([X_train_12,Y_train_12],axis=1)"
   ]
  },
  {
   "cell_type": "code",
   "execution_count": 81,
   "metadata": {},
   "outputs": [],
   "source": [
    "X_df13 = pd.DataFrame(data=df_13.drop('Class',axis=1))\n",
    "Y_df13 = pd.DataFrame(data=df_13['Class'],columns=['Class'])\n",
    "X_train_13,X_test_13,Y_train_13,Y_test_13 = train_test_split(X_df13,Y_df13,test_size=0.3)\n",
    "training_data_13 = pd.concat([X_train_13,Y_train_13],axis=1)\n"
   ]
  },
  {
   "cell_type": "code",
   "execution_count": 83,
   "metadata": {},
   "outputs": [],
   "source": [
    "X_df23 = pd.DataFrame(data=df_23.drop('Class',axis=1))\n",
    "Y_df23 = pd.DataFrame(data=df_23['Class'],columns=['Class'])\n",
    "X_train_23,X_test_23,Y_train_23,Y_test_23 = train_test_split(X_df23,Y_df23,test_size=0.3)\n",
    "training_data_23 = pd.concat([X_train_23,Y_train_23],axis=1)\n"
   ]
  },
  {
   "cell_type": "code",
   "execution_count": 86,
   "metadata": {},
   "outputs": [
    {
     "name": "stdout",
     "output_type": "stream",
     "text": [
      "No labels provided. Feature importance based methods are not available.\n",
      "0 features with greater than 0.00 missing values.\n",
      "\n"
     ]
    }
   ],
   "source": [
    "fs_missing_test_1=FeatureSelector(data=training_data_12)#This tests all features and the class labels\n",
    "fs_missing_test_1.identify_missing(missing_threshold=0)"
   ]
  },
  {
   "cell_type": "code",
   "execution_count": 87,
   "metadata": {},
   "outputs": [
    {
     "name": "stdout",
     "output_type": "stream",
     "text": [
      "No labels provided. Feature importance based methods are not available.\n",
      "0 features with greater than 0.00 missing values.\n",
      "\n"
     ]
    }
   ],
   "source": [
    "fs_missing_test_2=FeatureSelector(data=training_data_13)#This tests all features and the class labels\n",
    "fs_missing_test_2.identify_missing(missing_threshold=0)"
   ]
  },
  {
   "cell_type": "code",
   "execution_count": 88,
   "metadata": {},
   "outputs": [
    {
     "name": "stdout",
     "output_type": "stream",
     "text": [
      "No labels provided. Feature importance based methods are not available.\n",
      "0 features with greater than 0.00 missing values.\n",
      "\n"
     ]
    }
   ],
   "source": [
    "fs_missing_test_3=FeatureSelector(data=training_data_23)#This tests all features and the class labels\n",
    "fs_missing_test_3.identify_missing(missing_threshold=0)"
   ]
  },
  {
   "cell_type": "code",
   "execution_count": 89,
   "metadata": {},
   "outputs": [
    {
     "name": "stdout",
     "output_type": "stream",
     "text": [
      "Dropped feature: A , Accuracy: 0.7479792797978029\n",
      "Dropped feature: B , Accuracy: 0.7479834505309343\n",
      "Dropped feature: C , Accuracy: 0.7479709383315399\n",
      "Dropped feature: D , Accuracy: 0.7479834505309343\n",
      "Dropped feature: E , Accuracy: 0.7479667675984084\n",
      "Dropped feature: F , Accuracy: 0.7479709383315399\n",
      "Dropped feature: G , Accuracy: 0.7479751090646714\n",
      "Dropped feature: H , Accuracy: 0.7479876212640658\n",
      "Dropped feature: I , Accuracy: 0.7479542553990141\n",
      "Dropped feature: J , Accuracy: 0.7479709383315399\n",
      "Dropped feature: K , Accuracy: 0.7479792797978029\n",
      "Dropped feature: L , Accuracy: 0.7479792797978029\n",
      "Dropped feature: M , Accuracy: 0.7479876212640658\n",
      "Dropped feature: N , Accuracy: 0.7479792797978029\n",
      "Dropped feature: O , Accuracy: 0.7479917919971972\n"
     ]
    }
   ],
   "source": [
    "features='ABCDEFGHIJKLMNO'\n",
    "for i in range(0,len(features)):\n",
    "    pipeline=Pipeline([('mapper',DataFrameMapper([(X_train_12.columns.drop([features[i:i+1]]).values,\n",
    "                                                       [QuantileTransformer()])])),\n",
    "                           ('pca',PCA(n_components=1)),\n",
    "                           ('classifier',DecisionTreeClassifier(max_depth=3))])\n",
    "    pipeline.fit(training_data_12.drop([features[i:i+1]],axis=1),training_data_12['Class'])\n",
    "    results = pipeline.predict(X_test_12)\n",
    "    actual = np.concatenate(Y_test_12.values)\n",
    "    print(\"Dropped feature:\",features[i:i+1],\", Accuracy:\",metrics.accuracy_score(actual,results))"
   ]
  },
  {
   "cell_type": "markdown",
   "metadata": {},
   "source": [
    "#### Finding the accuracy of the model looking for maximum and mimimum score of the features. As, here all the score are almost same and thus, we can conclude that we have to try choosing all the features."
   ]
  },
  {
   "cell_type": "code",
   "execution_count": 90,
   "metadata": {},
   "outputs": [
    {
     "name": "stdout",
     "output_type": "stream",
     "text": [
      " Accuracy: 0.7479834505309343\n"
     ]
    }
   ],
   "source": [
    "to_all = ['A','B','C','D','E','F','G','H','I','J','K','L','M','N','O']\n",
    "transform_all = Pipeline(steps=[('imputer', SimpleImputer(strategy='median')), \n",
    "                              ('scaler', MinMaxScaler())])\n",
    "preprocessor_all = ColumnTransformer(transformers=[('num',transform_all,to_all)])\n",
    "pipeline_all = Pipeline(steps=[('preprocessor', preprocessor_all),\n",
    "                      ('classifier', LogisticRegression())])\n",
    "pipeline_all.fit(X_train_12,Y_train_12.values.ravel())\n",
    "results_all = pipeline_all.predict(X_test_12)\n",
    "actual_all = np.concatenate(Y_test_12.values)\n",
    "print(\" Accuracy:\",metrics.accuracy_score(actual_all,results_all))"
   ]
  },
  {
   "cell_type": "markdown",
   "metadata": {},
   "source": [
    "#### Here we can see change in accuracy, but it happened because we choose only 2 class labels rather than all 3 labels. So, I tried using different class labels and then significant changes can be noticed. Any features selected was solely based on previous feature seletion model, as all the features are nearly important and can choose the best features. "
   ]
  },
  {
   "cell_type": "code",
   "execution_count": 91,
   "metadata": {},
   "outputs": [
    {
     "name": "stdout",
     "output_type": "stream",
     "text": [
      " Accuracy: 0.7479834505309343\n"
     ]
    }
   ],
   "source": [
    "to_keep1 = ['A','B','L','D','H','O']\n",
    "transform_1 = Pipeline(steps=[('imputer', SimpleImputer(strategy='median')), \n",
    "                              ('scaler', MinMaxScaler())])\n",
    "preprocessor_1 = ColumnTransformer(transformers=[('num',transform_1,to_keep1)])\n",
    "pipeline_1 = Pipeline(steps=[('preprocessor', preprocessor_1),\n",
    "                      ('classifier', LogisticRegression())])\n",
    "pipeline_1.fit(X_train_12,Y_train_12.values.ravel())\n",
    "results_1 = pipeline_1.predict(X_test_12)\n",
    "actual_1 = np.concatenate(Y_test_12.values)\n",
    "print(\" Accuracy:\",metrics.accuracy_score(actual_1,results_1))"
   ]
  },
  {
   "cell_type": "code",
   "execution_count": 92,
   "metadata": {},
   "outputs": [
    {
     "name": "stdout",
     "output_type": "stream",
     "text": [
      " Accuracy: 0.6670458076257268\n"
     ]
    }
   ],
   "source": [
    "to_2 = ['A','B','C','D','E','F','G','H','I','J','K','L','M','N','O']\n",
    "transform_2 = Pipeline(steps=[('imputer', SimpleImputer(strategy='median')), \n",
    "                              ('scaler', MinMaxScaler())])\n",
    "preprocessor_2 = ColumnTransformer(transformers=[('num',transform_2,to_2)])\n",
    "pipeline_2 = Pipeline(steps=[('preprocessor', preprocessor_2),\n",
    "                      ('classifier', LogisticRegression())])\n",
    "pipeline_2.fit(X_train_13,Y_train_13.values.ravel())\n",
    "results_2 = pipeline_2.predict(X_test_13)\n",
    "actual_2 = np.concatenate(Y_test_13.values)\n",
    "print(\" Accuracy:\",metrics.accuracy_score(actual_2,results_2))"
   ]
  },
  {
   "cell_type": "code",
   "execution_count": 93,
   "metadata": {},
   "outputs": [
    {
     "name": "stdout",
     "output_type": "stream",
     "text": [
      " Accuracy: 0.5987373459598737\n"
     ]
    }
   ],
   "source": [
    "to_3 = ['A','B','C','D','E','F','G','H','I','J','K','L','M','N','O']\n",
    "transform_3 = Pipeline(steps=[('imputer', SimpleImputer(strategy='median')), \n",
    "                              ('scaler', MinMaxScaler())])\n",
    "preprocessor_3 = ColumnTransformer(transformers=[('num',transform_3,to_3)])\n",
    "pipeline_3 = Pipeline(steps=[('preprocessor', preprocessor_3),\n",
    "                      ('classifier', LogisticRegression())])\n",
    "pipeline_3.fit(X_train_23,Y_train_23.values.ravel())\n",
    "results_3 = pipeline_3.predict(X_test_23)\n",
    "actual_3 = np.concatenate(Y_test_23.values)\n",
    "print(\" Accuracy:\",metrics.accuracy_score(actual_3,results_3))"
   ]
  },
  {
   "cell_type": "code",
   "execution_count": 94,
   "metadata": {},
   "outputs": [],
   "source": [
    "X_df123 = pd.DataFrame(data=df_123.drop('Class',axis=1))\n",
    "Y_df123 = pd.DataFrame(data=df_123['Class'],columns=['Class'])\n",
    "X_train_123,X_test_123,Y_train_123,Y_test_123 = train_test_split(X_df123,Y_df123,test_size=0.3)\n",
    "training_data_123 = pd.concat([X_train_123,Y_train_123],axis=1)"
   ]
  },
  {
   "cell_type": "markdown",
   "metadata": {},
   "source": [
    "#### Here, we tried to pick all the columns and then done the experiment. Used, MinMaxScaler() for scaling the data, and used Logistic Regression as we have multinomial dataset we can consider the case.  "
   ]
  },
  {
   "cell_type": "code",
   "execution_count": 95,
   "metadata": {},
   "outputs": [
    {
     "name": "stdout",
     "output_type": "stream",
     "text": [
      " Accuracy: 0.4991111111111111\n"
     ]
    }
   ],
   "source": [
    "to_4 = ['A','B','C','D','E','F','G','H','I','J','K','L','M','N','O']\n",
    "transform_4 = Pipeline(steps=[('imputer', SimpleImputer(strategy='median')), \n",
    "                              ('scaler', MinMaxScaler())])\n",
    "preprocessor_4 = ColumnTransformer(transformers=[('num',transform_4,to_4)])\n",
    "pipeline_4 = Pipeline(steps=[('preprocessor', preprocessor_4),\n",
    "                      ('classifier', LogisticRegression())])\n",
    "pipeline_4.fit(X_train_123,Y_train_123.values.ravel())\n",
    "results_4 = pipeline_4.predict(X_test_123)\n",
    "actual_4 = np.concatenate(Y_test_123.values)\n",
    "print(\" Accuracy:\",metrics.accuracy_score(actual_4,results_4))"
   ]
  },
  {
   "cell_type": "code",
   "execution_count": 129,
   "metadata": {},
   "outputs": [
    {
     "data": {
      "text/plain": [
       "array([2, 2, 2, ..., 2, 2, 2], dtype=int64)"
      ]
     },
     "execution_count": 129,
     "metadata": {},
     "output_type": "execute_result"
    }
   ],
   "source": [
    "pipeline_4.predict(X_test_123)"
   ]
  },
  {
   "cell_type": "code",
   "execution_count": 130,
   "metadata": {},
   "outputs": [
    {
     "data": {
      "text/plain": [
       "array([2, 1, 2, ..., 3, 1, 3], dtype=int64)"
      ]
     },
     "execution_count": 130,
     "metadata": {},
     "output_type": "execute_result"
    }
   ],
   "source": [
    "Y_test_123.values.ravel()"
   ]
  },
  {
   "cell_type": "markdown",
   "metadata": {},
   "source": [
    "####  Here, I applied Modified version of logistic regression that predicts a multinomial probability (i.e. more than two classes) for each input example. Changing logistic regression from binomial to multinomial probability requires a change to the loss function used to train the model (e.g. log loss to cross-entropy loss), and a change to the output from a single probability value to one probability for each class label."
   ]
  },
  {
   "cell_type": "code",
   "execution_count": 97,
   "metadata": {},
   "outputs": [
    {
     "name": "stdout",
     "output_type": "stream",
     "text": [
      ">0.0000 0.499 (0.000)\n",
      ">0.0001 0.499 (0.000)\n",
      ">0.0010 0.499 (0.000)\n",
      ">0.0100 0.499 (0.000)\n",
      ">0.1000 0.499 (0.000)\n",
      ">1.0000 0.499 (0.000)\n"
     ]
    },
    {
     "data": {
      "image/png": "[encoded data removed]",
      "text/plain": [
       "<Figure size 640x480 with 1 Axes>"
      ]
     },
     "metadata": {},
     "output_type": "display_data"
    }
   ],
   "source": [
    "from sklearn.model_selection import RepeatedStratifiedKFold\n",
    "from numpy import std, mean\n",
    "\n",
    "#get a list of models to evaluate\n",
    "def get_models():\n",
    "    models = dict()\n",
    "    for p in [0.0, 0.0001, 0.001, 0.01, 0.1, 1.0]:\n",
    "    # create name for model\n",
    "        key = '%.4f' % p\n",
    "    # turn off penalty in some cases\n",
    "        if p == 0.0:\n",
    "    # no penalty in this case\n",
    "            models[key] = LogisticRegression(multi_class='multinomial', solver='lbfgs', penalty='none')\n",
    "        else:\n",
    "            models[key] = LogisticRegression(multi_class='multinomial', solver='lbfgs', penalty='l2', C=p)\n",
    "    return models\n",
    " \n",
    "# evaluate a give model using cross-validation\n",
    "def evaluate_model(model, X, y):\n",
    "    # define the evaluation procedure\n",
    "    cv = RepeatedStratifiedKFold(n_splits=10, n_repeats=3, random_state=1)\n",
    "    # evaluate the model\n",
    "    scores = cross_val_score(model, X, y, scoring='accuracy', cv=cv, n_jobs=-1)\n",
    "    return scores\n",
    " \n",
    "# define dataset\n",
    "labels = ['A','B','C','D','E','F','G','H','I','J','K','L','M','N','O']\n",
    "X = pd.DataFrame(data=df.drop('Class',axis=1),columns=labels)\n",
    "y = pd.DataFrame(data=df['Class'],columns=['Class'])\n",
    "# get the models to evaluate\n",
    "models = get_models()\n",
    "# evaluate the models and store results\n",
    "results, names = list(), list()\n",
    "for name, model in models.items():\n",
    "    # evaluate the model and collect the scores\n",
    "    scores = evaluate_model(model, X, y)\n",
    "    # store the results\n",
    "    results.append(scores)\n",
    "    names.append(name)\n",
    "    # summarize progress along the way\n",
    "    print('>%s %.3f (%.3f)' % (name, mean(scores), std(scores)))\n",
    "# plot model performance for comparison\n",
    "plt.boxplot(results, labels=names, showmeans=True)\n",
    "plt.show()"
   ]
  },
  {
   "cell_type": "markdown",
   "metadata": {},
   "source": [
    "#### In this case, we can see that a C value of 1.0 has the best score of about 49.9 percent, which is the same as using no penalty that achieves the same score\n",
    "#### A box and whisker plot is created for the accuracy scores for each configuration and all plots are shown side by side on a figure on the same scale for direct comparison. "
   ]
  },
  {
   "cell_type": "code",
   "execution_count": 140,
   "metadata": {},
   "outputs": [
    {
     "name": "stdout",
     "output_type": "stream",
     "text": [
      " Accuracy: 0.4991111111111111\n"
     ]
    }
   ],
   "source": [
    "final_col = ['B','G','O']\n",
    "transform_final = Pipeline(steps=[\n",
    "    ('imputer', SimpleImputer(strategy='median')),\n",
    "    ('scaler', StandardScaler())])\n",
    "\n",
    "preprocessor_final = ColumnTransformer(transformers=[('num', transform_final, final_col)])\n",
    "\n",
    "pipeline_final = Pipeline(steps=[('preprocessor', preprocessor_final),\n",
    "                      ('classifier', LogisticRegression())])\n",
    "pipeline_final.fit(X_train_123,Y_train_123.values.ravel())\n",
    "results_final = pipeline_final.predict(X_test_123)\n",
    "actual_final = np.concatenate(Y_test_123.values)\n",
    "print(\" Accuracy:\",metrics.accuracy_score(actual_final,results_final))"
   ]
  },
  {
   "cell_type": "markdown",
   "metadata": {},
   "source": [
    "#### Earlier in previous hypothesis, after selecting the same column we get the accuracy of ~0.4988, here we are able to increase substantial increment in accuracy to ~0.4991. So, after applying different models and merging 3 classes of dataframe, we get some positive results.  "
   ]
  },
  {
   "cell_type": "markdown",
   "metadata": {},
   "source": [
    "### Creating Onnx File with pipeline "
   ]
  },
  {
   "cell_type": "code",
   "execution_count": 148,
   "metadata": {},
   "outputs": [],
   "source": [
    "input_types = dict([(x, FloatTensorType([None, 1])) for x in final_col])\n",
    "\n",
    "try:\n",
    "    model_onnx = convert_sklearn(pipeline_final,\n",
    "                                 'test_abhi_onnx',\n",
    "                                initial_types=list(input_types.items()))\n",
    "except Exception as e:\n",
    "    print(e)\n",
    "\n",
    "with open(\"test_abhi.onnx\", \"wb\") as f:\n",
    "    f.write(model_onnx.SerializeToString())"
   ]
  },
  {
   "cell_type": "markdown",
   "metadata": {},
   "source": [
    "### Tested output of onnx file \n",
    "#### Prediction of  model by loading and computing the output for an input vector"
   ]
  },
  {
   "cell_type": "code",
   "execution_count": 149,
   "metadata": {},
   "outputs": [
    {
     "name": "stdout",
     "output_type": "stream",
     "text": [
      "predict [2 2 2 ... 2 2 2]\n"
     ]
    }
   ],
   "source": [
    "inputs_onnx = {k: np.array(v).astype(np.float32)[:, np.newaxis]\n",
    "               for k, v in X_test_123[['B','G','O']].to_dict(orient='list').items()}\n",
    "\n",
    "session_onnx = rt.InferenceSession(\"test_abhi.onnx\")\n",
    "predict_onnx = session_onnx.run(None, inputs_onnx)\n",
    "print(\"predict\", predict_onnx[0])"
   ]
  },
  {
   "cell_type": "code",
   "execution_count": 150,
   "metadata": {},
   "outputs": [
    {
     "data": {
      "image/svg+xml": [
       "<?xml version=\"1.0\" encoding=\"UTF-8\" standalone=\"no\"?>\r\n",
       "<!DOCTYPE svg PUBLIC \"-//W3C//DTD SVG 1.1//EN\"\r\n",
       " \"http://www.w3.org/Graphics/SVG/1.1/DTD/svg11.dtd\">\r\n",
       "<!-- Generated by graphviz version 2.44.2~dev.20201112.1525 (20201112.1525)\r\n",
       " -->\r\n",
       "<!-- Title: test_abhi_onnx Pages: 1 -->\r\n",
       "<svg width=\"544pt\" height=\"1388pt\"\r\n",
       " viewBox=\"0.00 0.00 543.76 1388.31\" xmlns=\"http://www.w3.org/2000/svg\" xmlns:xlink=\"http://www.w3.org/1999/xlink\">\r\n",
       "<g id=\"graph0\" class=\"graph\" transform=\"scale(1 1) rotate(0) translate(4 1384.31)\">\r\n",
       "<title>test_abhi_onnx</title>\r\n",
       "<polygon fill=\"white\" stroke=\"transparent\" points=\"-4,4 -4,-1384.31 539.76,-1384.31 539.76,4 -4,4\"/>\r\n",
       "<!-- Cast/Cast (op#0)\\n input0 B\\n output0 B_cast -->\r\n",
       "<g id=\"node1\" class=\"node\">\r\n",
       "<title>Cast/Cast (op#0)\\n input0 B\\n output0 B_cast</title>\r\n",
       "<g id=\"a_node1\"><a xlink:href=\"javascript:alert(&#39;&#39;)\" xlink:title=\"Cast/Cast (op#0)\\n input0 B\\n output0 B_cast\">\r\n",
       "<ellipse fill=\"yellow\" stroke=\"yellow\" cx=\"455.85\" cy=\"-1270.84\" rx=\"79.81\" ry=\"37.45\"/>\r\n",
       "<text text-anchor=\"middle\" x=\"455.85\" y=\"-1282.14\" font-family=\"Times New Roman,serif\" font-size=\"14.00\">Cast/Cast (op#0)</text>\r\n",
       "<text text-anchor=\"middle\" x=\"455.85\" y=\"-1267.14\" font-family=\"Times New Roman,serif\" font-size=\"14.00\"> input0 B</text>\r\n",
       "<text text-anchor=\"middle\" x=\"455.85\" y=\"-1252.14\" font-family=\"Times New Roman,serif\" font-size=\"14.00\"> output0 B_cast</text>\r\n",
       "</a>\r\n",
       "</g>\r\n",
       "</g>\r\n",
       "<!-- B_cast0 -->\r\n",
       "<g id=\"node3\" class=\"node\">\r\n",
       "<title>B_cast0</title>\r\n",
       "<polygon fill=\"none\" stroke=\"black\" points=\"452.14,-1171.9 452.14,-1186.82 429.13,-1197.36 396.58,-1197.36 373.56,-1186.82 373.56,-1171.9 396.58,-1161.36 429.13,-1161.36 452.14,-1171.9\"/>\r\n",
       "<text text-anchor=\"middle\" x=\"412.85\" y=\"-1175.66\" font-family=\"Times New Roman,serif\" font-size=\"14.00\">B_cast</text>\r\n",
       "</g>\r\n",
       "<!-- Cast/Cast (op#0)\\n input0 B\\n output0 B_cast&#45;&gt;B_cast0 -->\r\n",
       "<g id=\"edge2\" class=\"edge\">\r\n",
       "<title>Cast/Cast (op#0)\\n input0 B\\n output0 B_cast:&#45;&gt;B_cast0:</title>\r\n",
       "<path fill=\"none\" stroke=\"black\" d=\"M438.73,-1234.22C434.31,-1225.01 429.63,-1215.27 425.48,-1206.63\"/>\r\n",
       "<polygon fill=\"black\" stroke=\"black\" points=\"428.55,-1204.95 421.06,-1197.45 422.24,-1207.98 428.55,-1204.95\"/>\r\n",
       "</g>\r\n",
       "<!-- B0 -->\r\n",
       "<g id=\"node2\" class=\"node\">\r\n",
       "<title>B0</title>\r\n",
       "<polygon fill=\"none\" stroke=\"black\" points=\"482.85,-1354.86 482.85,-1369.77 467.04,-1380.31 444.67,-1380.31 428.85,-1369.77 428.85,-1354.86 444.67,-1344.31 467.04,-1344.31 482.85,-1354.86\"/>\r\n",
       "<text text-anchor=\"middle\" x=\"455.85\" y=\"-1358.61\" font-family=\"Times New Roman,serif\" font-size=\"14.00\">B</text>\r\n",
       "</g>\r\n",
       "<!-- B0&#45;&gt;Cast/Cast (op#0)\\n input0 B\\n output0 B_cast -->\r\n",
       "<g id=\"edge1\" class=\"edge\">\r\n",
       "<title>B0:&#45;&gt;Cast/Cast (op#0)\\n input0 B\\n output0 B_cast:</title>\r\n",
       "<path fill=\"none\" stroke=\"black\" d=\"M455.85,-1344.06C455.85,-1336.76 455.85,-1327.85 455.85,-1318.83\"/>\r\n",
       "<polygon fill=\"black\" stroke=\"black\" points=\"459.35,-1318.67 455.85,-1308.67 452.35,-1318.67 459.35,-1318.67\"/>\r\n",
       "</g>\r\n",
       "<!-- Concat/Concat (op#3)\\n input0 B_cast\\n input1 G_cast\\n input2 O_cast\\n output0 merged_columns -->\r\n",
       "<g id=\"node10\" class=\"node\">\r\n",
       "<title>Concat/Concat (op#3)\\n input0 B_cast\\n input1 G_cast\\n input2 O_cast\\n output0 merged_columns</title>\r\n",
       "<g id=\"a_node10\"><a xlink:href=\"javascript:alert(&#39;&#39;)\" xlink:title=\"Concat/Concat (op#3)\\n input0 B_cast\\n input1 G_cast\\n input2 O_cast\\n output0 merged_columns\">\r\n",
       "<ellipse fill=\"yellow\" stroke=\"yellow\" cx=\"272.85\" cy=\"-1066.67\" rx=\"115.02\" ry=\"58.88\"/>\r\n",
       "<text text-anchor=\"middle\" x=\"272.85\" y=\"-1092.97\" font-family=\"Times New Roman,serif\" font-size=\"14.00\">Concat/Concat (op#3)</text>\r\n",
       "<text text-anchor=\"middle\" x=\"272.85\" y=\"-1077.97\" font-family=\"Times New Roman,serif\" font-size=\"14.00\"> input0 B_cast</text>\r\n",
       "<text text-anchor=\"middle\" x=\"272.85\" y=\"-1062.97\" font-family=\"Times New Roman,serif\" font-size=\"14.00\"> input1 G_cast</text>\r\n",
       "<text text-anchor=\"middle\" x=\"272.85\" y=\"-1047.97\" font-family=\"Times New Roman,serif\" font-size=\"14.00\"> input2 O_cast</text>\r\n",
       "<text text-anchor=\"middle\" x=\"272.85\" y=\"-1032.97\" font-family=\"Times New Roman,serif\" font-size=\"14.00\"> output0 merged_columns</text>\r\n",
       "</a>\r\n",
       "</g>\r\n",
       "</g>\r\n",
       "<!-- B_cast0&#45;&gt;Concat/Concat (op#3)\\n input0 B_cast\\n input1 G_cast\\n input2 O_cast\\n output0 merged_columns -->\r\n",
       "<g id=\"edge7\" class=\"edge\">\r\n",
       "<title>B_cast0:&#45;&gt;Concat/Concat (op#3)\\n input0 B_cast\\n input1 G_cast\\n input2 O_cast\\n output0 merged_columns:</title>\r\n",
       "<path fill=\"none\" stroke=\"black\" d=\"M393.09,-1162.74C379.7,-1152.15 361.13,-1137.47 342.59,-1122.8\"/>\r\n",
       "<polygon fill=\"black\" stroke=\"black\" points=\"344.67,-1119.99 334.66,-1116.53 340.33,-1125.48 344.67,-1119.99\"/>\r\n",
       "</g>\r\n",
       "<!-- Cast1/Cast (op#1)\\n input0 G\\n output0 G_cast -->\r\n",
       "<g id=\"node4\" class=\"node\">\r\n",
       "<title>Cast1/Cast (op#1)\\n input0 G\\n output0 G_cast</title>\r\n",
       "<g id=\"a_node4\"><a xlink:href=\"javascript:alert(&#39;&#39;)\" xlink:title=\"Cast1/Cast (op#1)\\n input0 G\\n output0 G_cast\">\r\n",
       "<ellipse fill=\"yellow\" stroke=\"yellow\" cx=\"84.85\" cy=\"-1270.84\" rx=\"84.71\" ry=\"37.45\"/>\r\n",
       "<text text-anchor=\"middle\" x=\"84.85\" y=\"-1282.14\" font-family=\"Times New Roman,serif\" font-size=\"14.00\">Cast1/Cast (op#1)</text>\r\n",
       "<text text-anchor=\"middle\" x=\"84.85\" y=\"-1267.14\" font-family=\"Times New Roman,serif\" font-size=\"14.00\"> input0 G</text>\r\n",
       "<text text-anchor=\"middle\" x=\"84.85\" y=\"-1252.14\" font-family=\"Times New Roman,serif\" font-size=\"14.00\"> output0 G_cast</text>\r\n",
       "</a>\r\n",
       "</g>\r\n",
       "</g>\r\n",
       "<!-- G_cast0 -->\r\n",
       "<g id=\"node6\" class=\"node\">\r\n",
       "<title>G_cast0</title>\r\n",
       "<polygon fill=\"none\" stroke=\"black\" points=\"170.05,-1171.9 170.05,-1186.82 146.5,-1197.36 113.2,-1197.36 89.65,-1186.82 89.65,-1171.9 113.2,-1161.36 146.5,-1161.36 170.05,-1171.9\"/>\r\n",
       "<text text-anchor=\"middle\" x=\"129.85\" y=\"-1175.66\" font-family=\"Times New Roman,serif\" font-size=\"14.00\">G_cast</text>\r\n",
       "</g>\r\n",
       "<!-- Cast1/Cast (op#1)\\n input0 G\\n output0 G_cast&#45;&gt;G_cast0 -->\r\n",
       "<g id=\"edge4\" class=\"edge\">\r\n",
       "<title>Cast1/Cast (op#1)\\n input0 G\\n output0 G_cast:&#45;&gt;G_cast0:</title>\r\n",
       "<path fill=\"none\" stroke=\"black\" d=\"M102.9,-1233.96C107.44,-1224.91 112.25,-1215.37 116.52,-1206.88\"/>\r\n",
       "<polygon fill=\"black\" stroke=\"black\" points=\"119.7,-1208.33 121.07,-1197.82 113.45,-1205.19 119.7,-1208.33\"/>\r\n",
       "</g>\r\n",
       "<!-- G0 -->\r\n",
       "<g id=\"node5\" class=\"node\">\r\n",
       "<title>G0</title>\r\n",
       "<polygon fill=\"none\" stroke=\"black\" points=\"111.85,-1354.86 111.85,-1369.77 96.04,-1380.31 73.67,-1380.31 57.85,-1369.77 57.85,-1354.86 73.67,-1344.31 96.04,-1344.31 111.85,-1354.86\"/>\r\n",
       "<text text-anchor=\"middle\" x=\"84.85\" y=\"-1358.61\" font-family=\"Times New Roman,serif\" font-size=\"14.00\">G</text>\r\n",
       "</g>\r\n",
       "<!-- G0&#45;&gt;Cast1/Cast (op#1)\\n input0 G\\n output0 G_cast -->\r\n",
       "<g id=\"edge3\" class=\"edge\">\r\n",
       "<title>G0:&#45;&gt;Cast1/Cast (op#1)\\n input0 G\\n output0 G_cast:</title>\r\n",
       "<path fill=\"none\" stroke=\"black\" d=\"M84.85,-1344.06C84.85,-1336.76 84.85,-1327.85 84.85,-1318.83\"/>\r\n",
       "<polygon fill=\"black\" stroke=\"black\" points=\"88.35,-1318.67 84.85,-1308.67 81.35,-1318.67 88.35,-1318.67\"/>\r\n",
       "</g>\r\n",
       "<!-- G_cast0&#45;&gt;Concat/Concat (op#3)\\n input0 B_cast\\n input1 G_cast\\n input2 O_cast\\n output0 merged_columns -->\r\n",
       "<g id=\"edge8\" class=\"edge\">\r\n",
       "<title>G_cast0:&#45;&gt;Concat/Concat (op#3)\\n input0 B_cast\\n input1 G_cast\\n input2 O_cast\\n output0 merged_columns:</title>\r\n",
       "<path fill=\"none\" stroke=\"black\" d=\"M150.04,-1162.74C163.91,-1152 183.23,-1137.04 202.44,-1122.17\"/>\r\n",
       "<polygon fill=\"black\" stroke=\"black\" points=\"204.6,-1124.93 210.36,-1116.04 200.31,-1119.4 204.6,-1124.93\"/>\r\n",
       "</g>\r\n",
       "<!-- Cast2/Cast (op#2)\\n input0 O\\n output0 O_cast -->\r\n",
       "<g id=\"node7\" class=\"node\">\r\n",
       "<title>Cast2/Cast (op#2)\\n input0 O\\n output0 O_cast</title>\r\n",
       "<g id=\"a_node7\"><a xlink:href=\"javascript:alert(&#39;&#39;)\" xlink:title=\"Cast2/Cast (op#2)\\n input0 O\\n output0 O_cast\">\r\n",
       "<ellipse fill=\"yellow\" stroke=\"yellow\" cx=\"272.85\" cy=\"-1270.84\" rx=\"84.71\" ry=\"37.45\"/>\r\n",
       "<text text-anchor=\"middle\" x=\"272.85\" y=\"-1282.14\" font-family=\"Times New Roman,serif\" font-size=\"14.00\">Cast2/Cast (op#2)</text>\r\n",
       "<text text-anchor=\"middle\" x=\"272.85\" y=\"-1267.14\" font-family=\"Times New Roman,serif\" font-size=\"14.00\"> input0 O</text>\r\n",
       "<text text-anchor=\"middle\" x=\"272.85\" y=\"-1252.14\" font-family=\"Times New Roman,serif\" font-size=\"14.00\"> output0 O_cast</text>\r\n",
       "</a>\r\n",
       "</g>\r\n",
       "</g>\r\n",
       "<!-- O_cast0 -->\r\n",
       "<g id=\"node9\" class=\"node\">\r\n",
       "<title>O_cast0</title>\r\n",
       "<polygon fill=\"none\" stroke=\"black\" points=\"313.05,-1171.9 313.05,-1186.82 289.5,-1197.36 256.2,-1197.36 232.65,-1186.82 232.65,-1171.9 256.2,-1161.36 289.5,-1161.36 313.05,-1171.9\"/>\r\n",
       "<text text-anchor=\"middle\" x=\"272.85\" y=\"-1175.66\" font-family=\"Times New Roman,serif\" font-size=\"14.00\">O_cast</text>\r\n",
       "</g>\r\n",
       "<!-- Cast2/Cast (op#2)\\n input0 O\\n output0 O_cast&#45;&gt;O_cast0 -->\r\n",
       "<g id=\"edge6\" class=\"edge\">\r\n",
       "<title>Cast2/Cast (op#2)\\n input0 O\\n output0 O_cast:&#45;&gt;O_cast0:</title>\r\n",
       "<path fill=\"none\" stroke=\"black\" d=\"M272.85,-1233.18C272.85,-1224.69 272.85,-1215.79 272.85,-1207.78\"/>\r\n",
       "<polygon fill=\"black\" stroke=\"black\" points=\"276.35,-1207.51 272.85,-1197.51 269.35,-1207.51 276.35,-1207.51\"/>\r\n",
       "</g>\r\n",
       "<!-- O0 -->\r\n",
       "<g id=\"node8\" class=\"node\">\r\n",
       "<title>O0</title>\r\n",
       "<polygon fill=\"none\" stroke=\"black\" points=\"299.85,-1354.86 299.85,-1369.77 284.04,-1380.31 261.67,-1380.31 245.85,-1369.77 245.85,-1354.86 261.67,-1344.31 284.04,-1344.31 299.85,-1354.86\"/>\r\n",
       "<text text-anchor=\"middle\" x=\"272.85\" y=\"-1358.61\" font-family=\"Times New Roman,serif\" font-size=\"14.00\">O</text>\r\n",
       "</g>\r\n",
       "<!-- O0&#45;&gt;Cast2/Cast (op#2)\\n input0 O\\n output0 O_cast -->\r\n",
       "<g id=\"edge5\" class=\"edge\">\r\n",
       "<title>O0:&#45;&gt;Cast2/Cast (op#2)\\n input0 O\\n output0 O_cast:</title>\r\n",
       "<path fill=\"none\" stroke=\"black\" d=\"M272.85,-1344.06C272.85,-1336.76 272.85,-1327.85 272.85,-1318.83\"/>\r\n",
       "<polygon fill=\"black\" stroke=\"black\" points=\"276.35,-1318.67 272.85,-1308.67 269.35,-1318.67 276.35,-1318.67\"/>\r\n",
       "</g>\r\n",
       "<!-- O_cast0&#45;&gt;Concat/Concat (op#3)\\n input0 B_cast\\n input1 G_cast\\n input2 O_cast\\n output0 merged_columns -->\r\n",
       "<g id=\"edge9\" class=\"edge\">\r\n",
       "<title>O_cast0:&#45;&gt;Concat/Concat (op#3)\\n input0 B_cast\\n input1 G_cast\\n input2 O_cast\\n output0 merged_columns:</title>\r\n",
       "<path fill=\"none\" stroke=\"black\" d=\"M272.85,-1161.06C272.85,-1153.92 272.85,-1145.14 272.85,-1135.84\"/>\r\n",
       "<polygon fill=\"black\" stroke=\"black\" points=\"276.35,-1135.61 272.85,-1125.61 269.35,-1135.61 276.35,-1135.61\"/>\r\n",
       "</g>\r\n",
       "<!-- merged_columns0 -->\r\n",
       "<g id=\"node11\" class=\"node\">\r\n",
       "<title>merged_columns0</title>\r\n",
       "<polygon fill=\"none\" stroke=\"black\" points=\"352.34,-946.52 352.34,-961.44 305.78,-971.98 239.93,-971.98 193.36,-961.44 193.36,-946.52 239.93,-935.98 305.78,-935.98 352.34,-946.52\"/>\r\n",
       "<text text-anchor=\"middle\" x=\"272.85\" y=\"-950.28\" font-family=\"Times New Roman,serif\" font-size=\"14.00\">merged_columns</text>\r\n",
       "</g>\r\n",
       "<!-- Concat/Concat (op#3)\\n input0 B_cast\\n input1 G_cast\\n input2 O_cast\\n output0 merged_columns&#45;&gt;merged_columns0 -->\r\n",
       "<g id=\"edge10\" class=\"edge\">\r\n",
       "<title>Concat/Concat (op#3)\\n input0 B_cast\\n input1 G_cast\\n input2 O_cast\\n output0 merged_columns:&#45;&gt;merged_columns0:</title>\r\n",
       "<path fill=\"none\" stroke=\"black\" d=\"M272.85,-1007.73C272.85,-998.91 272.85,-990.19 272.85,-982.44\"/>\r\n",
       "<polygon fill=\"black\" stroke=\"black\" points=\"276.35,-982.24 272.85,-972.24 269.35,-982.24 276.35,-982.24\"/>\r\n",
       "</g>\r\n",
       "<!-- Imputer/Imputer (op#4)\\n input0 merged_columns\\n output0 variable -->\r\n",
       "<g id=\"node12\" class=\"node\">\r\n",
       "<title>Imputer/Imputer (op#4)\\n input0 merged_columns\\n output0 variable</title>\r\n",
       "<g id=\"a_node12\"><a xlink:href=\"javascript:alert(&#39;&#39;)\" xlink:title=\"Imputer/Imputer (op#4)\\n input0 merged_columns\\n output0 variable\">\r\n",
       "<ellipse fill=\"yellow\" stroke=\"yellow\" cx=\"272.85\" cy=\"-862.5\" rx=\"109.7\" ry=\"37.45\"/>\r\n",
       "<text text-anchor=\"middle\" x=\"272.85\" y=\"-873.8\" font-family=\"Times New Roman,serif\" font-size=\"14.00\">Imputer/Imputer (op#4)</text>\r\n",
       "<text text-anchor=\"middle\" x=\"272.85\" y=\"-858.8\" font-family=\"Times New Roman,serif\" font-size=\"14.00\"> input0 merged_columns</text>\r\n",
       "<text text-anchor=\"middle\" x=\"272.85\" y=\"-843.8\" font-family=\"Times New Roman,serif\" font-size=\"14.00\"> output0 variable</text>\r\n",
       "</a>\r\n",
       "</g>\r\n",
       "</g>\r\n",
       "<!-- merged_columns0&#45;&gt;Imputer/Imputer (op#4)\\n input0 merged_columns\\n output0 variable -->\r\n",
       "<g id=\"edge11\" class=\"edge\">\r\n",
       "<title>merged_columns0:&#45;&gt;Imputer/Imputer (op#4)\\n input0 merged_columns\\n output0 variable:</title>\r\n",
       "<path fill=\"none\" stroke=\"black\" d=\"M272.85,-935.73C272.85,-928.42 272.85,-919.52 272.85,-910.5\"/>\r\n",
       "<polygon fill=\"black\" stroke=\"black\" points=\"276.35,-910.33 272.85,-900.33 269.35,-910.33 276.35,-910.33\"/>\r\n",
       "</g>\r\n",
       "<!-- variable0 -->\r\n",
       "<g id=\"node13\" class=\"node\">\r\n",
       "<title>variable0</title>\r\n",
       "<polygon fill=\"none\" stroke=\"black\" points=\"314.36,-763.57 314.36,-778.48 290.05,-789.03 255.66,-789.03 231.34,-778.48 231.34,-763.57 255.66,-753.03 290.05,-753.03 314.36,-763.57\"/>\r\n",
       "<text text-anchor=\"middle\" x=\"272.85\" y=\"-767.33\" font-family=\"Times New Roman,serif\" font-size=\"14.00\">variable</text>\r\n",
       "</g>\r\n",
       "<!-- Imputer/Imputer (op#4)\\n input0 merged_columns\\n output0 variable&#45;&gt;variable0 -->\r\n",
       "<g id=\"edge12\" class=\"edge\">\r\n",
       "<title>Imputer/Imputer (op#4)\\n input0 merged_columns\\n output0 variable:&#45;&gt;variable0:</title>\r\n",
       "<path fill=\"none\" stroke=\"black\" d=\"M272.85,-824.85C272.85,-816.36 272.85,-807.46 272.85,-799.44\"/>\r\n",
       "<polygon fill=\"black\" stroke=\"black\" points=\"276.35,-799.17 272.85,-789.17 269.35,-799.17 276.35,-799.17\"/>\r\n",
       "</g>\r\n",
       "<!-- Scaler/Scaler (op#5)\\n input0 variable\\n output0 variable1 -->\r\n",
       "<g id=\"node14\" class=\"node\">\r\n",
       "<title>Scaler/Scaler (op#5)\\n input0 variable\\n output0 variable1</title>\r\n",
       "<g id=\"a_node14\"><a xlink:href=\"javascript:alert(&#39;&#39;)\" xlink:title=\"Scaler/Scaler (op#5)\\n input0 variable\\n output0 variable1\">\r\n",
       "<ellipse fill=\"yellow\" stroke=\"yellow\" cx=\"272.85\" cy=\"-679.55\" rx=\"92.76\" ry=\"37.45\"/>\r\n",
       "<text text-anchor=\"middle\" x=\"272.85\" y=\"-690.85\" font-family=\"Times New Roman,serif\" font-size=\"14.00\">Scaler/Scaler (op#5)</text>\r\n",
       "<text text-anchor=\"middle\" x=\"272.85\" y=\"-675.85\" font-family=\"Times New Roman,serif\" font-size=\"14.00\"> input0 variable</text>\r\n",
       "<text text-anchor=\"middle\" x=\"272.85\" y=\"-660.85\" font-family=\"Times New Roman,serif\" font-size=\"14.00\"> output0 variable1</text>\r\n",
       "</a>\r\n",
       "</g>\r\n",
       "</g>\r\n",
       "<!-- variable0&#45;&gt;Scaler/Scaler (op#5)\\n input0 variable\\n output0 variable1 -->\r\n",
       "<g id=\"edge13\" class=\"edge\">\r\n",
       "<title>variable0:&#45;&gt;Scaler/Scaler (op#5)\\n input0 variable\\n output0 variable1:</title>\r\n",
       "<path fill=\"none\" stroke=\"black\" d=\"M272.85,-752.77C272.85,-745.47 272.85,-736.57 272.85,-727.54\"/>\r\n",
       "<polygon fill=\"black\" stroke=\"black\" points=\"276.35,-727.38 272.85,-717.38 269.35,-727.38 276.35,-727.38\"/>\r\n",
       "</g>\r\n",
       "<!-- variable10 -->\r\n",
       "<g id=\"node15\" class=\"node\">\r\n",
       "<title>variable10</title>\r\n",
       "<polygon fill=\"none\" stroke=\"black\" points=\"319.21,-580.62 319.21,-595.53 292.06,-606.07 253.65,-606.07 226.49,-595.53 226.49,-580.62 253.65,-570.07 292.06,-570.07 319.21,-580.62\"/>\r\n",
       "<text text-anchor=\"middle\" x=\"272.85\" y=\"-584.37\" font-family=\"Times New Roman,serif\" font-size=\"14.00\">variable1</text>\r\n",
       "</g>\r\n",
       "<!-- Scaler/Scaler (op#5)\\n input0 variable\\n output0 variable1&#45;&gt;variable10 -->\r\n",
       "<g id=\"edge14\" class=\"edge\">\r\n",
       "<title>Scaler/Scaler (op#5)\\n input0 variable\\n output0 variable1:&#45;&gt;variable10:</title>\r\n",
       "<path fill=\"none\" stroke=\"black\" d=\"M272.85,-641.9C272.85,-633.4 272.85,-624.51 272.85,-616.49\"/>\r\n",
       "<polygon fill=\"black\" stroke=\"black\" points=\"276.35,-616.22 272.85,-606.22 269.35,-616.22 276.35,-616.22\"/>\r\n",
       "</g>\r\n",
       "<!-- LinearClassifier/LinearClassifier (op#6)\\n input0 variable1\\n output0 label\\n output1 probability_tensor -->\r\n",
       "<g id=\"node16\" class=\"node\">\r\n",
       "<title>LinearClassifier/LinearClassifier (op#6)\\n input0 variable1\\n output0 label\\n output1 probability_tensor</title>\r\n",
       "<g id=\"a_node16\"><a xlink:href=\"javascript:alert(&#39;&#39;)\" xlink:title=\"LinearClassifier/LinearClassifier (op#6)\\n input0 variable1\\n output0 label\\n output1 probability_tensor\">\r\n",
       "<ellipse fill=\"yellow\" stroke=\"yellow\" cx=\"272.85\" cy=\"-485.99\" rx=\"166.34\" ry=\"48.17\"/>\r\n",
       "<text text-anchor=\"middle\" x=\"272.85\" y=\"-504.79\" font-family=\"Times New Roman,serif\" font-size=\"14.00\">LinearClassifier/LinearClassifier (op#6)</text>\r\n",
       "<text text-anchor=\"middle\" x=\"272.85\" y=\"-489.79\" font-family=\"Times New Roman,serif\" font-size=\"14.00\"> input0 variable1</text>\r\n",
       "<text text-anchor=\"middle\" x=\"272.85\" y=\"-474.79\" font-family=\"Times New Roman,serif\" font-size=\"14.00\"> output0 label</text>\r\n",
       "<text text-anchor=\"middle\" x=\"272.85\" y=\"-459.79\" font-family=\"Times New Roman,serif\" font-size=\"14.00\"> output1 probability_tensor</text>\r\n",
       "</a>\r\n",
       "</g>\r\n",
       "</g>\r\n",
       "<!-- variable10&#45;&gt;LinearClassifier/LinearClassifier (op#6)\\n input0 variable1\\n output0 label\\n output1 probability_tensor -->\r\n",
       "<g id=\"edge15\" class=\"edge\">\r\n",
       "<title>variable10:&#45;&gt;LinearClassifier/LinearClassifier (op#6)\\n input0 variable1\\n output0 label\\n output1 probability_tensor:</title>\r\n",
       "<path fill=\"none\" stroke=\"black\" d=\"M272.85,-569.64C272.85,-562.4 272.85,-553.55 272.85,-544.36\"/>\r\n",
       "<polygon fill=\"black\" stroke=\"black\" points=\"276.35,-544.32 272.85,-534.32 269.35,-544.32 276.35,-544.32\"/>\r\n",
       "</g>\r\n",
       "<!-- label0 -->\r\n",
       "<g id=\"node17\" class=\"node\">\r\n",
       "<title>label0</title>\r\n",
       "<polygon fill=\"none\" stroke=\"black\" points=\"237.45,-376.45 237.45,-391.36 220.11,-401.91 195.59,-401.91 178.26,-391.36 178.26,-376.45 195.59,-365.91 220.11,-365.91 237.45,-376.45\"/>\r\n",
       "<text text-anchor=\"middle\" x=\"207.85\" y=\"-380.21\" font-family=\"Times New Roman,serif\" font-size=\"14.00\">label</text>\r\n",
       "</g>\r\n",
       "<!-- LinearClassifier/LinearClassifier (op#6)\\n input0 variable1\\n output0 label\\n output1 probability_tensor&#45;&gt;label0 -->\r\n",
       "<g id=\"edge16\" class=\"edge\">\r\n",
       "<title>LinearClassifier/LinearClassifier (op#6)\\n input0 variable1\\n output0 label\\n output1 probability_tensor:&#45;&gt;label0:</title>\r\n",
       "<path fill=\"none\" stroke=\"black\" d=\"M242.64,-438.46C236.5,-429.02 230.26,-419.4 224.78,-410.98\"/>\r\n",
       "<polygon fill=\"black\" stroke=\"black\" points=\"227.57,-408.84 219.19,-402.36 221.7,-412.65 227.57,-408.84\"/>\r\n",
       "</g>\r\n",
       "<!-- probability_tensor0 -->\r\n",
       "<g id=\"node18\" class=\"node\">\r\n",
       "<title>probability_tensor0</title>\r\n",
       "<polygon fill=\"none\" stroke=\"black\" points=\"450.78,-376.45 450.78,-391.36 401.62,-401.91 332.09,-401.91 282.92,-391.36 282.92,-376.45 332.09,-365.91 401.62,-365.91 450.78,-376.45\"/>\r\n",
       "<text text-anchor=\"middle\" x=\"366.85\" y=\"-380.21\" font-family=\"Times New Roman,serif\" font-size=\"14.00\">probability_tensor</text>\r\n",
       "</g>\r\n",
       "<!-- LinearClassifier/LinearClassifier (op#6)\\n input0 variable1\\n output0 label\\n output1 probability_tensor&#45;&gt;probability_tensor0 -->\r\n",
       "<g id=\"edge17\" class=\"edge\">\r\n",
       "<title>LinearClassifier/LinearClassifier (op#6)\\n input0 variable1\\n output0 label\\n output1 probability_tensor:&#45;&gt;probability_tensor0:</title>\r\n",
       "<path fill=\"none\" stroke=\"black\" d=\"M315.73,-439.34C325.31,-429.13 335.13,-418.68 343.57,-409.7\"/>\r\n",
       "<polygon fill=\"black\" stroke=\"black\" points=\"346.29,-411.91 350.59,-402.23 341.19,-407.12 346.29,-411.91\"/>\r\n",
       "</g>\r\n",
       "<!-- Cast3/Cast (op#8)\\n input0 label\\n output0 output_label -->\r\n",
       "<g id=\"node21\" class=\"node\">\r\n",
       "<title>Cast3/Cast (op#8)\\n input0 label\\n output0 output_label</title>\r\n",
       "<g id=\"a_node21\"><a xlink:href=\"javascript:alert(&#39;&#39;)\" xlink:title=\"Cast3/Cast (op#8)\\n input0 label\\n output0 output_label\">\r\n",
       "<ellipse fill=\"yellow\" stroke=\"yellow\" cx=\"151.85\" cy=\"-292.43\" rx=\"96.33\" ry=\"37.45\"/>\r\n",
       "<text text-anchor=\"middle\" x=\"151.85\" y=\"-303.73\" font-family=\"Times New Roman,serif\" font-size=\"14.00\">Cast3/Cast (op#8)</text>\r\n",
       "<text text-anchor=\"middle\" x=\"151.85\" y=\"-288.73\" font-family=\"Times New Roman,serif\" font-size=\"14.00\"> input0 label</text>\r\n",
       "<text text-anchor=\"middle\" x=\"151.85\" y=\"-273.73\" font-family=\"Times New Roman,serif\" font-size=\"14.00\"> output0 output_label</text>\r\n",
       "</a>\r\n",
       "</g>\r\n",
       "</g>\r\n",
       "<!-- label0&#45;&gt;Cast3/Cast (op#8)\\n input0 label\\n output0 output_label -->\r\n",
       "<g id=\"edge20\" class=\"edge\">\r\n",
       "<title>label0:&#45;&gt;Cast3/Cast (op#8)\\n input0 label\\n output0 output_label:</title>\r\n",
       "<path fill=\"none\" stroke=\"black\" d=\"M197.06,-365.65C192.04,-357.64 185.82,-347.71 179.62,-337.8\"/>\r\n",
       "<polygon fill=\"black\" stroke=\"black\" points=\"182.48,-335.77 174.21,-329.15 176.55,-339.48 182.48,-335.77\"/>\r\n",
       "</g>\r\n",
       "<!-- Normalizer/Normalizer (op#7)\\n input0 probability_tensor\\n output0 probabilities -->\r\n",
       "<g id=\"node19\" class=\"node\">\r\n",
       "<title>Normalizer/Normalizer (op#7)\\n input0 probability_tensor\\n output0 probabilities</title>\r\n",
       "<g id=\"a_node19\"><a xlink:href=\"javascript:alert(&#39;&#39;)\" xlink:title=\"Normalizer/Normalizer (op#7)\\n input0 probability_tensor\\n output0 probabilities\">\r\n",
       "<ellipse fill=\"yellow\" stroke=\"yellow\" cx=\"395.85\" cy=\"-292.43\" rx=\"130.22\" ry=\"37.45\"/>\r\n",
       "<text text-anchor=\"middle\" x=\"395.85\" y=\"-303.73\" font-family=\"Times New Roman,serif\" font-size=\"14.00\">Normalizer/Normalizer (op#7)</text>\r\n",
       "<text text-anchor=\"middle\" x=\"395.85\" y=\"-288.73\" font-family=\"Times New Roman,serif\" font-size=\"14.00\"> input0 probability_tensor</text>\r\n",
       "<text text-anchor=\"middle\" x=\"395.85\" y=\"-273.73\" font-family=\"Times New Roman,serif\" font-size=\"14.00\"> output0 probabilities</text>\r\n",
       "</a>\r\n",
       "</g>\r\n",
       "</g>\r\n",
       "<!-- probability_tensor0&#45;&gt;Normalizer/Normalizer (op#7)\\n input0 probability_tensor\\n output0 probabilities -->\r\n",
       "<g id=\"edge18\" class=\"edge\">\r\n",
       "<title>probability_tensor0:&#45;&gt;Normalizer/Normalizer (op#7)\\n input0 probability_tensor\\n output0 probabilities:</title>\r\n",
       "<path fill=\"none\" stroke=\"black\" d=\"M372.44,-365.65C374.89,-358.12 377.88,-348.88 380.9,-339.56\"/>\r\n",
       "<polygon fill=\"black\" stroke=\"black\" points=\"384.28,-340.48 384.04,-329.89 377.62,-338.32 384.28,-340.48\"/>\r\n",
       "</g>\r\n",
       "<!-- probabilities0 -->\r\n",
       "<g id=\"node20\" class=\"node\">\r\n",
       "<title>probabilities0</title>\r\n",
       "<polygon fill=\"none\" stroke=\"black\" points=\"455.45,-193.5 455.45,-208.41 420.54,-218.95 371.17,-218.95 336.26,-208.41 336.26,-193.5 371.17,-182.95 420.54,-182.95 455.45,-193.5\"/>\r\n",
       "<text text-anchor=\"middle\" x=\"395.85\" y=\"-197.25\" font-family=\"Times New Roman,serif\" font-size=\"14.00\">probabilities</text>\r\n",
       "</g>\r\n",
       "<!-- Normalizer/Normalizer (op#7)\\n input0 probability_tensor\\n output0 probabilities&#45;&gt;probabilities0 -->\r\n",
       "<g id=\"edge19\" class=\"edge\">\r\n",
       "<title>Normalizer/Normalizer (op#7)\\n input0 probability_tensor\\n output0 probabilities:&#45;&gt;probabilities0:</title>\r\n",
       "<path fill=\"none\" stroke=\"black\" d=\"M395.85,-254.78C395.85,-246.28 395.85,-237.39 395.85,-229.37\"/>\r\n",
       "<polygon fill=\"black\" stroke=\"black\" points=\"399.35,-229.1 395.85,-219.1 392.35,-229.1 399.35,-229.1\"/>\r\n",
       "</g>\r\n",
       "<!-- ZipMap/ZipMap (op#9)\\n input0 probabilities\\n output0 output_probability -->\r\n",
       "<g id=\"node23\" class=\"node\">\r\n",
       "<title>ZipMap/ZipMap (op#9)\\n input0 probabilities\\n output0 output_probability</title>\r\n",
       "<g id=\"a_node23\"><a xlink:href=\"javascript:alert(&#39;&#39;)\" xlink:title=\"ZipMap/ZipMap (op#9)\\n input0 probabilities\\n output0 output_probability\">\r\n",
       "<ellipse fill=\"yellow\" stroke=\"yellow\" cx=\"395.85\" cy=\"-109.48\" rx=\"120.42\" ry=\"37.45\"/>\r\n",
       "<text text-anchor=\"middle\" x=\"395.85\" y=\"-120.78\" font-family=\"Times New Roman,serif\" font-size=\"14.00\">ZipMap/ZipMap (op#9)</text>\r\n",
       "<text text-anchor=\"middle\" x=\"395.85\" y=\"-105.78\" font-family=\"Times New Roman,serif\" font-size=\"14.00\"> input0 probabilities</text>\r\n",
       "<text text-anchor=\"middle\" x=\"395.85\" y=\"-90.78\" font-family=\"Times New Roman,serif\" font-size=\"14.00\"> output0 output_probability</text>\r\n",
       "</a>\r\n",
       "</g>\r\n",
       "</g>\r\n",
       "<!-- probabilities0&#45;&gt;ZipMap/ZipMap (op#9)\\n input0 probabilities\\n output0 output_probability -->\r\n",
       "<g id=\"edge22\" class=\"edge\">\r\n",
       "<title>probabilities0:&#45;&gt;ZipMap/ZipMap (op#9)\\n input0 probabilities\\n output0 output_probability:</title>\r\n",
       "<path fill=\"none\" stroke=\"black\" d=\"M395.85,-182.7C395.85,-175.4 395.85,-166.49 395.85,-157.47\"/>\r\n",
       "<polygon fill=\"black\" stroke=\"black\" points=\"399.35,-157.31 395.85,-147.31 392.35,-157.31 399.35,-157.31\"/>\r\n",
       "</g>\r\n",
       "<!-- output_label0 -->\r\n",
       "<g id=\"node22\" class=\"node\">\r\n",
       "<title>output_label0</title>\r\n",
       "<polygon fill=\"none\" stroke=\"black\" points=\"212.35,-193.5 212.35,-208.41 176.91,-218.95 126.79,-218.95 91.35,-208.41 91.35,-193.5 126.79,-182.95 176.91,-182.95 212.35,-193.5\"/>\r\n",
       "<text text-anchor=\"middle\" x=\"151.85\" y=\"-197.25\" font-family=\"Times New Roman,serif\" font-size=\"14.00\">output_label</text>\r\n",
       "</g>\r\n",
       "<!-- Cast3/Cast (op#8)\\n input0 label\\n output0 output_label&#45;&gt;output_label0 -->\r\n",
       "<g id=\"edge21\" class=\"edge\">\r\n",
       "<title>Cast3/Cast (op#8)\\n input0 label\\n output0 output_label:&#45;&gt;output_label0:</title>\r\n",
       "<path fill=\"none\" stroke=\"black\" d=\"M151.85,-254.78C151.85,-246.28 151.85,-237.39 151.85,-229.37\"/>\r\n",
       "<polygon fill=\"black\" stroke=\"black\" points=\"155.35,-229.1 151.85,-219.1 148.35,-229.1 155.35,-229.1\"/>\r\n",
       "</g>\r\n",
       "<!-- output_probability0 -->\r\n",
       "<g id=\"node24\" class=\"node\">\r\n",
       "<title>output_probability0</title>\r\n",
       "<polygon fill=\"none\" stroke=\"black\" points=\"480.19,-10.54 480.19,-25.46 430.79,-36 360.92,-36 311.51,-25.46 311.51,-10.54 360.92,0 430.79,0 480.19,-10.54\"/>\r\n",
       "<text text-anchor=\"middle\" x=\"395.85\" y=\"-14.3\" font-family=\"Times New Roman,serif\" font-size=\"14.00\">output_probability</text>\r\n",
       "</g>\r\n",
       "<!-- ZipMap/ZipMap (op#9)\\n input0 probabilities\\n output0 output_probability&#45;&gt;output_probability0 -->\r\n",
       "<g id=\"edge23\" class=\"edge\">\r\n",
       "<title>ZipMap/ZipMap (op#9)\\n input0 probabilities\\n output0 output_probability:&#45;&gt;output_probability0:</title>\r\n",
       "<path fill=\"none\" stroke=\"black\" d=\"M395.85,-71.82C395.85,-63.33 395.85,-54.43 395.85,-46.42\"/>\r\n",
       "<polygon fill=\"black\" stroke=\"black\" points=\"399.35,-46.15 395.85,-36.15 392.35,-46.15 399.35,-46.15\"/>\r\n",
       "</g>\r\n",
       "</g>\r\n",
       "</svg>\r\n"
      ],
      "text/plain": [
       "<graphviz.files.Source at 0x26215404430>"
      ]
     },
     "execution_count": 150,
     "metadata": {},
     "output_type": "execute_result"
    }
   ],
   "source": [
    "import graphviz\n",
    "pydot_graph = GetPydotGraph(model_onnx.graph,\n",
    "                            name=model_onnx.graph.name,\n",
    "                            rankdir=\"TB\",\n",
    "                            node_producer=GetOpNodeProducer(\"docstring\",\n",
    "                                                            color=\"yellow\",\n",
    "                                                            fillcolor=\"yellow\",\n",
    "                                                            style=\"filled\"))\n",
    "\n",
    "graphviz.Source(pydot_graph)"
   ]
  },
  {
   "cell_type": "code",
   "execution_count": null,
   "metadata": {},
   "outputs": [],
   "source": []
  },
  {
   "cell_type": "code",
   "execution_count": null,
   "metadata": {},
   "outputs": [],
   "source": []
  },
  {
   "cell_type": "code",
   "execution_count": null,
   "metadata": {},
   "outputs": [],
   "source": []
  },
  {
   "cell_type": "code",
   "execution_count": null,
   "metadata": {},
   "outputs": [],
   "source": []
  },
  {
   "cell_type": "code",
   "execution_count": null,
   "metadata": {},
   "outputs": [],
   "source": []
  },
  {
   "cell_type": "code",
   "execution_count": null,
   "metadata": {},
   "outputs": [],
   "source": []
  },
  {
   "cell_type": "code",
   "execution_count": null,
   "metadata": {},
   "outputs": [],
   "source": []
  },
  {
   "cell_type": "code",
   "execution_count": null,
   "metadata": {},
   "outputs": [],
   "source": []
  },
  {
   "cell_type": "markdown",
   "metadata": {},
   "source": [
    "### Conclusion \n",
    "#### New methods for determining the most interesting characteristics in data will be developed as a result of data mining research. Models can be used as a tool in further research as they are created and implemented. Although cross validation has demonstrated that my model does not overfit the data, I believe that further testing is needed to decide which function subset is truly the best.To improve the model's accuracy, further research is needed. I was able to reach the accuracy of ~49.99% which is low but would require more time and research in order to improve my model. \n",
    "#### Hence, I learned a lot from this project and was able to understand the core logic and methods of data mining to create a model which has to be trained. Though, I want to further study this dataset and enhance the accuracy and train my model to the best result in future."
   ]
  },
  {
   "cell_type": "markdown",
   "metadata": {},
   "source": [
    "### Bibliography\n",
    "1. Jason Brownlee, Multinomial Logostic Regression : https://machinelearningmastery.com/multinomial-logistic-regression-with-python/ 2021\n",
    "2. Will Koehrsen, Feature Selector: https://github.com/WillKoehrsen/feature-selector 2019\n",
    "3. X. Wu, V. Kumar and J. R. Quinlan, “Top 10 algorithms in data mining”, Knowledge and Information Systems, vol. 14, no. 1, (2008),\n",
    "4. M. Kantardzie,  “Data   mining:   concepts,   models,   methods,   and   algorithms”, JournalComputerInformationScienceEngineering, vol. 5, no. 4,(2005),\n",
    "5. Phillip Wirth, ONNX model, https://towardsdatascience.com/onnx-easily-exchange-deep-learning-models-f3c42100fd77"
   ]
  },
  {
   "cell_type": "code",
   "execution_count": null,
   "metadata": {},
   "outputs": [],
   "source": []
  }
 ],
 "metadata": {
  "kernelspec": {
   "display_name": "Python 3",
   "language": "python",
   "name": "python3"
  },
  "language_info": {
   "codemirror_mode": {
    "name": "ipython",
    "version": 3
   },
   "file_extension": ".py",
   "mimetype": "text/x-python",
   "name": "python",
   "nbconvert_exporter": "python",
   "pygments_lexer": "ipython3",
   "version": "3.8.5"
  }
 },
 "nbformat": 4,
 "nbformat_minor": 5
}
