{
 "cells": [
  {
   "cell_type": "code",
   "execution_count": 25,
   "id": "equal-coordinate",
   "metadata": {},
   "outputs": [],
   "source": [
    "\n",
    "import math\n",
    "import numpy as np\n",
    "import pandas as pd\n",
    "from sklearn.metrics.pairwise import cosine_similarity"
   ]
  },
  {
   "cell_type": "code",
   "execution_count": 26,
   "id": "necessary-colleague",
   "metadata": {},
   "outputs": [],
   "source": [
    "df_bakery = pd.read_csv(r\"C:\\Users\\stuar\\Documents\\College\\Data Mining\\Assignment\\75000-out2-binary.csv\")"
   ]
  },
  {
   "cell_type": "code",
   "execution_count": 27,
   "id": "finnish-utilization",
   "metadata": {},
   "outputs": [
    {
     "data": {
      "text/html": [
       "<div>\n",
       "<style scoped>\n",
       "    .dataframe tbody tr th:only-of-type {\n",
       "        vertical-align: middle;\n",
       "    }\n",
       "\n",
       "    .dataframe tbody tr th {\n",
       "        vertical-align: top;\n",
       "    }\n",
       "\n",
       "    .dataframe thead th {\n",
       "        text-align: right;\n",
       "    }\n",
       "</style>\n",
       "<table border=\"1\" class=\"dataframe\">\n",
       "  <thead>\n",
       "    <tr style=\"text-align: right;\">\n",
       "      <th></th>\n",
       "      <th>Transaction Number</th>\n",
       "      <th>Chocolate Cake</th>\n",
       "      <th>Lemon Cake</th>\n",
       "      <th>Casino Cake</th>\n",
       "      <th>Opera Cake</th>\n",
       "      <th>Strawberry Cake</th>\n",
       "      <th>Truffle Cake</th>\n",
       "      <th>Chocolate Eclair</th>\n",
       "      <th>Coffee Eclair</th>\n",
       "      <th>Vanilla Eclair</th>\n",
       "      <th>...</th>\n",
       "      <th>Lemon Lemonade</th>\n",
       "      <th>Raspberry Lemonade</th>\n",
       "      <th>Orange Juice</th>\n",
       "      <th>Green Tea</th>\n",
       "      <th>Bottled Water</th>\n",
       "      <th>Hot Coffee</th>\n",
       "      <th>Chocolate Coffee</th>\n",
       "      <th>Vanilla Frappuccino</th>\n",
       "      <th>Cherry Soda</th>\n",
       "      <th>Single Espresso</th>\n",
       "    </tr>\n",
       "  </thead>\n",
       "  <tbody>\n",
       "    <tr>\n",
       "      <th>0</th>\n",
       "      <td>1</td>\n",
       "      <td>0</td>\n",
       "      <td>0</td>\n",
       "      <td>0</td>\n",
       "      <td>0</td>\n",
       "      <td>0</td>\n",
       "      <td>0</td>\n",
       "      <td>0</td>\n",
       "      <td>0</td>\n",
       "      <td>0</td>\n",
       "      <td>...</td>\n",
       "      <td>0</td>\n",
       "      <td>0</td>\n",
       "      <td>0</td>\n",
       "      <td>0</td>\n",
       "      <td>0</td>\n",
       "      <td>0</td>\n",
       "      <td>0</td>\n",
       "      <td>0</td>\n",
       "      <td>0</td>\n",
       "      <td>0</td>\n",
       "    </tr>\n",
       "    <tr>\n",
       "      <th>1</th>\n",
       "      <td>2</td>\n",
       "      <td>0</td>\n",
       "      <td>0</td>\n",
       "      <td>0</td>\n",
       "      <td>0</td>\n",
       "      <td>0</td>\n",
       "      <td>0</td>\n",
       "      <td>0</td>\n",
       "      <td>1</td>\n",
       "      <td>0</td>\n",
       "      <td>...</td>\n",
       "      <td>0</td>\n",
       "      <td>0</td>\n",
       "      <td>0</td>\n",
       "      <td>0</td>\n",
       "      <td>0</td>\n",
       "      <td>1</td>\n",
       "      <td>0</td>\n",
       "      <td>0</td>\n",
       "      <td>0</td>\n",
       "      <td>0</td>\n",
       "    </tr>\n",
       "    <tr>\n",
       "      <th>2</th>\n",
       "      <td>3</td>\n",
       "      <td>0</td>\n",
       "      <td>0</td>\n",
       "      <td>0</td>\n",
       "      <td>1</td>\n",
       "      <td>0</td>\n",
       "      <td>0</td>\n",
       "      <td>0</td>\n",
       "      <td>0</td>\n",
       "      <td>0</td>\n",
       "      <td>...</td>\n",
       "      <td>0</td>\n",
       "      <td>0</td>\n",
       "      <td>1</td>\n",
       "      <td>0</td>\n",
       "      <td>0</td>\n",
       "      <td>0</td>\n",
       "      <td>0</td>\n",
       "      <td>0</td>\n",
       "      <td>0</td>\n",
       "      <td>0</td>\n",
       "    </tr>\n",
       "    <tr>\n",
       "      <th>3</th>\n",
       "      <td>4</td>\n",
       "      <td>0</td>\n",
       "      <td>0</td>\n",
       "      <td>0</td>\n",
       "      <td>0</td>\n",
       "      <td>0</td>\n",
       "      <td>1</td>\n",
       "      <td>0</td>\n",
       "      <td>0</td>\n",
       "      <td>0</td>\n",
       "      <td>...</td>\n",
       "      <td>0</td>\n",
       "      <td>0</td>\n",
       "      <td>0</td>\n",
       "      <td>0</td>\n",
       "      <td>0</td>\n",
       "      <td>0</td>\n",
       "      <td>0</td>\n",
       "      <td>1</td>\n",
       "      <td>0</td>\n",
       "      <td>0</td>\n",
       "    </tr>\n",
       "    <tr>\n",
       "      <th>4</th>\n",
       "      <td>5</td>\n",
       "      <td>0</td>\n",
       "      <td>0</td>\n",
       "      <td>0</td>\n",
       "      <td>0</td>\n",
       "      <td>0</td>\n",
       "      <td>0</td>\n",
       "      <td>1</td>\n",
       "      <td>0</td>\n",
       "      <td>0</td>\n",
       "      <td>...</td>\n",
       "      <td>0</td>\n",
       "      <td>0</td>\n",
       "      <td>1</td>\n",
       "      <td>0</td>\n",
       "      <td>0</td>\n",
       "      <td>0</td>\n",
       "      <td>0</td>\n",
       "      <td>0</td>\n",
       "      <td>0</td>\n",
       "      <td>0</td>\n",
       "    </tr>\n",
       "  </tbody>\n",
       "</table>\n",
       "<p>5 rows × 51 columns</p>\n",
       "</div>"
      ],
      "text/plain": [
       "   Transaction Number  Chocolate Cake  Lemon Cake  Casino Cake  Opera Cake  \\\n",
       "0                   1               0           0            0           0   \n",
       "1                   2               0           0            0           0   \n",
       "2                   3               0           0            0           1   \n",
       "3                   4               0           0            0           0   \n",
       "4                   5               0           0            0           0   \n",
       "\n",
       "   Strawberry Cake  Truffle Cake  Chocolate Eclair  Coffee Eclair  \\\n",
       "0                0             0                 0              0   \n",
       "1                0             0                 0              1   \n",
       "2                0             0                 0              0   \n",
       "3                0             1                 0              0   \n",
       "4                0             0                 1              0   \n",
       "\n",
       "   Vanilla Eclair  ...  Lemon Lemonade  Raspberry Lemonade  Orange Juice  \\\n",
       "0               0  ...               0                   0             0   \n",
       "1               0  ...               0                   0             0   \n",
       "2               0  ...               0                   0             1   \n",
       "3               0  ...               0                   0             0   \n",
       "4               0  ...               0                   0             1   \n",
       "\n",
       "   Green Tea  Bottled Water  Hot Coffee  Chocolate Coffee  \\\n",
       "0          0              0           0                 0   \n",
       "1          0              0           1                 0   \n",
       "2          0              0           0                 0   \n",
       "3          0              0           0                 0   \n",
       "4          0              0           0                 0   \n",
       "\n",
       "   Vanilla Frappuccino  Cherry Soda  Single Espresso  \n",
       "0                    0            0                0  \n",
       "1                    0            0                0  \n",
       "2                    0            0                0  \n",
       "3                    1            0                0  \n",
       "4                    0            0                0  \n",
       "\n",
       "[5 rows x 51 columns]"
      ]
     },
     "execution_count": 27,
     "metadata": {},
     "output_type": "execute_result"
    }
   ],
   "source": [
    "df_bakery.head()"
   ]
  },
  {
   "cell_type": "code",
   "execution_count": 28,
   "id": "unlike-communication",
   "metadata": {},
   "outputs": [],
   "source": [
    "product_1 = 'Chocolate Coffee'\n",
    "product_2 = 'Chocolate Cake'\n",
    "\n",
    "select_bakery = df_bakery[[product_1, product_2]]"
   ]
  },
  {
   "cell_type": "code",
   "execution_count": 10,
   "id": "starting-wesley",
   "metadata": {},
   "outputs": [],
   "source": [
    "count_1p = select_bakery[product_1] == 1\n",
    "count_2p = select_bakery[product_2] == 1"
   ]
  },
  {
   "cell_type": "code",
   "execution_count": 11,
   "id": "statutory-relevance",
   "metadata": {},
   "outputs": [
    {
     "name": "stdout",
     "output_type": "stream",
     "text": [
      "                                 Chocolate Coffee  Chocolate Cake\n",
      "Chocolate Coffee Chocolate Cake                                  \n",
      "False            False                      65802           65802\n",
      "                 True                        2962            2962\n",
      "True             False                       2933            2933\n",
      "                 True                        3303            3303\n"
     ]
    }
   ],
   "source": [
    "f_bake = select_bakery.groupby([count_1p, count_2p]).count()\n",
    "print(f_bake)"
   ]
  },
  {
   "cell_type": "code",
   "execution_count": 12,
   "id": "promising-kenya",
   "metadata": {},
   "outputs": [
    {
     "name": "stdout",
     "output_type": "stream",
     "text": [
      "f00 ->  65802\n",
      "f01 ->  2962\n",
      "f10 ->  2933\n",
      "f11 ->  3303\n"
     ]
    }
   ],
   "source": [
    "f00 = f_bake[product_1][0][0]\n",
    "f01 = f_bake[product_1][0][1]\n",
    "f10 = f_bake[product_2][1][0]\n",
    "f11 = f_bake[product_2][1][1]\n",
    "\n",
    "print(\"f00 -> \",f00)\n",
    "print(\"f01 -> \",f01)\n",
    "print(\"f10 -> \",f10)\n",
    "print(\"f11 -> \",f11)"
   ]
  },
  {
   "cell_type": "code",
   "execution_count": 13,
   "id": "graduate-invitation",
   "metadata": {},
   "outputs": [
    {
     "name": "stdout",
     "output_type": "stream",
     "text": [
      "f1+ ->  6236\n",
      "f+1 ->  6265\n",
      "f0+ ->  68764\n",
      "f+0 ->  68735\n"
     ]
    }
   ],
   "source": [
    "f1plus = f11 + f10\n",
    "fplus1 = f11 + f01\n",
    "f0plus = f01 + f00\n",
    "fplus0 = f10 + f00\n",
    "\n",
    "print(\"f1+ -> \",f1plus)\n",
    "print(\"f+1 -> \",fplus1)\n",
    "print(\"f0+ -> \",f0plus)\n",
    "print(\"f+0 -> \",fplus0)"
   ]
  },
  {
   "cell_type": "code",
   "execution_count": 17,
   "id": "concerned-albania",
   "metadata": {},
   "outputs": [
    {
     "name": "stdout",
     "output_type": "stream",
     "text": [
      "Total ->  75000\n",
      "Total ->  75000\n"
     ]
    }
   ],
   "source": [
    "n_total = f1plus + f0plus\n",
    "print(\"Total -> \",n_total)\n",
    "\n",
    "n_total = fplus1 + fplus0\n",
    "print(\"Total -> \",n_total)"
   ]
  },
  {
   "cell_type": "code",
   "execution_count": 20,
   "id": "driving-subscription",
   "metadata": {},
   "outputs": [
    {
     "name": "stdout",
     "output_type": "stream",
     "text": [
      "\t Coco \t\t !Coco \t\n",
      "\n",
      "Cake \t 3303 \t 2933 \t 6236\n",
      "\n",
      "!Cake \t 2962 \t 65802 \t 68764\n",
      "\n",
      "\t 6265 \t 68735 \t 75000\n"
     ]
    }
   ],
   "source": [
    "print(\"\\t\",\"Coco\",\"\\t\\t\",\"!Coco\",\"\\t\")\n",
    "print()\n",
    "print(\"Cake\", \"\\t\",f11,\"\\t\",f10,\"\\t\",f1plus)\n",
    "print()\n",
    "print(\"!Cake\",\"\\t\",f01,\"\\t\",f00,\"\\t\",f0plus)\n",
    "print()\n",
    "print(\"\\t\", fplus1, \"\\t\", fplus0, \"\\t\", n_total)"
   ]
  },
  {
   "cell_type": "code",
   "execution_count": 22,
   "id": "bridal-australian",
   "metadata": {},
   "outputs": [
    {
     "name": "stdout",
     "output_type": "stream",
     "text": [
      "Support ->  0.04404\n",
      "Count   ->  0.5296664528543938\n"
     ]
    }
   ],
   "source": [
    "s = f11 / n_total\n",
    "print(\"Support -> \",s)\n",
    "\n",
    "c = f11 / f1plus\n",
    "print(\"Count   -> \",c)"
   ]
  },
  {
   "cell_type": "code",
   "execution_count": 23,
   "id": "fifteen-indiana",
   "metadata": {},
   "outputs": [
    {
     "name": "stdout",
     "output_type": "stream",
     "text": [
      "Lift            ->  6.340779563300804\n",
      "Interest Factor ->  6.340779563300805\n"
     ]
    }
   ],
   "source": [
    "l = c / (fplus1 / n_total)\n",
    "print(\"Lift            -> \",l)\n",
    "\n",
    "I = n_total*f11 / (f1plus * fplus1)\n",
    "print(\"Interest Factor -> \",I)"
   ]
  },
  {
   "cell_type": "code",
   "execution_count": 37,
   "id": "needed-karaoke",
   "metadata": {},
   "outputs": [
    {
     "name": "stdout",
     "output_type": "stream",
     "text": [
      "IS measures(using support) -> 0.5284391468918322\n",
      "IS measures (using count)  -> 0.5284391468918322\n"
     ]
    }
   ],
   "source": [
    "s_a = f1plus / n_total\n",
    "s_b = fplus1 / n_total\n",
    "s_ab = f11 / n_total\n",
    "\n",
    "c_ab = s_ab / s_a\n",
    "c_ba = s_ab / s_b\n",
    "\n",
    "IS = s_ab / (math.sqrt(s_a * s_b))\n",
    "print(\"IS measures(using support) ->\",IS)\n",
    "\n",
    "IS = math.sqrt(c_ab * c_ba)\n",
    "print(\"IS measures (using count)  ->\",IS)"
   ]
  },
  {
   "cell_type": "code",
   "execution_count": 24,
   "id": "hired-pollution",
   "metadata": {},
   "outputs": [
    {
     "name": "stdout",
     "output_type": "stream",
     "text": [
      "Binary Correlation Coefficient-> 0.4855664925278768\n"
     ]
    }
   ],
   "source": [
    "correlation = ((f11*f00)-(f10*f01))/(math.sqrt(f1plus*fplus1*f0plus*fplus0))\n",
    "print(\"Binary Correlation Coefficient->\",correlation)"
   ]
  },
  {
   "cell_type": "markdown",
   "id": "daily-federation",
   "metadata": {},
   "source": [
    "#### The binary correlation is 0.4856. \n",
    "#### These 2 items are Assymmetric Binary Variables.\n",
    "\n",
    "#### s({Chocolate Cake}) = 0.0835\n",
    "#### s({Chocolate Coffee}) = 0.08314\n",
    "#### s({Chocolate Cake},{Chocolate Coffee}) = 0.4404\n",
    "\n",
    "#### Yes, The correlation coefficient is the same value for both the associations rules: {Chocolate Coffee} -> {Chocolate Cake} and {Chocolate Cake} -> {Chocolate Coffee} because the correlation coefficient is invariant"
   ]
  },
  {
   "cell_type": "code",
   "execution_count": null,
   "id": "strange-anthropology",
   "metadata": {},
   "outputs": [],
   "source": []
  }
 ],
 "metadata": {
  "kernelspec": {
   "display_name": "Python 3",
   "language": "python",
   "name": "python3"
  },
  "language_info": {
   "codemirror_mode": {
    "name": "ipython",
    "version": 3
   },
   "file_extension": ".py",
   "mimetype": "text/x-python",
   "name": "python",
   "nbconvert_exporter": "python",
   "pygments_lexer": "ipython3",
   "version": "3.9.1"
  }
 },
 "nbformat": 4,
 "nbformat_minor": 5
}
