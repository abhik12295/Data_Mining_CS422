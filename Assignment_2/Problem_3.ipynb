{
 "cells": [
  {
   "cell_type": "code",
   "execution_count": 469,
   "id": "tropical-buying",
   "metadata": {},
   "outputs": [],
   "source": [
    "import numpy as np\n",
    "from sklearn.impute import SimpleImputer\n",
    "import pandas as pd\n",
    "import matplotlib.pyplot as plt\n",
    "from sklearn.preprocessing import LabelEncoder\n",
    "from sklearn.preprocessing import StandardScaler\n",
    "from sklearn.decomposition import PCA"
   ]
  },
  {
   "cell_type": "code",
   "execution_count": 470,
   "id": "prime-camping",
   "metadata": {},
   "outputs": [],
   "source": [
    "from sklearn.tree import DecisionTreeClassifier\n",
    "from sklearn.model_selection import train_test_split\n",
    "from sklearn.metrics import classification_report,precision_recall_fscore_support, confusion_matrix,accuracy_score,ConfusionMatrixDisplay\n",
    "from sklearn.tree import export_graphviz\n",
    "from IPython.display import Image"
   ]
  },
  {
   "cell_type": "code",
   "execution_count": 471,
   "id": "standing-twenty",
   "metadata": {},
   "outputs": [],
   "source": [
    "df_cancer= pd.read_csv(r\"C:\\Users\\stuar\\Documents\\College\\Data Mining\\Assignment\\wdbc.data\",header=None)\n",
    "df_cancer.columns= [\"ID\",\"diagnosis\",\"radius_mean\",\"texture_mean\",\"perimeter_mean\",\"area_mean\",\"smoothness_mean\",\"compactness_mean\",\"concavity_mean\",\"concavepnts_mean\",\"symmetry_mean\",\"fractal_mean\",\"radius_SE\",\"texture_SE\",\"perimeter_SE\",\"area_SE\",\"smoothness_SE\",\"compactness_SE\",\"concavity_SE\",\"concavepts_SE\",\"symmetry_SE\",\"fractal_SE\",\"vradiuse_worst\",\"texture_worst\",\"perimeter_worst\",\"area_worst\",\"smoothness_worst\",\"compactness_worst\",\"concavity_worst\",\"concave_worst\",\"symmetry_worst\",\"fractal_worst\"]"
   ]
  },
  {
   "cell_type": "code",
   "execution_count": 472,
   "id": "positive-pleasure",
   "metadata": {},
   "outputs": [
    {
     "data": {
      "text/html": [
       "<div>\n",
       "<style scoped>\n",
       "    .dataframe tbody tr th:only-of-type {\n",
       "        vertical-align: middle;\n",
       "    }\n",
       "\n",
       "    .dataframe tbody tr th {\n",
       "        vertical-align: top;\n",
       "    }\n",
       "\n",
       "    .dataframe thead th {\n",
       "        text-align: right;\n",
       "    }\n",
       "</style>\n",
       "<table border=\"1\" class=\"dataframe\">\n",
       "  <thead>\n",
       "    <tr style=\"text-align: right;\">\n",
       "      <th></th>\n",
       "      <th>diagnosis</th>\n",
       "      <th>radius_mean</th>\n",
       "      <th>texture_mean</th>\n",
       "      <th>perimeter_mean</th>\n",
       "      <th>area_mean</th>\n",
       "      <th>smoothness_mean</th>\n",
       "      <th>compactness_mean</th>\n",
       "      <th>concavity_mean</th>\n",
       "      <th>concavepnts_mean</th>\n",
       "      <th>symmetry_mean</th>\n",
       "      <th>...</th>\n",
       "      <th>vradiuse_worst</th>\n",
       "      <th>texture_worst</th>\n",
       "      <th>perimeter_worst</th>\n",
       "      <th>area_worst</th>\n",
       "      <th>smoothness_worst</th>\n",
       "      <th>compactness_worst</th>\n",
       "      <th>concavity_worst</th>\n",
       "      <th>concave_worst</th>\n",
       "      <th>symmetry_worst</th>\n",
       "      <th>fractal_worst</th>\n",
       "    </tr>\n",
       "  </thead>\n",
       "  <tbody>\n",
       "    <tr>\n",
       "      <th>0</th>\n",
       "      <td>1</td>\n",
       "      <td>17.99</td>\n",
       "      <td>10.38</td>\n",
       "      <td>122.80</td>\n",
       "      <td>1001.0</td>\n",
       "      <td>0.11840</td>\n",
       "      <td>0.27760</td>\n",
       "      <td>0.3001</td>\n",
       "      <td>0.14710</td>\n",
       "      <td>0.2419</td>\n",
       "      <td>...</td>\n",
       "      <td>25.38</td>\n",
       "      <td>17.33</td>\n",
       "      <td>184.60</td>\n",
       "      <td>2019.0</td>\n",
       "      <td>0.1622</td>\n",
       "      <td>0.6656</td>\n",
       "      <td>0.7119</td>\n",
       "      <td>0.2654</td>\n",
       "      <td>0.4601</td>\n",
       "      <td>0.11890</td>\n",
       "    </tr>\n",
       "    <tr>\n",
       "      <th>1</th>\n",
       "      <td>1</td>\n",
       "      <td>20.57</td>\n",
       "      <td>17.77</td>\n",
       "      <td>132.90</td>\n",
       "      <td>1326.0</td>\n",
       "      <td>0.08474</td>\n",
       "      <td>0.07864</td>\n",
       "      <td>0.0869</td>\n",
       "      <td>0.07017</td>\n",
       "      <td>0.1812</td>\n",
       "      <td>...</td>\n",
       "      <td>24.99</td>\n",
       "      <td>23.41</td>\n",
       "      <td>158.80</td>\n",
       "      <td>1956.0</td>\n",
       "      <td>0.1238</td>\n",
       "      <td>0.1866</td>\n",
       "      <td>0.2416</td>\n",
       "      <td>0.1860</td>\n",
       "      <td>0.2750</td>\n",
       "      <td>0.08902</td>\n",
       "    </tr>\n",
       "    <tr>\n",
       "      <th>2</th>\n",
       "      <td>1</td>\n",
       "      <td>19.69</td>\n",
       "      <td>21.25</td>\n",
       "      <td>130.00</td>\n",
       "      <td>1203.0</td>\n",
       "      <td>0.10960</td>\n",
       "      <td>0.15990</td>\n",
       "      <td>0.1974</td>\n",
       "      <td>0.12790</td>\n",
       "      <td>0.2069</td>\n",
       "      <td>...</td>\n",
       "      <td>23.57</td>\n",
       "      <td>25.53</td>\n",
       "      <td>152.50</td>\n",
       "      <td>1709.0</td>\n",
       "      <td>0.1444</td>\n",
       "      <td>0.4245</td>\n",
       "      <td>0.4504</td>\n",
       "      <td>0.2430</td>\n",
       "      <td>0.3613</td>\n",
       "      <td>0.08758</td>\n",
       "    </tr>\n",
       "    <tr>\n",
       "      <th>3</th>\n",
       "      <td>1</td>\n",
       "      <td>11.42</td>\n",
       "      <td>20.38</td>\n",
       "      <td>77.58</td>\n",
       "      <td>386.1</td>\n",
       "      <td>0.14250</td>\n",
       "      <td>0.28390</td>\n",
       "      <td>0.2414</td>\n",
       "      <td>0.10520</td>\n",
       "      <td>0.2597</td>\n",
       "      <td>...</td>\n",
       "      <td>14.91</td>\n",
       "      <td>26.50</td>\n",
       "      <td>98.87</td>\n",
       "      <td>567.7</td>\n",
       "      <td>0.2098</td>\n",
       "      <td>0.8663</td>\n",
       "      <td>0.6869</td>\n",
       "      <td>0.2575</td>\n",
       "      <td>0.6638</td>\n",
       "      <td>0.17300</td>\n",
       "    </tr>\n",
       "    <tr>\n",
       "      <th>4</th>\n",
       "      <td>1</td>\n",
       "      <td>20.29</td>\n",
       "      <td>14.34</td>\n",
       "      <td>135.10</td>\n",
       "      <td>1297.0</td>\n",
       "      <td>0.10030</td>\n",
       "      <td>0.13280</td>\n",
       "      <td>0.1980</td>\n",
       "      <td>0.10430</td>\n",
       "      <td>0.1809</td>\n",
       "      <td>...</td>\n",
       "      <td>22.54</td>\n",
       "      <td>16.67</td>\n",
       "      <td>152.20</td>\n",
       "      <td>1575.0</td>\n",
       "      <td>0.1374</td>\n",
       "      <td>0.2050</td>\n",
       "      <td>0.4000</td>\n",
       "      <td>0.1625</td>\n",
       "      <td>0.2364</td>\n",
       "      <td>0.07678</td>\n",
       "    </tr>\n",
       "  </tbody>\n",
       "</table>\n",
       "<p>5 rows × 31 columns</p>\n",
       "</div>"
      ],
      "text/plain": [
       "   diagnosis  radius_mean  texture_mean  perimeter_mean  area_mean  \\\n",
       "0          1        17.99         10.38          122.80     1001.0   \n",
       "1          1        20.57         17.77          132.90     1326.0   \n",
       "2          1        19.69         21.25          130.00     1203.0   \n",
       "3          1        11.42         20.38           77.58      386.1   \n",
       "4          1        20.29         14.34          135.10     1297.0   \n",
       "\n",
       "   smoothness_mean  compactness_mean  concavity_mean  concavepnts_mean  \\\n",
       "0          0.11840           0.27760          0.3001           0.14710   \n",
       "1          0.08474           0.07864          0.0869           0.07017   \n",
       "2          0.10960           0.15990          0.1974           0.12790   \n",
       "3          0.14250           0.28390          0.2414           0.10520   \n",
       "4          0.10030           0.13280          0.1980           0.10430   \n",
       "\n",
       "   symmetry_mean  ...  vradiuse_worst  texture_worst  perimeter_worst  \\\n",
       "0         0.2419  ...           25.38          17.33           184.60   \n",
       "1         0.1812  ...           24.99          23.41           158.80   \n",
       "2         0.2069  ...           23.57          25.53           152.50   \n",
       "3         0.2597  ...           14.91          26.50            98.87   \n",
       "4         0.1809  ...           22.54          16.67           152.20   \n",
       "\n",
       "   area_worst  smoothness_worst  compactness_worst  concavity_worst  \\\n",
       "0      2019.0            0.1622             0.6656           0.7119   \n",
       "1      1956.0            0.1238             0.1866           0.2416   \n",
       "2      1709.0            0.1444             0.4245           0.4504   \n",
       "3       567.7            0.2098             0.8663           0.6869   \n",
       "4      1575.0            0.1374             0.2050           0.4000   \n",
       "\n",
       "   concave_worst  symmetry_worst  fractal_worst  \n",
       "0         0.2654          0.4601        0.11890  \n",
       "1         0.1860          0.2750        0.08902  \n",
       "2         0.2430          0.3613        0.08758  \n",
       "3         0.2575          0.6638        0.17300  \n",
       "4         0.1625          0.2364        0.07678  \n",
       "\n",
       "[5 rows x 31 columns]"
      ]
     },
     "execution_count": 472,
     "metadata": {},
     "output_type": "execute_result"
    }
   ],
   "source": [
    "df_cancer=df_cancer.drop(\"ID\",axis=1)\n",
    "labelencoder_Y=LabelEncoder()\n",
    "df_cancer['diagnosis'] = labelencoder_Y.fit_transform(df_cancer['diagnosis'].astype(str))\n",
    "df_cancer.head()"
   ]
  },
  {
   "cell_type": "code",
   "execution_count": 473,
   "id": "liable-commonwealth",
   "metadata": {},
   "outputs": [
    {
     "data": {
      "text/plain": [
       "array([1, 0])"
      ]
     },
     "execution_count": 473,
     "metadata": {},
     "output_type": "execute_result"
    }
   ],
   "source": [
    "#'Diagnosis' is the column that will be predicted\n",
    "# Diagnosis = M (Malignant) and Diagnosis = B (Benign)\n",
    "# 1 => M and 0 => B \n",
    "df_cancer.iloc[:, 0].unique()"
   ]
  },
  {
   "cell_type": "code",
   "execution_count": 474,
   "id": "coordinate-vanilla",
   "metadata": {},
   "outputs": [
    {
     "name": "stdout",
     "output_type": "stream",
     "text": [
      "Dimensions of the Breast Cancer Data Set : (569, 31)\n"
     ]
    }
   ],
   "source": [
    "print(\"Dimensions of the Breast Cancer Data Set : {}\".format(df_cancer.shape))"
   ]
  },
  {
   "cell_type": "code",
   "execution_count": 475,
   "id": "commercial-hunger",
   "metadata": {},
   "outputs": [
    {
     "data": {
      "text/plain": [
       "diagnosis            0\n",
       "radius_mean          0\n",
       "texture_mean         0\n",
       "perimeter_mean       0\n",
       "area_mean            0\n",
       "smoothness_mean      0\n",
       "compactness_mean     0\n",
       "concavity_mean       0\n",
       "concavepnts_mean     0\n",
       "symmetry_mean        0\n",
       "fractal_mean         0\n",
       "radius_SE            0\n",
       "texture_SE           0\n",
       "perimeter_SE         0\n",
       "area_SE              0\n",
       "smoothness_SE        0\n",
       "compactness_SE       0\n",
       "concavity_SE         0\n",
       "concavepts_SE        0\n",
       "symmetry_SE          0\n",
       "fractal_SE           0\n",
       "vradiuse_worst       0\n",
       "texture_worst        0\n",
       "perimeter_worst      0\n",
       "area_worst           0\n",
       "smoothness_worst     0\n",
       "compactness_worst    0\n",
       "concavity_worst      0\n",
       "concave_worst        0\n",
       "symmetry_worst       0\n",
       "fractal_worst        0\n",
       "dtype: int64"
      ]
     },
     "execution_count": 475,
     "metadata": {},
     "output_type": "execute_result"
    }
   ],
   "source": [
    "#No missing or null value\n",
    "df_cancer.isnull().sum()\n",
    "df_cancer.isna().sum()"
   ]
  },
  {
   "cell_type": "markdown",
   "id": "located-argentina",
   "metadata": {},
   "source": [
    "### PCA Dimensionality Reduction"
   ]
  },
  {
   "cell_type": "markdown",
   "id": "dirty-gallery",
   "metadata": {},
   "source": [
    "### Independent And Dependent Variables "
   ]
  },
  {
   "cell_type": "code",
   "execution_count": 476,
   "id": "turned-myrtle",
   "metadata": {},
   "outputs": [],
   "source": [
    "# independant variables\n",
    "X = df_cancer.iloc[:, 1:31].values \n",
    "# dependant variable\n",
    "Y = df_cancer.iloc[:, 0].values"
   ]
  },
  {
   "cell_type": "code",
   "execution_count": 477,
   "id": "apparent-following",
   "metadata": {},
   "outputs": [],
   "source": [
    "df_cancer_new=X.copy()"
   ]
  },
  {
   "cell_type": "markdown",
   "id": "serial-virgin",
   "metadata": {},
   "source": [
    "### Data Standardization"
   ]
  },
  {
   "cell_type": "code",
   "execution_count": 478,
   "id": "broken-asbestos",
   "metadata": {},
   "outputs": [],
   "source": [
    "scaler_cancer = StandardScaler()\n",
    "\n",
    "# Apply transform to set.\n",
    "df_cancer_new = scaler_cancer.fit(df_cancer_new).transform(df_cancer_new)"
   ]
  },
  {
   "cell_type": "code",
   "execution_count": 479,
   "id": "younger-harvey",
   "metadata": {},
   "outputs": [
    {
     "data": {
      "text/plain": [
       "PCA(n_components=1)"
      ]
     },
     "execution_count": 479,
     "metadata": {},
     "output_type": "execute_result"
    }
   ],
   "source": [
    "pca = PCA(n_components=1)\n",
    "pca.fit(df_cancer_new)"
   ]
  },
  {
   "cell_type": "code",
   "execution_count": 480,
   "id": "after-meter",
   "metadata": {},
   "outputs": [
    {
     "data": {
      "text/plain": [
       "(569, 1)"
      ]
     },
     "execution_count": 480,
     "metadata": {},
     "output_type": "execute_result"
    }
   ],
   "source": [
    "df_cancer_new=pca.transform(df_cancer_new)\n",
    "df_cancer_new.shape"
   ]
  },
  {
   "cell_type": "markdown",
   "id": "unique-coral",
   "metadata": {},
   "source": [
    "### New Dataframe "
   ]
  },
  {
   "cell_type": "code",
   "execution_count": 481,
   "id": "regular-blade",
   "metadata": {},
   "outputs": [
    {
     "data": {
      "text/html": [
       "<div>\n",
       "<style scoped>\n",
       "    .dataframe tbody tr th:only-of-type {\n",
       "        vertical-align: middle;\n",
       "    }\n",
       "\n",
       "    .dataframe tbody tr th {\n",
       "        vertical-align: top;\n",
       "    }\n",
       "\n",
       "    .dataframe thead th {\n",
       "        text-align: right;\n",
       "    }\n",
       "</style>\n",
       "<table border=\"1\" class=\"dataframe\">\n",
       "  <thead>\n",
       "    <tr style=\"text-align: right;\">\n",
       "      <th></th>\n",
       "      <th>0</th>\n",
       "    </tr>\n",
       "  </thead>\n",
       "  <tbody>\n",
       "    <tr>\n",
       "      <th>0</th>\n",
       "      <td>9.192837</td>\n",
       "    </tr>\n",
       "    <tr>\n",
       "      <th>1</th>\n",
       "      <td>2.387802</td>\n",
       "    </tr>\n",
       "    <tr>\n",
       "      <th>2</th>\n",
       "      <td>5.733896</td>\n",
       "    </tr>\n",
       "    <tr>\n",
       "      <th>3</th>\n",
       "      <td>7.122953</td>\n",
       "    </tr>\n",
       "    <tr>\n",
       "      <th>4</th>\n",
       "      <td>3.935302</td>\n",
       "    </tr>\n",
       "  </tbody>\n",
       "</table>\n",
       "</div>"
      ],
      "text/plain": [
       "          0\n",
       "0  9.192837\n",
       "1  2.387802\n",
       "2  5.733896\n",
       "3  7.122953\n",
       "4  3.935302"
      ]
     },
     "execution_count": 481,
     "metadata": {},
     "output_type": "execute_result"
    }
   ],
   "source": [
    "df_cancer_new=pd.DataFrame(df_cancer_new)\n",
    "df_cancer_new.head()"
   ]
  },
  {
   "cell_type": "code",
   "execution_count": 482,
   "id": "cloudy-wrapping",
   "metadata": {},
   "outputs": [
    {
     "name": "stdout",
     "output_type": "stream",
     "text": [
      "Explained Variance Ratio: \n",
      "(PC1)\n",
      " [44.27202561]\n"
     ]
    }
   ],
   "source": [
    "# X_base= StandardScaler().fit_transform(X)\n",
    "# pca = PCA(n_components=1)\n",
    "# pcomponents= pca.fit(X_base).transform(X_base)\n",
    "# pDf = pd.DataFrame(data = pcomponents,columns = ['Principal Component 1'])\n",
    "\n",
    "print(\"Explained Variance Ratio: \\n(PC1)\\n\" ,pca.explained_variance_ratio_*100)"
   ]
  },
  {
   "cell_type": "markdown",
   "id": "informal-click",
   "metadata": {},
   "source": [
    "### Model using Original Data"
   ]
  },
  {
   "cell_type": "code",
   "execution_count": 483,
   "id": "parallel-transcription",
   "metadata": {},
   "outputs": [],
   "source": [
    "X_train, X_test, Y_train, Y_test = train_test_split(X, Y, test_size=0.2,random_state = 0)"
   ]
  },
  {
   "cell_type": "code",
   "execution_count": 484,
   "id": "sweet-identifier",
   "metadata": {},
   "outputs": [],
   "source": [
    "# standardscaler = StandardScaler()\n",
    "# X_train = standardscaler.fit_transform(X_train)\n",
    "# X_test = standardscaler.transform(X_test)\n",
    "classifier = DecisionTreeClassifier(criterion='gini', max_depth =2, min_samples_split=5, min_samples_leaf=2)\n",
    "classifier.fit(X_train,Y_train)\n",
    "y_pred =classifier.predict(X_test)"
   ]
  },
  {
   "cell_type": "code",
   "execution_count": 485,
   "id": "clinical-moses",
   "metadata": {},
   "outputs": [
    {
     "name": "stdout",
     "output_type": "stream",
     "text": [
      "\n",
      "Original Data Confusion Matrix\n",
      "[[66  1]\n",
      " [ 3 44]]\n",
      "\n",
      "\n",
      "              precision    recall  f1-score   support\n",
      "\n",
      "           0       0.96      0.99      0.97        67\n",
      "           1       0.98      0.94      0.96        47\n",
      "\n",
      "    accuracy                           0.96       114\n",
      "   macro avg       0.97      0.96      0.96       114\n",
      "weighted avg       0.97      0.96      0.96       114\n",
      "\n"
     ]
    }
   ],
   "source": [
    "print(\"\\nOriginal Data Confusion Matrix\")\n",
    "print(confusion_matrix(Y_test,y_pred))\n",
    "print(\"\\n\")\n",
    "#Classification report\n",
    "print(classification_report(Y_test, y_pred))"
   ]
  },
  {
   "cell_type": "code",
   "execution_count": 486,
   "id": "blind-adaptation",
   "metadata": {},
   "outputs": [
    {
     "data": {
      "image/png": "[encoded data removed]",
      "text/plain": [
       "<IPython.core.display.Image object>"
      ]
     },
     "execution_count": 486,
     "metadata": {},
     "output_type": "execute_result"
    }
   ],
   "source": [
    "export_graphviz(classifier, out_file='tree_4.dot' ,max_depth=2,\n",
    "                rounded=True, proportion=False, precision=2, filled=True\n",
    "               )\n",
    "!dot -Tpng tree_4.dot -o tree_4.png -Gdpi=100\n",
    "Image(filename=\"tree_1.png\")"
   ]
  },
  {
   "cell_type": "code",
   "execution_count": 487,
   "id": "crazy-darkness",
   "metadata": {},
   "outputs": [
    {
     "data": {
      "text/plain": [
       "<sklearn.metrics._plot.confusion_matrix.ConfusionMatrixDisplay at 0x2266ba2f9a0>"
      ]
     },
     "execution_count": 487,
     "metadata": {},
     "output_type": "execute_result"
    },
    {
     "data": {
      "image/png": "[encoded data removed]",
      "text/plain": [
       "<Figure size 432x288 with 2 Axes>"
      ]
     },
     "metadata": {
      "needs_background": "light"
     },
     "output_type": "display_data"
    }
   ],
   "source": [
    "show = ConfusionMatrixDisplay(confusion_matrix=confusion_matrix(Y_test,Y_pred),display_labels=classifier.classes_)\n",
    "show.plot()"
   ]
  },
  {
   "cell_type": "markdown",
   "id": "sorted-generator",
   "metadata": {},
   "source": [
    "### Model using First Principal Components "
   ]
  },
  {
   "cell_type": "code",
   "execution_count": 488,
   "id": "grand-switch",
   "metadata": {},
   "outputs": [],
   "source": [
    "X_train, X_test, Y_train, Y_test = train_test_split(df_cancer_new,Y,test_size=0.2,random_state=0)"
   ]
  },
  {
   "cell_type": "code",
   "execution_count": 489,
   "id": "interested-office",
   "metadata": {},
   "outputs": [],
   "source": [
    "classifier = DecisionTreeClassifier(criterion='gini', max_depth =2, min_samples_split=5, min_samples_leaf=2)\n",
    "classifier.fit(X_train,Y_train)\n",
    "Y_pred =classifier.predict(X_test)"
   ]
  },
  {
   "cell_type": "code",
   "execution_count": 490,
   "id": "informal-shore",
   "metadata": {},
   "outputs": [
    {
     "name": "stdout",
     "output_type": "stream",
     "text": [
      "\n",
      "PCA 1 Confusion Matrix\n",
      "[[58  9]\n",
      " [ 5 42]]\n",
      "\n",
      "\n",
      "              precision    recall  f1-score   support\n",
      "\n",
      "           0       0.92      0.87      0.89        67\n",
      "           1       0.82      0.89      0.86        47\n",
      "\n",
      "    accuracy                           0.88       114\n",
      "   macro avg       0.87      0.88      0.87       114\n",
      "weighted avg       0.88      0.88      0.88       114\n",
      "\n"
     ]
    }
   ],
   "source": [
    "print(\"\\nPCA 1 Confusion Matrix\")\n",
    "print(confusion_matrix(Y_test,Y_pred))\n",
    "print(\"\\n\")\n",
    "#Classification report\n",
    "print(classification_report(Y_test, Y_pred))"
   ]
  },
  {
   "cell_type": "code",
   "execution_count": 491,
   "id": "related-puppy",
   "metadata": {},
   "outputs": [
    {
     "data": {
      "image/png": "[encoded data removed]",
      "text/plain": [
       "<IPython.core.display.Image object>"
      ]
     },
     "execution_count": 491,
     "metadata": {},
     "output_type": "execute_result"
    }
   ],
   "source": [
    "export_graphviz(classifier, out_file='tree_5.dot' ,max_depth=2,\n",
    "                rounded=True, proportion=False, precision=2, filled=True\n",
    "               )\n",
    "!dot -Tpng tree_5.dot -o tree_5.png -Gdpi=100\n",
    "Image(filename=\"tree_1.png\")"
   ]
  },
  {
   "cell_type": "code",
   "execution_count": 492,
   "id": "republican-highlight",
   "metadata": {},
   "outputs": [
    {
     "data": {
      "text/plain": [
       "<sklearn.metrics._plot.confusion_matrix.ConfusionMatrixDisplay at 0x2266bacc880>"
      ]
     },
     "execution_count": 492,
     "metadata": {},
     "output_type": "execute_result"
    },
    {
     "data": {
      "image/png": "[encoded data removed]",
      "text/plain": [
       "<Figure size 432x288 with 2 Axes>"
      ]
     },
     "metadata": {
      "needs_background": "light"
     },
     "output_type": "display_data"
    }
   ],
   "source": [
    "show = ConfusionMatrixDisplay(confusion_matrix=confusion_matrix(Y_test,Y_pred),display_labels=classifier.classes_)\n",
    "show.plot()"
   ]
  },
  {
   "cell_type": "markdown",
   "id": "interracial-rider",
   "metadata": {},
   "source": [
    "### Considering 1 as Positive\n",
    "### Precision = 0.84\n",
    "### Recall = 0.81\n",
    "### TP=42\n",
    "### FN=5\n",
    "### FP=9 \n",
    "### TN=58 \n",
    "\n",
    "### FPR = FP/(FP+TN)=(9/(9+58))\n",
    "### FPR=0.134\n",
    "### TPR = TP/(TP+FN)=(42/(110))\n",
    "### TPR(Recall)= 0.38\n",
    "\n",
    "### FPR/TPR=0.352"
   ]
  },
  {
   "cell_type": "markdown",
   "id": "convinced-badge",
   "metadata": {},
   "source": [
    "### Model using First and Second Principal Component "
   ]
  },
  {
   "cell_type": "code",
   "execution_count": 493,
   "id": "encouraging-fancy",
   "metadata": {},
   "outputs": [],
   "source": [
    "#copy original data\n",
    "df_cancer_new1=X.copy()\n",
    "#Apply Standardization\n",
    "scaler = StandardScaler()\n",
    "df_cancer_new1=scaler.fit(df_cancer_new1).transform(df_cancer_new1)\n"
   ]
  },
  {
   "cell_type": "code",
   "execution_count": 494,
   "id": "recorded-medication",
   "metadata": {},
   "outputs": [],
   "source": [
    "pca = PCA(n_components=2)\n",
    "pca.fit(df_cancer_new1)\n",
    "df_cancer_new1=pca.transform(df_cancer_new1)"
   ]
  },
  {
   "cell_type": "code",
   "execution_count": 495,
   "id": "dated-stable",
   "metadata": {},
   "outputs": [],
   "source": [
    "X_train, X_test, Y_train, Y_test = train_test_split(df_cancer_new1,Y,test_size=0.2,random_state=0)"
   ]
  },
  {
   "cell_type": "code",
   "execution_count": 496,
   "id": "injured-tobago",
   "metadata": {},
   "outputs": [],
   "source": [
    "classifier = DecisionTreeClassifier(criterion='gini', max_depth =2, min_samples_split=5, min_samples_leaf=2)\n",
    "classifier.fit(X_train,Y_train)\n",
    "Y_pred =classifier.predict(X_test)"
   ]
  },
  {
   "cell_type": "code",
   "execution_count": 497,
   "id": "pleasant-suggestion",
   "metadata": {},
   "outputs": [
    {
     "name": "stdout",
     "output_type": "stream",
     "text": [
      "\n",
      "PCA 2 Confusion Matrix\n",
      "[[60  7]\n",
      " [ 9 38]]\n",
      "\n",
      "\n",
      "              precision    recall  f1-score   support\n",
      "\n",
      "           0       0.87      0.90      0.88        67\n",
      "           1       0.84      0.81      0.83        47\n",
      "\n",
      "    accuracy                           0.86       114\n",
      "   macro avg       0.86      0.85      0.85       114\n",
      "weighted avg       0.86      0.86      0.86       114\n",
      "\n"
     ]
    }
   ],
   "source": [
    "print(\"\\nPCA 2 Confusion Matrix\")\n",
    "print(confusion_matrix(Y_test,Y_pred))\n",
    "print(\"\\n\")\n",
    "#Classification report\n",
    "print(classification_report(Y_test, Y_pred))"
   ]
  },
  {
   "cell_type": "code",
   "execution_count": 498,
   "id": "spectacular-export",
   "metadata": {},
   "outputs": [
    {
     "data": {
      "image/png": "[encoded data removed]",
      "text/plain": [
       "<IPython.core.display.Image object>"
      ]
     },
     "execution_count": 498,
     "metadata": {},
     "output_type": "execute_result"
    }
   ],
   "source": [
    "export_graphviz(classifier, out_file='tree_6.dot' ,max_depth=2,\n",
    "                rounded=True, proportion=False, precision=2, filled=True\n",
    "               )\n",
    "!dot -Tpng tree_6.dot -o tree_6.png -Gdpi=100\n",
    "Image(filename=\"tree_1.png\")"
   ]
  },
  {
   "cell_type": "code",
   "execution_count": 499,
   "id": "scheduled-strategy",
   "metadata": {},
   "outputs": [],
   "source": [
    "show = ConfusionMatrixDisplay(confusion_matrix=confusion_matrix(Y_test,Y_pred),display_labels=classifier.classes_)"
   ]
  },
  {
   "cell_type": "code",
   "execution_count": 500,
   "id": "close-excitement",
   "metadata": {},
   "outputs": [
    {
     "data": {
      "text/plain": [
       "<sklearn.metrics._plot.confusion_matrix.ConfusionMatrixDisplay at 0x2266baba340>"
      ]
     },
     "execution_count": 500,
     "metadata": {},
     "output_type": "execute_result"
    },
    {
     "data": {
      "image/png": "[encoded data removed]",
      "text/plain": [
       "<Figure size 432x288 with 2 Axes>"
      ]
     },
     "metadata": {
      "needs_background": "light"
     },
     "output_type": "display_data"
    }
   ],
   "source": [
    "show.plot()"
   ]
  },
  {
   "cell_type": "markdown",
   "id": "peripheral-network",
   "metadata": {},
   "source": [
    "### Considering 1 as Positive\n",
    "### Precision = 0.84\n",
    "### Recall = 0.81\n",
    "### TP=38\n",
    "### FN=9\n",
    "### FP=7 \n",
    "### TN=60 \n",
    "\n",
    "### FPR = FP/(FP+TN)=(7/(7+60))\n",
    "### FPR=0.10\n",
    "### TPR = TP/(TP+FN)=(38/(47))\n",
    "### TPR(Recall)= 0.81\n",
    "\n",
    "### FPR/TPR=.123"
   ]
  },
  {
   "cell_type": "code",
   "execution_count": null,
   "id": "incorporated-rwanda",
   "metadata": {},
   "outputs": [],
   "source": []
  },
  {
   "cell_type": "code",
   "execution_count": null,
   "id": "supported-pitch",
   "metadata": {},
   "outputs": [],
   "source": []
  },
  {
   "cell_type": "code",
   "execution_count": null,
   "id": "demonstrated-civilian",
   "metadata": {},
   "outputs": [],
   "source": []
  }
 ],
 "metadata": {
  "kernelspec": {
   "display_name": "Python 3",
   "language": "python",
   "name": "python3"
  },
  "language_info": {
   "codemirror_mode": {
    "name": "ipython",
    "version": 3
   },
   "file_extension": ".py",
   "mimetype": "text/x-python",
   "name": "python",
   "nbconvert_exporter": "python",
   "pygments_lexer": "ipython3",
   "version": "3.9.1"
  }
 },
 "nbformat": 4,
 "nbformat_minor": 5
}
