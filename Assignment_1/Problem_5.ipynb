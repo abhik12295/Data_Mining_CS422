{
 "cells": [
  {
   "cell_type": "code",
   "execution_count": 1,
   "id": "premium-sector",
   "metadata": {},
   "outputs": [],
   "source": [
    "import numpy as np\n",
    "import pandas as pd\n",
    "import matplotlib.pyplot as plt\n",
    "from sklearn import preprocessing\n",
    "from sklearn.decomposition import PCA\n",
    "from sklearn.preprocessing import StandardScaler\n"
   ]
  },
  {
   "cell_type": "code",
   "execution_count": 2,
   "id": "differential-tourism",
   "metadata": {},
   "outputs": [
    {
     "data": {
      "text/html": [
       "<div>\n",
       "<style scoped>\n",
       "    .dataframe tbody tr th:only-of-type {\n",
       "        vertical-align: middle;\n",
       "    }\n",
       "\n",
       "    .dataframe tbody tr th {\n",
       "        vertical-align: top;\n",
       "    }\n",
       "\n",
       "    .dataframe thead th {\n",
       "        text-align: right;\n",
       "    }\n",
       "</style>\n",
       "<table border=\"1\" class=\"dataframe\">\n",
       "  <thead>\n",
       "    <tr style=\"text-align: right;\">\n",
       "      <th></th>\n",
       "      <th>Id</th>\n",
       "      <th>SepalLengthCm</th>\n",
       "      <th>SepalWidthCm</th>\n",
       "      <th>PetalLengthCm</th>\n",
       "      <th>PetalWidthCm</th>\n",
       "      <th>Species</th>\n",
       "    </tr>\n",
       "  </thead>\n",
       "  <tbody>\n",
       "    <tr>\n",
       "      <th>0</th>\n",
       "      <td>1</td>\n",
       "      <td>5.1</td>\n",
       "      <td>3.5</td>\n",
       "      <td>1.4</td>\n",
       "      <td>0.2</td>\n",
       "      <td>Iris-setosa</td>\n",
       "    </tr>\n",
       "    <tr>\n",
       "      <th>1</th>\n",
       "      <td>2</td>\n",
       "      <td>4.9</td>\n",
       "      <td>3.0</td>\n",
       "      <td>1.4</td>\n",
       "      <td>0.2</td>\n",
       "      <td>Iris-setosa</td>\n",
       "    </tr>\n",
       "    <tr>\n",
       "      <th>2</th>\n",
       "      <td>3</td>\n",
       "      <td>4.7</td>\n",
       "      <td>3.2</td>\n",
       "      <td>1.3</td>\n",
       "      <td>0.2</td>\n",
       "      <td>Iris-setosa</td>\n",
       "    </tr>\n",
       "    <tr>\n",
       "      <th>3</th>\n",
       "      <td>4</td>\n",
       "      <td>4.6</td>\n",
       "      <td>3.1</td>\n",
       "      <td>1.5</td>\n",
       "      <td>0.2</td>\n",
       "      <td>Iris-setosa</td>\n",
       "    </tr>\n",
       "    <tr>\n",
       "      <th>4</th>\n",
       "      <td>5</td>\n",
       "      <td>5.0</td>\n",
       "      <td>3.6</td>\n",
       "      <td>1.4</td>\n",
       "      <td>0.2</td>\n",
       "      <td>Iris-setosa</td>\n",
       "    </tr>\n",
       "  </tbody>\n",
       "</table>\n",
       "</div>"
      ],
      "text/plain": [
       "   Id  SepalLengthCm  SepalWidthCm  PetalLengthCm  PetalWidthCm      Species\n",
       "0   1            5.1           3.5            1.4           0.2  Iris-setosa\n",
       "1   2            4.9           3.0            1.4           0.2  Iris-setosa\n",
       "2   3            4.7           3.2            1.3           0.2  Iris-setosa\n",
       "3   4            4.6           3.1            1.5           0.2  Iris-setosa\n",
       "4   5            5.0           3.6            1.4           0.2  Iris-setosa"
      ]
     },
     "execution_count": 2,
     "metadata": {},
     "output_type": "execute_result"
    }
   ],
   "source": [
    "iris= pd.read_csv(r\"C:\\Users\\stuar\\Documents\\College\\Data Mining\\Assignment\\iris.csv\")\n",
    "iris.head()"
   ]
  },
  {
   "cell_type": "code",
   "execution_count": 3,
   "id": "canadian-worship",
   "metadata": {},
   "outputs": [
    {
     "data": {
      "text/html": [
       "<div>\n",
       "<style scoped>\n",
       "    .dataframe tbody tr th:only-of-type {\n",
       "        vertical-align: middle;\n",
       "    }\n",
       "\n",
       "    .dataframe tbody tr th {\n",
       "        vertical-align: top;\n",
       "    }\n",
       "\n",
       "    .dataframe thead th {\n",
       "        text-align: right;\n",
       "    }\n",
       "</style>\n",
       "<table border=\"1\" class=\"dataframe\">\n",
       "  <thead>\n",
       "    <tr style=\"text-align: right;\">\n",
       "      <th></th>\n",
       "      <th>SepalLengthCm</th>\n",
       "      <th>SepalWidthCm</th>\n",
       "      <th>PetalLengthCm</th>\n",
       "      <th>PetalWidthCm</th>\n",
       "      <th>Species</th>\n",
       "    </tr>\n",
       "  </thead>\n",
       "  <tbody>\n",
       "    <tr>\n",
       "      <th>0</th>\n",
       "      <td>5.1</td>\n",
       "      <td>3.5</td>\n",
       "      <td>1.4</td>\n",
       "      <td>0.2</td>\n",
       "      <td>0</td>\n",
       "    </tr>\n",
       "    <tr>\n",
       "      <th>1</th>\n",
       "      <td>4.9</td>\n",
       "      <td>3.0</td>\n",
       "      <td>1.4</td>\n",
       "      <td>0.2</td>\n",
       "      <td>0</td>\n",
       "    </tr>\n",
       "    <tr>\n",
       "      <th>2</th>\n",
       "      <td>4.7</td>\n",
       "      <td>3.2</td>\n",
       "      <td>1.3</td>\n",
       "      <td>0.2</td>\n",
       "      <td>0</td>\n",
       "    </tr>\n",
       "    <tr>\n",
       "      <th>3</th>\n",
       "      <td>4.6</td>\n",
       "      <td>3.1</td>\n",
       "      <td>1.5</td>\n",
       "      <td>0.2</td>\n",
       "      <td>0</td>\n",
       "    </tr>\n",
       "    <tr>\n",
       "      <th>4</th>\n",
       "      <td>5.0</td>\n",
       "      <td>3.6</td>\n",
       "      <td>1.4</td>\n",
       "      <td>0.2</td>\n",
       "      <td>0</td>\n",
       "    </tr>\n",
       "  </tbody>\n",
       "</table>\n",
       "</div>"
      ],
      "text/plain": [
       "   SepalLengthCm  SepalWidthCm  PetalLengthCm  PetalWidthCm  Species\n",
       "0            5.1           3.5            1.4           0.2        0\n",
       "1            4.9           3.0            1.4           0.2        0\n",
       "2            4.7           3.2            1.3           0.2        0\n",
       "3            4.6           3.1            1.5           0.2        0\n",
       "4            5.0           3.6            1.4           0.2        0"
      ]
     },
     "execution_count": 3,
     "metadata": {},
     "output_type": "execute_result"
    }
   ],
   "source": [
    "lab = preprocessing.LabelEncoder()\n",
    "iris.Species = lab.fit_transform(iris.Species) #converting string labels to numeric\n",
    "iris = iris.drop(\"Id\",axis=1)\n",
    "iris.head()"
   ]
  },
  {
   "cell_type": "code",
   "execution_count": 4,
   "id": "considerable-intellectual",
   "metadata": {},
   "outputs": [],
   "source": [
    "X = iris.iloc[:, :-1].values\n",
    "Y = iris.loc[:,'Species'].values\n",
    "X= StandardScaler().fit_transform(X)\n",
    "pca = PCA(n_components=4)"
   ]
  },
  {
   "cell_type": "code",
   "execution_count": 5,
   "id": "intended-individual",
   "metadata": {},
   "outputs": [
    {
     "name": "stdout",
     "output_type": "stream",
     "text": [
      "     Principal Component 1  Principal Component 2  Principal Component 3  \\\n",
      "0                -2.264542               0.505704              -0.121943   \n",
      "1                -2.086426              -0.655405              -0.227251   \n",
      "2                -2.367950              -0.318477               0.051480   \n",
      "3                -2.304197              -0.575368               0.098860   \n",
      "4                -2.388777               0.674767               0.021428   \n",
      "..                     ...                    ...                    ...   \n",
      "145               1.870522               0.382822               0.254532   \n",
      "146               1.558492              -0.905314              -0.025382   \n",
      "147               1.520845               0.266795               0.179277   \n",
      "148               1.376391               1.016362               0.931405   \n",
      "149               0.959299              -0.022284               0.528794   \n",
      "\n",
      "     Principal Component 4  Species  \n",
      "0                -0.023073        0  \n",
      "1                -0.103208        0  \n",
      "2                -0.027825        0  \n",
      "3                 0.066311        0  \n",
      "4                 0.037397        0  \n",
      "..                     ...      ...  \n",
      "145              -0.388890        2  \n",
      "146              -0.221322        2  \n",
      "147              -0.118903        2  \n",
      "148              -0.024146        2  \n",
      "149               0.163676        2  \n",
      "\n",
      "[150 rows x 5 columns]\n"
     ]
    }
   ],
   "source": [
    "pcomponents= pca.fit(X).transform(X)\n",
    "pDf = pd.DataFrame(data = pcomponents,columns = ['Principal Component 1', 'Principal Component 2','Principal Component 3','Principal Component 4'])\n",
    "finalDf = pd.concat([pDf, iris[['Species']]], axis = 1)\n",
    "print(finalDf)"
   ]
  },
  {
   "cell_type": "code",
   "execution_count": 23,
   "id": "ancient-convergence",
   "metadata": {},
   "outputs": [
    {
     "name": "stdout",
     "output_type": "stream",
     "text": [
      "[0.72770452 0.23030523 0.03683832 0.00515193]\n"
     ]
    }
   ],
   "source": [
    "var=(pca.explained_variance_ratio_)\n",
    "print(var)"
   ]
  },
  {
   "cell_type": "code",
   "execution_count": 27,
   "id": "removable-summit",
   "metadata": {},
   "outputs": [
    {
     "name": "stdout",
     "output_type": "stream",
     "text": [
      "Cummulative Sum of Explained Variance Ratio:  [ 72.77045209  95.80097536  99.48480732 100.        ]\n"
     ]
    }
   ],
   "source": [
    "var=np.cumsum(pca.explained_variance_ratio_*100)\n",
    "print(\"Cummulative Sum of Explained Variance Ratio: \",var)"
   ]
  },
  {
   "cell_type": "code",
   "execution_count": 28,
   "id": "million-window",
   "metadata": {},
   "outputs": [
    {
     "data": {
      "text/plain": [
       "[<matplotlib.lines.Line2D at 0x1dc618ff280>]"
      ]
     },
     "execution_count": 28,
     "metadata": {},
     "output_type": "execute_result"
    },
    {
     "data": {
      "image/png": "[encoded data removed]",
      "text/plain": [
       "<Figure size 432x288 with 1 Axes>"
      ]
     },
     "metadata": {
      "needs_background": "light"
     },
     "output_type": "display_data"
    }
   ],
   "source": [
    "plt.ylabel('% Variance Explained')\n",
    "plt.xlabel('Numbers of Features')\n",
    "plt.title('PCA Analysis')\n",
    "plt.ylim(60,100)\n",
    "plt.style.context('seaborn-whitegrid')\n",
    "plt.plot(var)"
   ]
  },
  {
   "cell_type": "markdown",
   "id": "meaning-pilot",
   "metadata": {},
   "source": [
    "### From above graph, we can conclude that First Principal Component and Second Principal Component explains variance of 72.77% and 23.03% respectively. So cumulative sum of variance of first principal and second principal component, gives more than 95% of variance of original data i.e. (72.77+23.03)%= 95.80%. Which implies that we don't other features for explaining the data. So we reduced our 4 features to 2 features in order to gain maximum information from original dataset."
   ]
  },
  {
   "cell_type": "markdown",
   "id": "renewable-sector",
   "metadata": {},
   "source": [
    "# Original Feature Variance\n"
   ]
  },
  {
   "cell_type": "code",
   "execution_count": 29,
   "id": "overhead-authorization",
   "metadata": {},
   "outputs": [
    {
     "name": "stdout",
     "output_type": "stream",
     "text": [
      "Sepal Length Variance :  0.6811222222222223\n",
      "Sepal Width Variance  :  0.18675066666666668\n",
      "Petal Length Variance :  3.092424888888889\n",
      "Petal Width Variance  :  0.5785315555555555\n"
     ]
    }
   ],
   "source": [
    "print(\"Sepal Length Variance : \",np.var(iris['SepalLengthCm']))\n",
    "print(\"Sepal Width Variance  : \",np.var(iris['SepalWidthCm']))\n",
    "print(\"Petal Length Variance : \",np.var(iris['PetalLengthCm']))\n",
    "print(\"Petal Width Variance  : \",np.var(iris['PetalWidthCm']))"
   ]
  },
  {
   "cell_type": "markdown",
   "id": "impressive-sleeping",
   "metadata": {},
   "source": [
    "# Total Variance of original feature"
   ]
  },
  {
   "cell_type": "code",
   "execution_count": 30,
   "id": "spectacular-contributor",
   "metadata": {},
   "outputs": [
    {
     "name": "stdout",
     "output_type": "stream",
     "text": [
      "Total Variance of Original feature:  4.538829333333333\n"
     ]
    }
   ],
   "source": [
    "total_var=[np.var(iris['SepalLengthCm']),np.var(iris['SepalWidthCm']),np.var(iris['PetalLengthCm']),np.var(iris['PetalWidthCm'])]\n",
    "print(\"Total Variance of Original feature: \",sum(total_var))"
   ]
  },
  {
   "cell_type": "markdown",
   "id": "liable-technology",
   "metadata": {},
   "source": [
    "# Variance of 4 Eigen Vector"
   ]
  },
  {
   "cell_type": "code",
   "execution_count": 31,
   "id": "played-qualification",
   "metadata": {},
   "outputs": [],
   "source": [
    "x_df=pd.DataFrame(X)\n",
    "y_df=pd.DataFrame(pcomponents)\n",
    "x_df.columns=['SepalLengthCm','SepalWidthCm','PetalLengthCm','PetalWidthCm']\n",
    "y_df.columns=['PC1','PC2','PC3','PC4']"
   ]
  },
  {
   "cell_type": "code",
   "execution_count": 32,
   "id": "negative-seeker",
   "metadata": {},
   "outputs": [
    {
     "name": "stdout",
     "output_type": "stream",
     "text": [
      "2.9303537755893143\n",
      "0.927403621517341\n",
      "0.1483422264816401\n",
      "0.020746013995595874\n"
     ]
    }
   ],
   "source": [
    "print(y_df.PC1.var())\n",
    "print(y_df.PC2.var())\n",
    "print(y_df.PC3.var())\n",
    "print(y_df.PC4.var())"
   ]
  },
  {
   "cell_type": "code",
   "execution_count": 26,
   "id": "hybrid-symposium",
   "metadata": {},
   "outputs": [
    {
     "name": "stdout",
     "output_type": "stream",
     "text": [
      "Total variance of 4 Eigen Vector:  4.026845637583891\n"
     ]
    }
   ],
   "source": [
    "total_var_vec=[y_df.PC1.var(),y_df.PC2.var(),y_df.PC3.var(),y_df.PC4.var()]\n",
    "print(\"Total variance of 4 Eigen Vector: \",sum(total_var_vec))"
   ]
  },
  {
   "cell_type": "markdown",
   "id": "minor-power",
   "metadata": {},
   "source": [
    "### As here we can observe that total variance of original feature and total variance of 4 eigen vectors are similar. And variance of first 2 Eigen vectors represents maximum data variance."
   ]
  },
  {
   "cell_type": "code",
   "execution_count": null,
   "id": "adjustable-estate",
   "metadata": {},
   "outputs": [],
   "source": []
  }
 ],
 "metadata": {
  "kernelspec": {
   "display_name": "Python 3",
   "language": "python",
   "name": "python3"
  },
  "language_info": {
   "codemirror_mode": {
    "name": "ipython",
    "version": 3
   },
   "file_extension": ".py",
   "mimetype": "text/x-python",
   "name": "python",
   "nbconvert_exporter": "python",
   "pygments_lexer": "ipython3",
   "version": "3.9.1"
  }
 },
 "nbformat": 4,
 "nbformat_minor": 5
}
