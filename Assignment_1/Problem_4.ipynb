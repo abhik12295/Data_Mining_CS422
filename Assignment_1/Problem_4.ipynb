{
 "cells": [
  {
   "cell_type": "code",
   "execution_count": 517,
   "id": "federal-directory",
   "metadata": {},
   "outputs": [],
   "source": [
    "import numpy as np\n",
    "import seaborn as sns"
   ]
  },
  {
   "cell_type": "code",
   "execution_count": 518,
   "id": "latter-latvia",
   "metadata": {},
   "outputs": [],
   "source": [
    "import pandas as pd"
   ]
  },
  {
   "cell_type": "code",
   "execution_count": 519,
   "id": "accomplished-explanation",
   "metadata": {},
   "outputs": [],
   "source": [
    "import matplotlib.pyplot as plt"
   ]
  },
  {
   "cell_type": "code",
   "execution_count": 520,
   "id": "continuous-break",
   "metadata": {},
   "outputs": [],
   "source": [
    "from sklearn import preprocessing"
   ]
  },
  {
   "cell_type": "code",
   "execution_count": 521,
   "id": "metric-armstrong",
   "metadata": {},
   "outputs": [],
   "source": [
    "from sklearn.decomposition import PCA"
   ]
  },
  {
   "cell_type": "code",
   "execution_count": 522,
   "id": "disturbed-creek",
   "metadata": {},
   "outputs": [],
   "source": [
    "from sklearn.preprocessing import StandardScaler"
   ]
  },
  {
   "cell_type": "code",
   "execution_count": 523,
   "id": "mobile-taylor",
   "metadata": {},
   "outputs": [],
   "source": [
    "iris= pd.read_csv(r\"C:\\Users\\stuar\\Documents\\College\\Data Mining\\Assignment\\iris.csv\")"
   ]
  },
  {
   "cell_type": "code",
   "execution_count": 524,
   "id": "vocational-prompt",
   "metadata": {},
   "outputs": [
    {
     "data": {
      "text/html": [
       "<div>\n",
       "<style scoped>\n",
       "    .dataframe tbody tr th:only-of-type {\n",
       "        vertical-align: middle;\n",
       "    }\n",
       "\n",
       "    .dataframe tbody tr th {\n",
       "        vertical-align: top;\n",
       "    }\n",
       "\n",
       "    .dataframe thead th {\n",
       "        text-align: right;\n",
       "    }\n",
       "</style>\n",
       "<table border=\"1\" class=\"dataframe\">\n",
       "  <thead>\n",
       "    <tr style=\"text-align: right;\">\n",
       "      <th></th>\n",
       "      <th>Id</th>\n",
       "      <th>SepalLengthCm</th>\n",
       "      <th>SepalWidthCm</th>\n",
       "      <th>PetalLengthCm</th>\n",
       "      <th>PetalWidthCm</th>\n",
       "      <th>Species</th>\n",
       "    </tr>\n",
       "  </thead>\n",
       "  <tbody>\n",
       "    <tr>\n",
       "      <th>0</th>\n",
       "      <td>1</td>\n",
       "      <td>5.1</td>\n",
       "      <td>3.5</td>\n",
       "      <td>1.4</td>\n",
       "      <td>0.2</td>\n",
       "      <td>Iris-setosa</td>\n",
       "    </tr>\n",
       "    <tr>\n",
       "      <th>1</th>\n",
       "      <td>2</td>\n",
       "      <td>4.9</td>\n",
       "      <td>3.0</td>\n",
       "      <td>1.4</td>\n",
       "      <td>0.2</td>\n",
       "      <td>Iris-setosa</td>\n",
       "    </tr>\n",
       "    <tr>\n",
       "      <th>2</th>\n",
       "      <td>3</td>\n",
       "      <td>4.7</td>\n",
       "      <td>3.2</td>\n",
       "      <td>1.3</td>\n",
       "      <td>0.2</td>\n",
       "      <td>Iris-setosa</td>\n",
       "    </tr>\n",
       "    <tr>\n",
       "      <th>3</th>\n",
       "      <td>4</td>\n",
       "      <td>4.6</td>\n",
       "      <td>3.1</td>\n",
       "      <td>1.5</td>\n",
       "      <td>0.2</td>\n",
       "      <td>Iris-setosa</td>\n",
       "    </tr>\n",
       "    <tr>\n",
       "      <th>4</th>\n",
       "      <td>5</td>\n",
       "      <td>5.0</td>\n",
       "      <td>3.6</td>\n",
       "      <td>1.4</td>\n",
       "      <td>0.2</td>\n",
       "      <td>Iris-setosa</td>\n",
       "    </tr>\n",
       "  </tbody>\n",
       "</table>\n",
       "</div>"
      ],
      "text/plain": [
       "   Id  SepalLengthCm  SepalWidthCm  PetalLengthCm  PetalWidthCm      Species\n",
       "0   1            5.1           3.5            1.4           0.2  Iris-setosa\n",
       "1   2            4.9           3.0            1.4           0.2  Iris-setosa\n",
       "2   3            4.7           3.2            1.3           0.2  Iris-setosa\n",
       "3   4            4.6           3.1            1.5           0.2  Iris-setosa\n",
       "4   5            5.0           3.6            1.4           0.2  Iris-setosa"
      ]
     },
     "execution_count": 524,
     "metadata": {},
     "output_type": "execute_result"
    }
   ],
   "source": [
    "iris.head()"
   ]
  },
  {
   "cell_type": "code",
   "execution_count": 525,
   "id": "falling-soviet",
   "metadata": {},
   "outputs": [],
   "source": [
    "lab = preprocessing.LabelEncoder()"
   ]
  },
  {
   "cell_type": "code",
   "execution_count": 526,
   "id": "working-journey",
   "metadata": {},
   "outputs": [],
   "source": [
    "iris.Species = lab.fit_transform(iris.Species) #Cnverting string labels to Numeric"
   ]
  },
  {
   "cell_type": "code",
   "execution_count": 527,
   "id": "successful-china",
   "metadata": {},
   "outputs": [],
   "source": [
    "iris = iris.drop(\"Id\",axis=1)"
   ]
  },
  {
   "cell_type": "code",
   "execution_count": 528,
   "id": "appreciated-irrigation",
   "metadata": {},
   "outputs": [
    {
     "data": {
      "text/html": [
       "<div>\n",
       "<style scoped>\n",
       "    .dataframe tbody tr th:only-of-type {\n",
       "        vertical-align: middle;\n",
       "    }\n",
       "\n",
       "    .dataframe tbody tr th {\n",
       "        vertical-align: top;\n",
       "    }\n",
       "\n",
       "    .dataframe thead th {\n",
       "        text-align: right;\n",
       "    }\n",
       "</style>\n",
       "<table border=\"1\" class=\"dataframe\">\n",
       "  <thead>\n",
       "    <tr style=\"text-align: right;\">\n",
       "      <th></th>\n",
       "      <th>SepalLengthCm</th>\n",
       "      <th>SepalWidthCm</th>\n",
       "      <th>PetalLengthCm</th>\n",
       "      <th>PetalWidthCm</th>\n",
       "      <th>Species</th>\n",
       "    </tr>\n",
       "  </thead>\n",
       "  <tbody>\n",
       "    <tr>\n",
       "      <th>0</th>\n",
       "      <td>5.1</td>\n",
       "      <td>3.5</td>\n",
       "      <td>1.4</td>\n",
       "      <td>0.2</td>\n",
       "      <td>0</td>\n",
       "    </tr>\n",
       "    <tr>\n",
       "      <th>1</th>\n",
       "      <td>4.9</td>\n",
       "      <td>3.0</td>\n",
       "      <td>1.4</td>\n",
       "      <td>0.2</td>\n",
       "      <td>0</td>\n",
       "    </tr>\n",
       "    <tr>\n",
       "      <th>2</th>\n",
       "      <td>4.7</td>\n",
       "      <td>3.2</td>\n",
       "      <td>1.3</td>\n",
       "      <td>0.2</td>\n",
       "      <td>0</td>\n",
       "    </tr>\n",
       "    <tr>\n",
       "      <th>3</th>\n",
       "      <td>4.6</td>\n",
       "      <td>3.1</td>\n",
       "      <td>1.5</td>\n",
       "      <td>0.2</td>\n",
       "      <td>0</td>\n",
       "    </tr>\n",
       "    <tr>\n",
       "      <th>4</th>\n",
       "      <td>5.0</td>\n",
       "      <td>3.6</td>\n",
       "      <td>1.4</td>\n",
       "      <td>0.2</td>\n",
       "      <td>0</td>\n",
       "    </tr>\n",
       "  </tbody>\n",
       "</table>\n",
       "</div>"
      ],
      "text/plain": [
       "   SepalLengthCm  SepalWidthCm  PetalLengthCm  PetalWidthCm  Species\n",
       "0            5.1           3.5            1.4           0.2        0\n",
       "1            4.9           3.0            1.4           0.2        0\n",
       "2            4.7           3.2            1.3           0.2        0\n",
       "3            4.6           3.1            1.5           0.2        0\n",
       "4            5.0           3.6            1.4           0.2        0"
      ]
     },
     "execution_count": 528,
     "metadata": {},
     "output_type": "execute_result"
    }
   ],
   "source": [
    "iris.head()"
   ]
  },
  {
   "cell_type": "code",
   "execution_count": 529,
   "id": "comprehensive-franchise",
   "metadata": {},
   "outputs": [],
   "source": [
    "X_n = iris.iloc[:, :-1].values"
   ]
  },
  {
   "cell_type": "code",
   "execution_count": 530,
   "id": "loose-ensemble",
   "metadata": {},
   "outputs": [],
   "source": [
    "Y_n = iris.loc[:,'Species'].values"
   ]
  },
  {
   "cell_type": "code",
   "execution_count": 531,
   "id": "structured-distributor",
   "metadata": {},
   "outputs": [],
   "source": [
    "X= StandardScaler().fit_transform(X_n)"
   ]
  },
  {
   "cell_type": "code",
   "execution_count": 532,
   "id": "viral-sensitivity",
   "metadata": {},
   "outputs": [],
   "source": [
    "pca = PCA(n_components=1)"
   ]
  },
  {
   "cell_type": "code",
   "execution_count": 533,
   "id": "outstanding-pizza",
   "metadata": {},
   "outputs": [],
   "source": [
    "pcomponents= pca.fit(X).transform(X)"
   ]
  },
  {
   "cell_type": "code",
   "execution_count": 534,
   "id": "exposed-gateway",
   "metadata": {},
   "outputs": [],
   "source": [
    "pDf = pd.DataFrame(data = pcomponents,columns = ['Principal Component 1'])"
   ]
  },
  {
   "cell_type": "code",
   "execution_count": 549,
   "id": "alert-uncertainty",
   "metadata": {},
   "outputs": [
    {
     "name": "stdout",
     "output_type": "stream",
     "text": [
      "Explained Variance Ratio :  [0.72770452]\n"
     ]
    }
   ],
   "source": [
    "var=(pca.explained_variance_ratio_)\n",
    "print(\"Explained Variance Ratio : \",var)"
   ]
  },
  {
   "cell_type": "markdown",
   "id": "indie-object",
   "metadata": {},
   "source": [
    "### 1st Principal Component vs. The Original Feature itself."
   ]
  },
  {
   "cell_type": "code",
   "execution_count": 537,
   "id": "renewable-fiction",
   "metadata": {},
   "outputs": [],
   "source": [
    "x_df=pd.DataFrame(X)\n",
    "x_df.columns=['SepalLengthCm','SepalWidthCm','PetalLengthCm','PetalWidthCm']\n",
    "x_nf=pd.DataFrame(X_n)\n",
    "x_nf.columns=['SepalLengthCm','SepalWidthCm','PetalLengthCm','PetalWidthCm']\n",
    "y_df=pd.DataFrame(pcomponents)\n",
    "y_df.columns=['PC1']"
   ]
  },
  {
   "cell_type": "code",
   "execution_count": 545,
   "id": "foreign-organ",
   "metadata": {},
   "outputs": [
    {
     "data": {
      "text/plain": [
       "<matplotlib.collections.PathCollection at 0x23486a6c460>"
      ]
     },
     "execution_count": 545,
     "metadata": {},
     "output_type": "execute_result"
    },
    {
     "data": {
      "image/png": "[encoded data removed]",
      "text/plain": [
       "<Figure size 432x288 with 1 Axes>"
      ]
     },
     "metadata": {
      "needs_background": "light"
     },
     "output_type": "display_data"
    }
   ],
   "source": [
    "\n",
    "plt.xlabel(\"Sepal Length\")\n",
    "plt.ylabel(\"PC1\")\n",
    "plt.scatter(x_df['SepalLengthCm'],y_df['PC1'],color=['red'])"
   ]
  },
  {
   "cell_type": "code",
   "execution_count": 546,
   "id": "european-radical",
   "metadata": {},
   "outputs": [
    {
     "data": {
      "text/plain": [
       "<matplotlib.collections.PathCollection at 0x23486ac3370>"
      ]
     },
     "execution_count": 546,
     "metadata": {},
     "output_type": "execute_result"
    },
    {
     "data": {
      "image/png": "[encoded data removed]",
      "text/plain": [
       "<Figure size 432x288 with 1 Axes>"
      ]
     },
     "metadata": {
      "needs_background": "light"
     },
     "output_type": "display_data"
    }
   ],
   "source": [
    "plt.xlabel(\"Sepal Width\")\n",
    "plt.ylabel(\"PC1\")\n",
    "plt.scatter(x_df['SepalWidthCm'],y_df['PC1'],color=['black'])"
   ]
  },
  {
   "cell_type": "code",
   "execution_count": 547,
   "id": "northern-alpha",
   "metadata": {},
   "outputs": [
    {
     "data": {
      "text/plain": [
       "<matplotlib.collections.PathCollection at 0x23486b187c0>"
      ]
     },
     "execution_count": 547,
     "metadata": {},
     "output_type": "execute_result"
    },
    {
     "data": {
      "image/png": "[encoded data removed]",
      "text/plain": [
       "<Figure size 432x288 with 1 Axes>"
      ]
     },
     "metadata": {
      "needs_background": "light"
     },
     "output_type": "display_data"
    }
   ],
   "source": [
    "plt.xlabel(\"Petal Length\")\n",
    "plt.ylabel(\"PC1\")\n",
    "plt.scatter(x_df['PetalLengthCm'],y_df['PC1'],color=['green'])"
   ]
  },
  {
   "cell_type": "code",
   "execution_count": 548,
   "id": "standing-bristol",
   "metadata": {},
   "outputs": [
    {
     "data": {
      "text/plain": [
       "<matplotlib.collections.PathCollection at 0x23486b7a070>"
      ]
     },
     "execution_count": 548,
     "metadata": {},
     "output_type": "execute_result"
    },
    {
     "data": {
      "image/png": "[encoded data removed]",
      "text/plain": [
       "<Figure size 432x288 with 1 Axes>"
      ]
     },
     "metadata": {
      "needs_background": "light"
     },
     "output_type": "display_data"
    }
   ],
   "source": [
    "plt.xlabel(\"Petal Width\")\n",
    "plt.ylabel(\"PC1\")\n",
    "plt.scatter(x_df['PetalWidthCm'],y_df['PC1'],color=['blue'])"
   ]
  },
  {
   "cell_type": "markdown",
   "id": "smart-needle",
   "metadata": {},
   "source": [
    "## Cosine Distance"
   ]
  },
  {
   "cell_type": "code",
   "execution_count": 511,
   "id": "complete-relevance",
   "metadata": {},
   "outputs": [
    {
     "name": "stdout",
     "output_type": "stream",
     "text": [
      "Cosine Similarity between Sepal Length and PC1 0.12463783944046346\n",
      "Cosine Distance between Sepal Length and PC1 0.8753621605595365\n",
      "\n",
      "Cosine Simlarity between Sepal Width and PC1 -0.06295149896206062\n",
      "Cosine Distance between Sepal Width and PC1 1.0629514989620605\n",
      "\n",
      "Cosine Similarity between Petal Length and PC1 0.4202488148606838\n",
      "Cosine Distance between Petal Length and PC1 0.5797511851393162\n",
      "\n",
      "Cosine Similarity between Petal Width and PC1 0.51702970991952\n",
      "Cosine Distance between Petal Width and PC1 0.48297029008048\n"
     ]
    }
   ],
   "source": [
    "cossim_sepallen=np.dot(x_nf['SepalLengthCm'],y_df['PC1'])/(np.linalg.norm(x_nf['SepalLengthCm'])* np.linalg.norm(y_df['PC1']))\n",
    "print(f\"Cosine Similarity between Sepal Length and PC1\",cossim_sepallen)\n",
    "print(f\"Cosine Distance between Sepal Length and PC1\",1-cossim_sepallen)\n",
    "\n",
    "cossim_sepalwlen=np.dot(x_nf['SepalWidthCm'],y_df['PC1'])/(np.linalg.norm(x_nf['SepalWidthCm'])* np.linalg.norm(y_df['PC1']))\n",
    "print(f\"\\nCosine Simlarity between Sepal Width and PC1\",cossim_sepalwlen)\n",
    "print(f\"Cosine Distance between Sepal Width and PC1\",1-cossim_sepalwlen)\n",
    "\n",
    "cossim_petalllen=np.dot(x_nf['PetalLengthCm'],y_df['PC1'])/(np.linalg.norm(x_nf['PetalLengthCm'])* np.linalg.norm(y_df['PC1']))\n",
    "print(f\"\\nCosine Similarity between Petal Length and PC1\",cossim_petalllen)\n",
    "print(f\"Cosine Distance between Petal Length and PC1\",1-cossim_petalllen)\n",
    "\n",
    "cossim_petalwlen=np.dot(x_nf['PetalWidthCm'],y_df['PC1'])/(np.linalg.norm(x_nf['PetalWidthCm'])* np.linalg.norm(y_df['PC1']))\n",
    "print(f\"\\nCosine Similarity between Petal Width and PC1\",cossim_petalwlen)\n",
    "print(f\"Cosine Distance between Petal Width and PC1\",1-cossim_petalwlen)\n",
    "\n"
   ]
  },
  {
   "cell_type": "markdown",
   "id": "meaningful-withdrawal",
   "metadata": {},
   "source": [
    "### Yes, here cosine similarity measures the similarity between Petal Length and Petal Width, and it's cosine value are nearly similar which means these 2 vector are roughly in same direction. Also graph plotted are similar in nature of both the feature i.e. of Petal Length and Petal Width, as when projected with first principal component."
   ]
  },
  {
   "cell_type": "markdown",
   "id": "typical-bullet",
   "metadata": {},
   "source": [
    "# Correlation Coefficient of each feature with Principal Component 1"
   ]
  },
  {
   "cell_type": "code",
   "execution_count": 551,
   "id": "further-trash",
   "metadata": {},
   "outputs": [
    {
     "name": "stdout",
     "output_type": "stream",
     "text": [
      "Correlation Coefficient Principal Component vs Sepal Length :  0.8912244788933578\n",
      "Correlation Coefficient Principal Component vs Sepal Width :  -0.4493129756580254\n",
      "\n",
      "Correlation Coefficient Principal Component vs Petal Length :  0.9916844215984975\n",
      "Correlation Coefficient Principal Component vs Petal Width :  0.9649957874713758\n"
     ]
    }
   ],
   "source": [
    "correl1=np.corrcoef(y_df['PC1'], x_df['SepalLengthCm'])\n",
    "print(\"Correlation Coefficient Principal Component vs Sepal Length : \",correl1.item(1))\n",
    "correl2=np.corrcoef(y_df['PC1'], x_df['SepalWidthCm'])\n",
    "print(\"Correlation Coefficient Principal Component vs Sepal Width : \",correl2.item(1))\n",
    "correl3=np.corrcoef(y_df['PC1'], x_df['PetalLengthCm'])\n",
    "print(\"\\nCorrelation Coefficient Principal Component vs Petal Length : \",correl3.item(1))\n",
    "correl4=np.corrcoef(y_df['PC1'], x_df['PetalWidthCm'])\n",
    "print(\"Correlation Coefficient Principal Component vs Petal Width : \",correl4.item(1))"
   ]
  },
  {
   "cell_type": "markdown",
   "id": "catholic-challenge",
   "metadata": {},
   "source": [
    "### Here, we can observe that correelation coefficient of Petal Length and Petal Width are very similar. So, yes, I agree that the results match with the visual inspection as represented above."
   ]
  },
  {
   "cell_type": "code",
   "execution_count": null,
   "id": "confident-cleveland",
   "metadata": {},
   "outputs": [],
   "source": []
  }
 ],
 "metadata": {
  "kernelspec": {
   "display_name": "Python 3",
   "language": "python",
   "name": "python3"
  },
  "language_info": {
   "codemirror_mode": {
    "name": "ipython",
    "version": 3
   },
   "file_extension": ".py",
   "mimetype": "text/x-python",
   "name": "python",
   "nbconvert_exporter": "python",
   "pygments_lexer": "ipython3",
   "version": "3.9.1"
  }
 },
 "nbformat": 4,
 "nbformat_minor": 5
}
